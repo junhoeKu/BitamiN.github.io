{
  "cells": [
    {
      "cell_type": "markdown",
      "metadata": {
        "id": "4RM6yNsM_sWQ"
      },
      "source": [
        "### 1. 아래 빈칸을 채워 입력 행렬과, 필터 행렬의 합성곱을 구하는 함수를 완성해 주세요. (20점)"
      ]
    },
    {
      "cell_type": "code",
      "execution_count": null,
      "metadata": {
        "colab": {
          "base_uri": "https://localhost:8080/"
        },
        "id": "jwwCcTxLESOg",
        "outputId": "ba42c9c2-2813-440f-c979-519c34a834a8"
      },
      "outputs": [
        {
          "output_type": "stream",
          "name": "stdout",
          "text": [
            "입력 행렬:\n",
            "[[  1   1   1   1   1]\n",
            " [  1  10   1   1   1]\n",
            " [  1   1 100   1   1]\n",
            " [  1   1   1  10   1]\n",
            " [  1   1   1   1   1]]\n",
            "\n",
            "필터 행렬:\n",
            "[[ 1  1  1]\n",
            " [ 1 -1  1]\n",
            " [ 1  1  1]]\n",
            "\n",
            "Convolution 결과:\n",
            "[[ 97. 115. 106.]\n",
            " [115. -74. 115.]\n",
            " [106. 115.  97.]]\n"
          ]
        }
      ],
      "source": [
        "import numpy as np\n",
        "\n",
        "def convolution(input_matrix, filter_matrix):\n",
        "    # 입력 행렬과 필터 행렬의 크기를 확인\n",
        "    input_rows, input_cols = input_matrix.shape\n",
        "    filter_rows, filter_cols = filter_matrix.shape\n",
        "\n",
        "    # 필터가 입력 행렬보다 작아야 연산 가능\n",
        "    if filter_rows > input_rows or filter_cols > input_cols:\n",
        "        raise ValueError()\n",
        "\n",
        "    # convolution 결과를 저장할 빈 행렬 생성 stride와 padding은 없다고 가정\n",
        "    result_matrix = np.zeros((input_rows - filter_rows + 1, input_cols - filter_cols + 1))\n",
        "\n",
        "    # convolution 연산 수행\n",
        "    for i in range(result_matrix.shape[0]):\n",
        "        for j in range(result_matrix.shape[1]):\n",
        "            result_matrix[i, j] = np.sum(input_matrix[i:i+filter_rows, j:j+filter_cols] * filter_matrix)\n",
        "\n",
        "    return result_matrix\n",
        "\n",
        "# 예시를 위해 간단한 행렬 생성\n",
        "input_matrix = np.array([[1, 1, 1, 1, 1],\n",
        "                         [1, 10, 1, 1, 1],\n",
        "                         [1, 1, 100, 1, 1],\n",
        "                         [1, 1, 1, 10, 1],\n",
        "                         [1, 1, 1, 1, 1]]) # 5X5 행렬로 원하는 값을 넣어주세요\n",
        "\n",
        "filter_matrix = np.array([[1, 1, 1],\n",
        "                          [1, -1, 1],\n",
        "                          [1, 1, 1]]) # 3X3 행렬로 원하는 값을 넣어주세요\n",
        "\n",
        "# convolution 연산 수행\n",
        "result = convolution(input_matrix, filter_matrix)\n",
        "\n",
        "print(\"입력 행렬:\")\n",
        "print(input_matrix)\n",
        "\n",
        "print(\"\\n필터 행렬:\")\n",
        "print(filter_matrix)\n",
        "\n",
        "print(\"\\nConvolution 결과:\")\n",
        "print(result)\n"
      ]
    },
    {
      "cell_type": "markdown",
      "metadata": {
        "id": "q5zIFLy3ES8G"
      },
      "source": [
        "### 2. ReLU함수를 만들어 위의 result에 적용해 주세요(5점)"
      ]
    },
    {
      "cell_type": "code",
      "execution_count": null,
      "metadata": {
        "colab": {
          "base_uri": "https://localhost:8080/"
        },
        "id": "x7GWsbiV9qtW",
        "outputId": "eb099d7a-700f-4d24-b0a2-e5c5511ce7ea"
      },
      "outputs": [
        {
          "output_type": "stream",
          "name": "stdout",
          "text": [
            "[[ 97. 115. 106.]\n",
            " [115.   0. 115.]\n",
            " [106. 115.  97.]]\n"
          ]
        }
      ],
      "source": [
        "def relu_activation(matrix):\n",
        "    return np.maximum(0, matrix)\n",
        "result_relu = relu_activation(result)\n",
        "\n",
        "print(result_relu)"
      ]
    },
    {
      "cell_type": "markdown",
      "metadata": {
        "id": "PN65dLfN9q3U"
      },
      "source": [
        "### 3-1. input size가 256, filter size가 4, stride가 3, padding이 2일때 feature map의 크기를 말해주세요 (5점)"
      ]
    },
    {
      "cell_type": "markdown",
      "metadata": {
        "id": "RUrFWtXy9q-j"
      },
      "source": [
        "답) 86.33 -> 정수로 내림해주면 86 입니다.\n"
      ]
    },
    {
      "cell_type": "markdown",
      "metadata": {
        "id": "0cT13lu_STUi"
      },
      "source": [
        "### 3-2. 다음 RGB 커널을 적용했을 때, 노란색 부분에 들어갈 수를 구하시오 (7점)."
      ]
    },
    {
      "cell_type": "markdown",
      "metadata": {
        "id": "bv7LuRXaSTUj"
      },
      "source": [
        "![12.PNG](attachment:12.PNG)"
      ]
    },
    {
      "cell_type": "markdown",
      "metadata": {
        "id": "vmVvPOoYSTUj"
      },
      "source": [
        "답) 189 입니다."
      ]
    },
    {
      "cell_type": "markdown",
      "metadata": {
        "id": "H-okvwGvSTUj"
      },
      "source": [
        "### 3-3. CNN에서 Padding을 적용하는 이유를 설명하시오 (3점)"
      ]
    },
    {
      "cell_type": "markdown",
      "metadata": {
        "id": "_90ouBpXSTUj"
      },
      "source": [
        "답) 계속 필터를 적용할 때, 이미지 소실 문제를 줄이기 위함입니다."
      ]
    },
    {
      "cell_type": "markdown",
      "metadata": {
        "id": "TdF7kYZ9STUj"
      },
      "source": [
        "### 4. 다음 조건에 따라 코드를 완성하시오. (10점)"
      ]
    },
    {
      "cell_type": "markdown",
      "metadata": {
        "id": "ESi3ona6STUk"
      },
      "source": [
        "1) input size: 32 X 32 X 3\n",
        "\n",
        "2) Convolution Layer Activation Function: 'ReLU'\n",
        "\n",
        "3) Filter 크기: 3, Filter 개수: 32\n",
        "\n",
        "4) MaxPooling 창 크기: 2\n",
        "\n",
        "5) 두 번의 완전 연결층:\n",
        "\n",
        "    1) 노드 개수 64, 활성화함수: 'ReLU'\n",
        "\n",
        "    2) 노드 개수 1, 활성화함수: 'Sigmoid'"
      ]
    },
    {
      "cell_type": "code",
      "execution_count": null,
      "metadata": {
        "colab": {
          "base_uri": "https://localhost:8080/"
        },
        "id": "H-lpHzTXSTUk",
        "outputId": "f385c001-a638-4b8c-d3d9-8291d6626d4c"
      },
      "outputs": [
        {
          "output_type": "stream",
          "name": "stdout",
          "text": [
            "Epoch 1/10\n",
            "32/32 [==============================] - 2s 31ms/step - loss: 0.7097 - accuracy: 0.5260\n",
            "Epoch 2/10\n",
            "32/32 [==============================] - 1s 31ms/step - loss: 0.6918 - accuracy: 0.5190\n",
            "Epoch 3/10\n",
            "32/32 [==============================] - 1s 27ms/step - loss: 0.6792 - accuracy: 0.6180\n",
            "Epoch 4/10\n",
            "32/32 [==============================] - 1s 19ms/step - loss: 0.6611 - accuracy: 0.5980\n",
            "Epoch 5/10\n",
            "32/32 [==============================] - 1s 19ms/step - loss: 0.6337 - accuracy: 0.6670\n",
            "Epoch 6/10\n",
            "32/32 [==============================] - 1s 19ms/step - loss: 0.6082 - accuracy: 0.6710\n",
            "Epoch 7/10\n",
            "32/32 [==============================] - 1s 19ms/step - loss: 0.5522 - accuracy: 0.7700\n",
            "Epoch 8/10\n",
            "32/32 [==============================] - 1s 20ms/step - loss: 0.4757 - accuracy: 0.8910\n",
            "Epoch 9/10\n",
            "32/32 [==============================] - 1s 19ms/step - loss: 0.3920 - accuracy: 0.9250\n",
            "Epoch 10/10\n",
            "32/32 [==============================] - 1s 20ms/step - loss: 0.3330 - accuracy: 0.9630\n"
          ]
        },
        {
          "output_type": "execute_result",
          "data": {
            "text/plain": [
              "<keras.src.callbacks.History at 0x7d5698115d80>"
            ]
          },
          "metadata": {},
          "execution_count": 9
        }
      ],
      "source": [
        "import numpy as np\n",
        "import tensorflow as tf\n",
        "from tensorflow.keras.models import Sequential\n",
        "from tensorflow.keras.layers import Conv2D, MaxPooling2D, Flatten, Dense\n",
        "\n",
        "# 무작위 데이터 생성\n",
        "X = np.random.rand(1000, 32, 32, 3)  # 1000개의 32x32 RGB 이미지\n",
        "y = np.random.randint(2, size=(1000, 1))  # 0 또는 1의 레이블\n",
        "\n",
        "# 모델 구축\n",
        "model = Sequential([\n",
        "    Conv2D(32, (3, 3), activation='relu', input_shape=(32, 32, 3)),\n",
        "    MaxPooling2D(pool_size=(2, 2)),\n",
        "    Flatten(),\n",
        "    Dense(64, activation='relu'),\n",
        "    Dense(1, activation='sigmoid')])\n",
        "\n",
        "# 모델 컴파일\n",
        "model.compile(optimizer='adam', loss='binary_crossentropy', metrics=['accuracy'])\n",
        "\n",
        "# 모델 훈련\n",
        "model.fit(X, y, epochs=10, batch_size=32)"
      ]
    },
    {
      "cell_type": "markdown",
      "metadata": {
        "id": "FWByh10XSTUk"
      },
      "source": [
        "### 5번. Pooling"
      ]
    },
    {
      "cell_type": "code",
      "execution_count": null,
      "metadata": {
        "id": "g6FEXvBzSTUk"
      },
      "outputs": [],
      "source": [
        "import torch\n",
        "import torch.nn as nn\n",
        "from torch.utils.data import DataLoader\n",
        "\n",
        "import torchvision\n",
        "from torchvision.datasets import MNIST\n",
        "import torchvision.transforms as transforms\n",
        "import numpy as np\n",
        "\n",
        "import matplotlib.pyplot as plt"
      ]
    },
    {
      "cell_type": "markdown",
      "metadata": {
        "id": "3ZcXcZWDSTUl"
      },
      "source": [
        "Load MNIST Dataset\n",
        "- https://pytorch.org/vision/0.8/datasets.html#mnist"
      ]
    },
    {
      "cell_type": "markdown",
      "metadata": {
        "id": "_W4vvKbRSTUl"
      },
      "source": [
        "### 5-1번\n",
        "**[문제]** 아래의 `#### YOUR CODE ####` 부분을 모두 채워주세요. (6점)"
      ]
    },
    {
      "cell_type": "code",
      "execution_count": null,
      "metadata": {
        "id": "HGSA8ZeWSTUl"
      },
      "outputs": [],
      "source": [
        "# load mnist dataset\n",
        "\n",
        "# 평균=0.5, 표준편차=1.0이 되도록 데이터의 분포(normalize)를 조정\n",
        "mnist_transform = transforms.Compose([\n",
        "    transforms.ToTensor(),\n",
        "    transforms.Normalize((0.5,), (1.0,))\n",
        "])\n",
        "\n",
        "\n",
        "download_root = \"/data/MNIST_DATASET\"    # 내려받을 경로 지정\n",
        "\n",
        "mnist_train = MNIST(root = download_root, train = True,\n",
        "                      transform=mnist_transform, download=True)"
      ]
    },
    {
      "cell_type": "code",
      "execution_count": null,
      "metadata": {
        "colab": {
          "base_uri": "https://localhost:8080/"
        },
        "id": "7JDEkB39STUl",
        "outputId": "03f07d6a-9593-450b-c0b7-37292b08a8ed"
      },
      "outputs": [
        {
          "output_type": "stream",
          "name": "stdout",
          "text": [
            "torch.Size([1, 28, 28]) 5\n"
          ]
        }
      ],
      "source": [
        "########################### 실   행 ###########################\n",
        "\n",
        "# dataset[idx]로 첫번째 이미지(텐서)와 라벨 출력\n",
        "image, label = mnist_train[0]\n",
        "print(image.size(), label)\n",
        "\n",
        "###############################################################"
      ]
    },
    {
      "cell_type": "markdown",
      "metadata": {
        "id": "y8sXFQshSTUl"
      },
      "source": [
        "### 5-2번\n",
        "**[문제]** : 위 코드를 실행했을 때 나오는 각 숫자가 나타내는 바는? (정상적인 출력에 의하면 4개의 숫자가 보이게 됩니다) (6점)"
      ]
    },
    {
      "cell_type": "markdown",
      "source": [
        "답) 1은 채널 크기, 28은 각각 가로세로 크기, 5는 라벨로서 숫자 5를 나타냅니다."
      ],
      "metadata": {
        "id": "Vd4EbUSaGxHV"
      }
    },
    {
      "cell_type": "code",
      "execution_count": null,
      "metadata": {
        "colab": {
          "base_uri": "https://localhost:8080/",
          "height": 452
        },
        "id": "_QX5sT9eSTUm",
        "outputId": "67fae67c-15e1-4a3b-afcb-c7c330fa1c9e"
      },
      "outputs": [
        {
          "output_type": "display_data",
          "data": {
            "text/plain": [
              "<Figure size 640x480 with 1 Axes>"
            ],
            "image/png": "[encoded data removed]"
          },
          "metadata": {}
        }
      ],
      "source": [
        "########################### 실   행 ###########################\n",
        "\n",
        "# 0번째 이미지 시각화 (원본)\n",
        "plt.figure()\n",
        "plt.title(\"MNIST LABEL {}\".format(label))\n",
        "plt.imshow(image[0], cmap=\"gray\")\n",
        "plt.show()\n",
        "\n",
        "###############################################################"
      ]
    },
    {
      "cell_type": "markdown",
      "metadata": {
        "id": "dnrnGkDFSTUm"
      },
      "source": [
        "### 5-3번\n",
        "**[문제]** 아래의 `#### YOUR CODE ####` 부분을 모두 채워주세요. (7점)"
      ]
    },
    {
      "cell_type": "code",
      "execution_count": null,
      "metadata": {
        "colab": {
          "base_uri": "https://localhost:8080/"
        },
        "id": "pI-N9AT7STUm",
        "outputId": "a1818ec2-5689-492d-9db7-bbd8ddefcae0"
      },
      "outputs": [
        {
          "output_type": "stream",
          "name": "stdout",
          "text": [
            "torch.Size([1, 14, 14])\n",
            "torch.Size([1, 14, 14])\n",
            "torch.Size([1, 9, 9])\n",
            "torch.Size([1, 9, 9])\n"
          ]
        }
      ],
      "source": [
        "# output_1 : max 풀링, 윈도우 크기 = 2\n",
        "# output_2 : avg 풀링, 윈도우 크기 = 2\n",
        "# output_3 : max 풀링, 윈도우 크기 = 3\n",
        "# output_4 : avg 풀링, 윈도우 크기 = 3\n",
        "\n",
        "max_pool_2 = nn.MaxPool2d(kernel_size=2)\n",
        "output_1 = max_pool_2(image)\n",
        "print(output_1.size())\n",
        "\n",
        "avg_pool_2 = nn.AvgPool2d(kernel_size=2)\n",
        "output_2 = avg_pool_2(image)\n",
        "print(output_2.size())\n",
        "\n",
        "max_pool_3 = nn.MaxPool2d(kernel_size=3)\n",
        "output_3 = max_pool_3(image)\n",
        "print(output_3.size())\n",
        "\n",
        "avg_pool_3 = nn.AvgPool2d(kernel_size=3)\n",
        "output_4 = avg_pool_3(image)\n",
        "print(output_4.size())"
      ]
    },
    {
      "cell_type": "code",
      "execution_count": null,
      "metadata": {
        "colab": {
          "base_uri": "https://localhost:8080/",
          "height": 545
        },
        "id": "Gyaz-Q8jSTUm",
        "outputId": "485e93c6-3ce6-41cc-8191-795eec859ae5"
      },
      "outputs": [
        {
          "output_type": "display_data",
          "data": {
            "text/plain": [
              "<Figure size 600x600 with 4 Axes>"
            ],
            "image/png": "[encoded data removed]"
          },
          "metadata": {}
        }
      ],
      "source": [
        "########################## 실행 ##########################\n",
        "\n",
        "fig, axs = plt.subplots(2, 2, figsize=(6, 6)) # figsize는 적절히 조정 가능\n",
        "\n",
        "# 첫 번째 이미지\n",
        "axs[0, 0].imshow(output_1[0], cmap='gray')\n",
        "axs[0, 0].title.set_text('MAX Pool 2')\n",
        "\n",
        "# 두 번째 이미지\n",
        "axs[0, 1].imshow(output_2[0], cmap='gray')\n",
        "axs[0, 1].title.set_text('AVG Pool 2')\n",
        "\n",
        "# 세 번째 이미지\n",
        "axs[1, 0].imshow(output_3[0], cmap='gray')\n",
        "axs[1, 0].title.set_text('MAX Pool 3')\n",
        "\n",
        "# 네 번째 이미지\n",
        "axs[1, 1].imshow(output_4[0], cmap='gray')\n",
        "axs[1, 1].title.set_text('AVG Pool 3')\n",
        "\n",
        "# 전체 그림을 보여줍니다.\n",
        "plt.show()\n",
        "\n",
        "##########################################################"
      ]
    },
    {
      "cell_type": "markdown",
      "metadata": {
        "id": "d1rXcHa_STUm"
      },
      "source": [
        "### 5-4번\n",
        "**[문제]** : 위 출력 결과를 보았을 때, Max Pooling과 Avg Pooling 중 어떤 방법을 취했을 때 더 숫자가 잘 인식되나요? 이유도 생각해 봅시다. (자유롭게 서술) (6점)"
      ]
    },
    {
      "cell_type": "markdown",
      "source": [
        "답) maxpooling 입니다.잘 인식되서 많이 쓰이는게 아닐까요? ㅎㅎ"
      ],
      "metadata": {
        "id": "DktkGANPIBNS"
      }
    },
    {
      "cell_type": "markdown",
      "metadata": {
        "id": "MSgcnLWWSTUm"
      },
      "source": [
        "### 6번. 손글씨 mnist 데이터 셋으로 실습해보기"
      ]
    },
    {
      "cell_type": "markdown",
      "metadata": {
        "id": "hJmhBItdSTUn"
      },
      "source": [
        "아래 코드를 실행해주세요.(문제 X)"
      ]
    },
    {
      "cell_type": "code",
      "execution_count": null,
      "metadata": {
        "id": "MfA7zDKqSTUn"
      },
      "outputs": [],
      "source": [
        "#라이브러리 호출\n",
        "\n",
        "import numpy as np\n",
        "import matplotlib.pyplot as plt\n",
        "\n",
        "import torch\n",
        "import torch.nn as nn\n",
        "from torch.autograd import Variable\n",
        "import torch.nn.functional as F\n",
        "\n",
        "import torchvision\n",
        "import torchvision.transforms as transforms\n",
        "from torchvision import datasets, transforms\n",
        "from torch.utils.data import Dataset, DataLoader\n",
        "\n",
        "device = torch.device(\"cuda:0\" if torch.cuda.is_available() else \"cpu\")"
      ]
    },
    {
      "cell_type": "code",
      "execution_count": null,
      "metadata": {
        "colab": {
          "base_uri": "https://localhost:8080/"
        },
        "id": "YvwVWp1hSTUo",
        "outputId": "83d50e5c-94b0-4ef8-9961-d0fd9439a773"
      },
      "outputs": [
        {
          "output_type": "stream",
          "name": "stdout",
          "text": [
            "Downloading http://yann.lecun.com/exdb/mnist/train-images-idx3-ubyte.gz\n",
            "Downloading http://yann.lecun.com/exdb/mnist/train-images-idx3-ubyte.gz to dataset/MNIST/raw/train-images-idx3-ubyte.gz\n"
          ]
        },
        {
          "output_type": "stream",
          "name": "stderr",
          "text": [
            "100%|██████████| 9912422/9912422 [00:00<00:00, 78297155.45it/s]\n"
          ]
        },
        {
          "output_type": "stream",
          "name": "stdout",
          "text": [
            "Extracting dataset/MNIST/raw/train-images-idx3-ubyte.gz to dataset/MNIST/raw\n",
            "\n",
            "Downloading http://yann.lecun.com/exdb/mnist/train-labels-idx1-ubyte.gz\n",
            "Downloading http://yann.lecun.com/exdb/mnist/train-labels-idx1-ubyte.gz to dataset/MNIST/raw/train-labels-idx1-ubyte.gz\n"
          ]
        },
        {
          "output_type": "stream",
          "name": "stderr",
          "text": [
            "100%|██████████| 28881/28881 [00:00<00:00, 30246115.81it/s]\n"
          ]
        },
        {
          "output_type": "stream",
          "name": "stdout",
          "text": [
            "Extracting dataset/MNIST/raw/train-labels-idx1-ubyte.gz to dataset/MNIST/raw\n",
            "\n",
            "Downloading http://yann.lecun.com/exdb/mnist/t10k-images-idx3-ubyte.gz\n",
            "Downloading http://yann.lecun.com/exdb/mnist/t10k-images-idx3-ubyte.gz to dataset/MNIST/raw/t10k-images-idx3-ubyte.gz\n"
          ]
        },
        {
          "output_type": "stream",
          "name": "stderr",
          "text": [
            "100%|██████████| 1648877/1648877 [00:00<00:00, 23841406.64it/s]\n"
          ]
        },
        {
          "output_type": "stream",
          "name": "stdout",
          "text": [
            "Extracting dataset/MNIST/raw/t10k-images-idx3-ubyte.gz to dataset/MNIST/raw\n",
            "\n",
            "Downloading http://yann.lecun.com/exdb/mnist/t10k-labels-idx1-ubyte.gz\n",
            "Downloading http://yann.lecun.com/exdb/mnist/t10k-labels-idx1-ubyte.gz to dataset/MNIST/raw/t10k-labels-idx1-ubyte.gz\n"
          ]
        },
        {
          "output_type": "stream",
          "name": "stderr",
          "text": [
            "100%|██████████| 4542/4542 [00:00<00:00, 5023873.62it/s]\n"
          ]
        },
        {
          "output_type": "stream",
          "name": "stdout",
          "text": [
            "Extracting dataset/MNIST/raw/t10k-labels-idx1-ubyte.gz to dataset/MNIST/raw\n",
            "\n"
          ]
        }
      ],
      "source": [
        "# mnist 데이터셋 내려받고 데이터 로더에 전달\n",
        "\n",
        "train_dataset  = datasets.MNIST(root = 'dataset',\n",
        "                            train=True,\n",
        "                            download=True,\n",
        "                            transform=transforms.ToTensor())\n",
        "\n",
        "test_dataset  = datasets.MNIST(root = 'dataset',\n",
        "                            train=False,\n",
        "                            download=True,\n",
        "                            transform=transforms.ToTensor())\n",
        "\n",
        "train_loader = torch.utils.data.DataLoader(train_dataset,\n",
        "                                           batch_size=100)\n",
        "test_loader = torch.utils.data.DataLoader(test_dataset,\n",
        "                                          batch_size=100)"
      ]
    },
    {
      "cell_type": "code",
      "execution_count": null,
      "metadata": {
        "colab": {
          "base_uri": "https://localhost:8080/",
          "height": 675
        },
        "id": "VPwfwFpiSTUo",
        "outputId": "295f408b-27e3-4616-bf4d-7e0ab33621bb"
      },
      "outputs": [
        {
          "output_type": "display_data",
          "data": {
            "text/plain": [
              "<Figure size 800x800 with 20 Axes>"
            ],
            "image/png": "[encoded data removed]"
          },
          "metadata": {}
        }
      ],
      "source": [
        "# 손글씨 데이터셋 시각화\n",
        "\n",
        "fig = plt.figure(figsize=(8,8));\n",
        "columns = 4;\n",
        "rows = 5;\n",
        "for i in range(1, columns*rows +1):\n",
        "    img_xy = np.random.randint(len(train_dataset));\n",
        "    img = train_dataset[img_xy][0][0,:,:]\n",
        "    fig.add_subplot(rows, columns, i)\n",
        "    plt.title([train_dataset[img_xy][1]])\n",
        "    plt.axis('off')\n",
        "    plt.imshow(img, cmap='gray')\n",
        "plt.show()"
      ]
    },
    {
      "cell_type": "markdown",
      "metadata": {
        "id": "wkxxaD7hSTUp"
      },
      "source": [
        "### 6-1번\n",
        "\n",
        "** 여기부터 문제입니다. <br/>\n",
        "1) 각 layer의 입력 데이터 크기와 출력 크기를 고려하여 ????를 채워 CNNModel을 완성해주세요.(15점) <br/>\n",
        "- 최종적으로는 숫자 10개를 나누는 분류를 수행하는 모델을 완성하고자 합니다.<br/>\n",
        "- 마지막에 multi-class 분류를 위한 activation function으로는 log softmax 함수를 사용하고자 합니다."
      ]
    },
    {
      "cell_type": "code",
      "execution_count": null,
      "metadata": {
        "id": "KFThJRuGSTUp"
      },
      "outputs": [],
      "source": [
        "# 합성곱 네트워크 생성\n",
        "\n",
        "class CNNModel(nn.Module):\n",
        "    def __init__(self):\n",
        "        super().__init__()\n",
        "\n",
        "        self.conv_layers = nn.Sequential (\n",
        "            nn.Conv2d(1, 32, kernel_size=3, stride=1, padding=1),\n",
        "            nn.LeakyReLU(0.1),\n",
        "            nn.BatchNorm2d(32),\n",
        "            nn.MaxPool2d(2),\n",
        "\n",
        "            nn.Conv2d(32, 64, kernel_size=3, stride=1, padding=1),\n",
        "            nn.LeakyReLU(0.1),\n",
        "            nn.BatchNorm2d(64),\n",
        "            nn.MaxPool2d(2),\n",
        "\n",
        "            nn.Conv2d(64, 128, kernel_size=3, stride=1, padding=1),\n",
        "            nn.LeakyReLU(0.1),\n",
        "            nn.BatchNorm2d(128),\n",
        "            nn.MaxPool2d(2)\n",
        "        )\n",
        "\n",
        "        self.linear_layers = nn.Sequential (\n",
        "            nn.Linear(128 * 3 * 3, 128),\n",
        "            nn.LeakyReLU(0.1),\n",
        "            nn.BatchNorm1d(128),\n",
        "            nn.Linear(128, 64),\n",
        "            nn.LeakyReLU(0.1),\n",
        "            nn.BatchNorm1d(64),\n",
        "            nn.Linear(64, 10),\n",
        "            nn.LogSoftmax(dim=-1)\n",
        "        )\n",
        "\n",
        "    def forward(self, x):\n",
        "        x = self.conv_layers(x) # Conv + Pool\n",
        "        x = x.view(x.size(0), -1) # Flatten\n",
        "        x = self.linear_layers(x) # Classification\n",
        "        return x"
      ]
    },
    {
      "cell_type": "markdown",
      "metadata": {
        "id": "5nkFjrbISTUq"
      },
      "source": [
        "### 6-2번\n",
        "\n",
        "2. 합성곱 네트워크를 위한 파라미터를 정의하려고 합니다. ????를 채워주세요. (10점) <br/>\n",
        "- 옵티마이저를 위한 경사 하강법으로는 Adam을 사용하고자 합니다."
      ]
    },
    {
      "cell_type": "code",
      "execution_count": null,
      "metadata": {
        "colab": {
          "base_uri": "https://localhost:8080/"
        },
        "id": "jDkLOi1nSTUq",
        "outputId": "8c18af51-0939-4928-b704-21967c7a518d"
      },
      "outputs": [
        {
          "output_type": "stream",
          "name": "stdout",
          "text": [
            "CNNModel(\n",
            "  (conv_layers): Sequential(\n",
            "    (0): Conv2d(1, 32, kernel_size=(3, 3), stride=(1, 1), padding=(1, 1))\n",
            "    (1): LeakyReLU(negative_slope=0.1)\n",
            "    (2): BatchNorm2d(32, eps=1e-05, momentum=0.1, affine=True, track_running_stats=True)\n",
            "    (3): MaxPool2d(kernel_size=2, stride=2, padding=0, dilation=1, ceil_mode=False)\n",
            "    (4): Conv2d(32, 64, kernel_size=(3, 3), stride=(1, 1), padding=(1, 1))\n",
            "    (5): LeakyReLU(negative_slope=0.1)\n",
            "    (6): BatchNorm2d(64, eps=1e-05, momentum=0.1, affine=True, track_running_stats=True)\n",
            "    (7): MaxPool2d(kernel_size=2, stride=2, padding=0, dilation=1, ceil_mode=False)\n",
            "    (8): Conv2d(64, 128, kernel_size=(3, 3), stride=(1, 1), padding=(1, 1))\n",
            "    (9): LeakyReLU(negative_slope=0.1)\n",
            "    (10): BatchNorm2d(128, eps=1e-05, momentum=0.1, affine=True, track_running_stats=True)\n",
            "    (11): MaxPool2d(kernel_size=2, stride=2, padding=0, dilation=1, ceil_mode=False)\n",
            "  )\n",
            "  (linear_layers): Sequential(\n",
            "    (0): Linear(in_features=1152, out_features=128, bias=True)\n",
            "    (1): LeakyReLU(negative_slope=0.1)\n",
            "    (2): BatchNorm1d(128, eps=1e-05, momentum=0.1, affine=True, track_running_stats=True)\n",
            "    (3): Linear(in_features=128, out_features=64, bias=True)\n",
            "    (4): LeakyReLU(negative_slope=0.1)\n",
            "    (5): BatchNorm1d(64, eps=1e-05, momentum=0.1, affine=True, track_running_stats=True)\n",
            "    (6): Linear(in_features=64, out_features=10, bias=True)\n",
            "    (7): LogSoftmax(dim=-1)\n",
            "  )\n",
            ")\n"
          ]
        }
      ],
      "source": [
        "# 합성곱 네트워크를 위한 파라미터 정의\n",
        "\n",
        "learning_rate = 0.001;\n",
        "model = CNNModel();\n",
        "model.to(device)\n",
        "\n",
        "criterion = nn.NLLLoss();\n",
        "optimizer = torch.optim.Adam(model.parameters(), lr=learning_rate);\n",
        "print(model)"
      ]
    },
    {
      "cell_type": "markdown",
      "metadata": {
        "id": "8A5hF1OHSTUq"
      },
      "source": [
        "밑에 코드를 실행시켜 모델을 학습시키고, 성능을 확인해보세요."
      ]
    },
    {
      "cell_type": "code",
      "execution_count": null,
      "metadata": {
        "colab": {
          "base_uri": "https://localhost:8080/"
        },
        "id": "kNvGZYdpSTUr",
        "outputId": "759f4bff-20ec-4a5e-8a68-06074c1c038e"
      },
      "outputs": [
        {
          "output_type": "stream",
          "name": "stdout",
          "text": [
            "Iteration: 500, Loss: 0.03858193755149841, Accuracy: 98.7699966430664%\n",
            "Iteration: 1000, Loss: 0.013786021620035172, Accuracy: 99.13999938964844%\n",
            "Iteration: 1500, Loss: 0.013732417486608028, Accuracy: 99.01000213623047%\n",
            "Iteration: 2000, Loss: 0.0006449465290643275, Accuracy: 99.0199966430664%\n",
            "Iteration: 2500, Loss: 0.028183527290821075, Accuracy: 99.12999725341797%\n",
            "Iteration: 3000, Loss: 0.11083558201789856, Accuracy: 99.19000244140625%\n"
          ]
        }
      ],
      "source": [
        "num_epochs = 5\n",
        "count = 0\n",
        "loss_list = []\n",
        "iteration_list = []\n",
        "accuracy_list = []\n",
        "\n",
        "predictions_list = []\n",
        "labels_list = []\n",
        "\n",
        "for epoch in range(num_epochs):\n",
        "    for images, labels in train_loader:\n",
        "        images, labels = images.to(device), labels.to(device)\n",
        "\n",
        "        train = Variable(images.view(100, 1, 28, 28))\n",
        "        labels = Variable(labels)\n",
        "\n",
        "        outputs = model(train)\n",
        "        loss = criterion(outputs, labels)\n",
        "        optimizer.zero_grad()\n",
        "        loss.backward()\n",
        "        optimizer.step()\n",
        "        count += 1\n",
        "\n",
        "        if not (count % 50):\n",
        "            total = 0\n",
        "            correct = 0\n",
        "            for images, labels in test_loader:\n",
        "                images, labels = images.to(device), labels.to(device)\n",
        "                labels_list.append(labels)\n",
        "                test = Variable(images.view(100, 1, 28, 28))\n",
        "                outputs = model(test)\n",
        "                predictions = torch.max(outputs, 1)[1].to(device)\n",
        "                predictions_list.append(predictions)\n",
        "                correct += (predictions == labels).sum()\n",
        "                total += len(labels)\n",
        "\n",
        "            accuracy = correct * 100 / total\n",
        "            loss_list.append(loss.data)\n",
        "            iteration_list.append(count)\n",
        "            accuracy_list.append(accuracy)\n",
        "\n",
        "        if not (count % 500):\n",
        "            print(\"Iteration: {}, Loss: {}, Accuracy: {}%\".format(count, loss.data, accuracy))"
      ]
    },
    {
      "cell_type": "markdown",
      "metadata": {
        "id": "UdsUdZpaSTUr"
      },
      "source": [
        "## 문제 7. AlexNet을 이용해서 CIFAR 10 이미지 데이터 분류하기 (80점)"
      ]
    },
    {
      "cell_type": "markdown",
      "metadata": {
        "id": "c7MS3SZ5STUr"
      },
      "source": [
        "#### (0) 데이터 전처리  \n",
        "아래 코드를 실행해주세요"
      ]
    },
    {
      "cell_type": "code",
      "execution_count": null,
      "metadata": {
        "id": "ioc5GiRISTU1"
      },
      "outputs": [],
      "source": [
        "import torch\n",
        "import torchvision\n",
        "import torchvision.transforms as transforms\n",
        "from torch.utils.data import DataLoader, Dataset\n",
        "from torchvision.datasets import CIFAR10\n",
        "\n",
        "\n",
        "import torch.nn as nn\n",
        "import torch.nn.functional as F\n",
        "import torch.optim as optim\n",
        "import matplotlib.pyplot as plt\n",
        "from torch.cuda import is_available\n",
        "\n",
        "device='cuda' if is_available() else 'cpu'"
      ]
    },
    {
      "cell_type": "code",
      "execution_count": null,
      "metadata": {
        "colab": {
          "base_uri": "https://localhost:8080/"
        },
        "id": "i_uxINzaSTU1",
        "outputId": "4476e3e1-7f52-4540-9f48-5b9e3785e97b"
      },
      "outputs": [
        {
          "output_type": "stream",
          "name": "stdout",
          "text": [
            "Downloading https://www.cs.toronto.edu/~kriz/cifar-10-python.tar.gz to ./cifar-10-python.tar.gz\n"
          ]
        },
        {
          "output_type": "stream",
          "name": "stderr",
          "text": [
            "100%|██████████| 170498071/170498071 [00:02<00:00, 62817205.49it/s]\n"
          ]
        },
        {
          "output_type": "stream",
          "name": "stdout",
          "text": [
            "Extracting ./cifar-10-python.tar.gz to .\n",
            "Files already downloaded and verified\n"
          ]
        }
      ],
      "source": [
        "transform={\n",
        "    'train':transforms.Compose([\n",
        "                                transforms.Resize((256,256)),\n",
        "                                transforms.RandomResizedCrop((227,227)),\n",
        "                                transforms.RandomHorizontalFlip(),\n",
        "                                transforms.ToTensor(),\n",
        "                                transforms.Normalize((0.5, 0.5, 0.5), (0.5, 0.5, 0.5))\n",
        "            ]),\n",
        "    'test':transforms.Compose([\n",
        "                               transforms.Resize((256,256)),\n",
        "                               transforms.CenterCrop((227,227)),\n",
        "                               transforms.RandomHorizontalFlip(),\n",
        "                               transforms.ToTensor(),\n",
        "                               transforms.Normalize((0.5, 0.5, 0.5), (0.5, 0.5, 0.5))\n",
        "            ])\n",
        "}\n",
        "\n",
        "\n",
        "train_data=CIFAR10(root='.',train=True,transform=transform['test'],download=True)\n",
        "test_data=CIFAR10(root='.',train=False,transform=transform['test'],download=True)\n",
        "\n",
        "trainloader = torch.utils.data.DataLoader(train_data, batch_size=32, shuffle=True)\n",
        "testloader = torch.utils.data.DataLoader(test_data, batch_size=32, shuffle=True)"
      ]
    },
    {
      "cell_type": "markdown",
      "metadata": {
        "id": "v_24-3ghSTU2"
      },
      "source": [
        "#### (1) AlexNet 모델 구축 (50점)  \n",
        "\n",
        "다음 조건에 맞게 AlexNet 모델을 구축하는 코드를 완성해주세요.  \n",
        "- Response-normalization layer는 1번째와 2번째 conv layer 뒤에 위치한다.  \n",
        "- Max-pooling layer는 1,2,5번째 conv layer뒤에 위치한다.   \n",
        "- ReLU는 모든 conv layer와 fc layer뒤에 위치한다.\n",
        "- 처음 두 fc layer뒤에 dropout을 적용한다.  \n",
        "- 각각의 Conv, FC layer는 다음과 같다.  \n",
        "    1. Conv layer1: 224x224x3의 입력 이미지를 11x11x3 크기의 stride가 4인 96개의 커널로 출력한다.  \n",
        "    2. Conv layer2: conv layer1의 출력을 response-normalize, pooling을 거치고 5x5x48 크기의 256개의 커널로 출력한다.  \n",
        "    3. Conv layer3: conv layer2의 출력을 response-normalize, pooling을 거치고 3x3x256 크기의 384개의 커널로 출력한다.  \n",
        "    4. Conv layer4: conv layer3의 출력을 3x3x192 크기의 384개의 커널로 출력한다.  \n",
        "    5. Conv layer5: conv layer4의 출력을 3x3x192 크기의 256개의 커널로 출력한다.  \n",
        "    6. FC layer1: conv layer5의 출력을 pooling을 거치고 4096개로 출력한다.   \n",
        "    7. FC layer2: fc layer1의 출력을 4096개로 출력한다.  \n",
        "    8. FC layer3: fc layer2의 출력을 1000개로 출력한다.\n"
      ]
    },
    {
      "cell_type": "code",
      "execution_count": null,
      "metadata": {
        "id": "kxV9Or28STU2"
      },
      "outputs": [],
      "source": [
        "class AlexNet(nn.Module):\n",
        "    def __init__(self,num_classes=1000):\n",
        "        super(AlexNet,self).__init__()\n",
        "        self.net = nn.Sequential(\n",
        "            nn.Conv2d(3, 96, kernel_size=11, stride=4, padding=2),\n",
        "            nn.ReLU(inplace=True),\n",
        "            nn.LocalResponseNorm(size=5, alpha=0.0001, beta=0.75, k=2),\n",
        "            nn.MaxPool2d(kernel_size=3, stride=2),\n",
        "\n",
        "            nn.Conv2d(96, 256, kernel_size=5, padding=2),\n",
        "            nn.ReLU(inplace=True),\n",
        "            nn.LocalResponseNorm(size=5, alpha=0.0001, beta=0.75, k=2),\n",
        "            nn.MaxPool2d(kernel_size=3, stride=2),\n",
        "\n",
        "            nn.Conv2d(256, 384, kernel_size=3, padding=1),\n",
        "            nn.ReLU(inplace=True),\n",
        "\n",
        "            nn.Conv2d(384, 384, kernel_size=3, padding=1),\n",
        "            nn.ReLU(inplace=True),\n",
        "\n",
        "            nn.Conv2d(384, 256, kernel_size=3, padding=1),\n",
        "            nn.ReLU(inplace=True),\n",
        "            nn.MaxPool2d(kernel_size=3, stride=2)\n",
        "        )\n",
        "        self.fc = nn.Sequential(\n",
        "            nn.Dropout(),\n",
        "            nn.Linear(256 * 6 * 6, 4096),\n",
        "            nn.ReLU(inplace=True),\n",
        "            nn.Dropout(),\n",
        "            nn.Linear(4096, 4096),\n",
        "            nn.ReLU(inplace=True),\n",
        "            nn.Linear(4096, num_classes)\n",
        "        )\n",
        "\n",
        "    def forward(self,x):\n",
        "        x=self.net(x)\n",
        "        x=torch.flatten(x,1)\n",
        "        x=self.fc(x)\n",
        "        return x"
      ]
    },
    {
      "cell_type": "markdown",
      "metadata": {
        "id": "SQ9vTV3rSTU2"
      },
      "source": [
        "#### (2) 손실함수 및 최적화방법 정의 (5점)  \n",
        "- cross entropy 손실함수 사용  \n",
        "- SGD optimizer 사용 ( lr=0.01, momentum=0.9, weight_decay=0.0005로 설정 )"
      ]
    },
    {
      "cell_type": "code",
      "execution_count": null,
      "metadata": {
        "id": "rya3S3UJSTU2"
      },
      "outputs": [],
      "source": [
        "model = AlexNet(num_classes=10)\n",
        "\n",
        "# 손실함수 정의\n",
        "criterion = nn.CrossEntropyLoss()\n",
        "\n",
        "# optimizer 정의\n",
        "optimizer = optim.SGD(model.parameters(), lr=0.01, momentum=0.9, weight_decay=0.0005)\n",
        "\n",
        "model=model.to(device)\n",
        "criterion=criterion.to(device)"
      ]
    },
    {
      "cell_type": "markdown",
      "metadata": {
        "id": "4SBKRwxPSTU2"
      },
      "source": [
        "#### (3) 모델 학습 (15점)  \n",
        "colab에서 GPU / TPU 사용하면 조금 더 빠르게 실행 가능합니다 ｡ ｡"
      ]
    },
    {
      "cell_type": "code",
      "execution_count": null,
      "metadata": {
        "colab": {
          "base_uri": "https://localhost:8080/",
          "height": 148
        },
        "id": "2FhRLUDwSTU3",
        "outputId": "fe31f354-75e6-4180-a713-67902ffebd8b"
      },
      "outputs": [
        {
          "output_type": "error",
          "ename": "SyntaxError",
          "evalue": "invalid syntax (<ipython-input-1-2f2ddf8675bd>, line 14)",
          "traceback": [
            "\u001b[0;36m  File \u001b[0;32m\"<ipython-input-1-2f2ddf8675bd>\"\u001b[0;36m, line \u001b[0;32m14\u001b[0m\n\u001b[0;31m    outputs = ???\u001b[0m\n\u001b[0m              ^\u001b[0m\n\u001b[0;31mSyntaxError\u001b[0m\u001b[0;31m:\u001b[0m invalid syntax\n"
          ]
        }
      ],
      "source": [
        "loss_ =[]\n",
        "\n",
        "n = len(trainloader) #배치 개수\n",
        "\n",
        "for epoch in range(50):\n",
        "    running_loss = 0.0\n",
        "    for data in trainloader:\n",
        "        inputs, labels = data[0].to(device), data[1].to(device)\n",
        "\n",
        "        # gradient를 0으로 초기화\n",
        "        optimizer.zero_grad()\n",
        "\n",
        "        # 예측값 산출\n",
        "        outputs = model(inputs)\n",
        "\n",
        "        # 손실함수 계산\n",
        "        loss = criterion(outputs, labels)\n",
        "\n",
        "        # 손실함수 기준으로 역전파\n",
        "        loss.backward()\n",
        "\n",
        "        # 가중치 최적화\n",
        "        optimizer.step()\n",
        "\n",
        "        running_loss += loss.item()\n",
        "\n",
        "    loss_.append(running_loss / n)\n",
        "    print('[%d] loss: %.3f' %(epoch +1, running_loss / len(trainloader)))"
      ]
    },
    {
      "cell_type": "markdown",
      "metadata": {
        "id": "Ifn1LjyeSTU3"
      },
      "source": [
        "#### (4) 모델 평가 (10점)"
      ]
    },
    {
      "cell_type": "code",
      "execution_count": null,
      "metadata": {
        "id": "bfTqY5tbSTU3"
      },
      "outputs": [],
      "source": [
        "correct = 0\n",
        "total = 0\n",
        "with torch.no_grad():\n",
        "    alexnet.eval()\n",
        "    for data in testloader:\n",
        "        images, labels = data[0].to(device), data[1].to(device)\n",
        "        outputs = alexnet(images)\n",
        "        _, predicted = torch.max(outputs, 1)\n",
        "\n",
        "        # 개수 누적(총 개수)\n",
        "        total += labels.size(0)\n",
        "        # 누적(맞으면 1, 틀리면 0으로 합산)\n",
        "        correct += (predicted == labels).sum().item()\n",
        "\n",
        "print('Test accuracy: %.2f %%' % (100 * correct / total))"
      ]
    },
    {
      "cell_type": "markdown",
      "metadata": {
        "id": "7LiE8833STU4"
      },
      "source": [
        "## 문제 8. ResNet (20점)"
      ]
    },
    {
      "cell_type": "markdown",
      "metadata": {
        "id": "3zITznyTSTU4"
      },
      "source": [
        "#### (1) 빈칸을 채워주세요.  (5점)\n",
        "(a) Deep Residual Learning for Image Recognition 논문에서는 (&nbsp;&nbsp;&nbsp;&nbsp;&nbsp;) 를 학습에 사용하는 것으로 레이어를 재구성한다.  \n",
        "(b) (&nbsp;&nbsp;&nbsp;&nbsp;&nbsp;) 은 네트워크가 깊어질수록 성능이 저하되는 문제이다.  \n",
        "(c) (&nbsp;&nbsp;&nbsp;&nbsp;&nbsp;) 은 입력을 네트워크의 여러 층을 건너뛰어 출력층 근처에 직접 더해주는 구조이다."
      ]
    },
    {
      "cell_type": "markdown",
      "metadata": {
        "id": "RdWmlc7MSTU5"
      },
      "source": [
        "답 : skip connection / 기울기 소실문제 / Residual connection 입니다."
      ]
    },
    {
      "cell_type": "markdown",
      "metadata": {
        "id": "MsvXrZ3xSTU5"
      },
      "source": [
        "#### (2) ResNet 코드 구현  (15점)\n",
        "다음은 ResNet 네트워크를 구성하는 기본블록과 병목블록을 정의한 코드입니다.  \n",
        "기본블록과 병목블록의 구조적, 기능적 차이를 설명해주세요.  \n",
        "(힌트 : 기본블록을 병목블록으로 변경하면 계층을 더 깊게 쌓으면서 계산에 대한 비용을 줄일 수 있습니다.)"
      ]
    },
    {
      "cell_type": "code",
      "execution_count": null,
      "metadata": {
        "id": "W4ASr3h-STU5"
      },
      "outputs": [],
      "source": [
        "#기본블록 정의\n",
        "class BasicBlock(nn.Module):\n",
        "    expansion = 1\n",
        "\n",
        "    def __init__(self, in_channels, out_channels, stride=1, downsample=False):\n",
        "        super().__init__()\n",
        "        self.conv1 = nn.Conv2d(in_channels, out_channels, kernel_size=3, stride=stride, padding=1, bias=False)\n",
        "        self.bn1 = nn.BatchNorm2d(out_channels)\n",
        "        self.conv2 = nn.Conv2d(out_channels, out_channels, kernel_size=3, stride=1, padding=1, bias=False)\n",
        "        self.bn2 = nn.BatchNorm2d(out_channels)\n",
        "        self.relu = nn.ReLU(inplace=True)\n",
        "\n",
        "        if downsample:\n",
        "            conv = nn.Conv2d(in_channels, out_channels, kernel_size=1, stride=stride, bias=False)\n",
        "            bn = nn.BatchNorm2d(out_channels)\n",
        "            downsample = nn.Sequential(conv, bn)\n",
        "        else:\n",
        "            downsample = None\n",
        "        self.downsample = downsample\n",
        "\n",
        "    def forward(self, x):\n",
        "        i = x\n",
        "        x = self.conv1(x)\n",
        "        x = self.bn1(x)\n",
        "        x = self.relu(x)\n",
        "        x = self.conv2(x)\n",
        "        x = self.bn2(x)\n",
        "\n",
        "        if self.downsample is not None:\n",
        "            i = self.downsample(i)\n",
        "\n",
        "        x += I\n",
        "        x = self.relu(x)\n",
        "\n",
        "        return x"
      ]
    },
    {
      "cell_type": "code",
      "execution_count": null,
      "metadata": {
        "id": "B85agUi1STU6"
      },
      "outputs": [],
      "source": [
        "#병목 블록 정의\n",
        "class Bottleneck(nn.Module):\n",
        "    expansion = 4\n",
        "\n",
        "    def __init__(self, in_channels, out_channels, stride=1, downsample=False):\n",
        "        super().__init__()\n",
        "        self.conv1 = nn.Conv2d(in_channels, out_channels, kernel_size=1, stride=1, bias=False)\n",
        "        self.bn1 = nn.BatchNorm2d(out_channels)\n",
        "        self.conv2 = nn.Conv2d(out_channels, out_channels, kernel_size=3, stride=stride, padding=1, bias=False)\n",
        "        self.bn2 = nn.BatchNorm2d(out_channels)\n",
        "        self.conv3 = nn.Conv2d(out_channels, self.expansion*out_channels, kernel_size=1, stride=1, bias=False)\n",
        "        self.bn3 = nn.BatchNorm2d(self.expansion*out_channels)\n",
        "        self.relu = nn.ReLU(inplace=True)\n",
        "\n",
        "        if downsample:\n",
        "            conv = nn.Conv2d(in_channels, self.expansion*out_channels, kernel_size=1, stride=stride, bias=False)\n",
        "            bn = nn.BatchNorm2d(self.expansion*out_channels)\n",
        "            downsample = nn.Sequential(conv, bn)\n",
        "        else:\n",
        "            downsample = None\n",
        "            self.downsample = downsample\n",
        "\n",
        "    def forward(self, x):\n",
        "        i = x\n",
        "        x = self.conv1(x)\n",
        "        x = self.bn1(x)\n",
        "        x = self.relu(x)\n",
        "        x = self.conv2(x)\n",
        "        x = self.bn2(x)\n",
        "        x = self.relu(x)\n",
        "        x = self.conv3(x)\n",
        "        x = self.bn3(x)\n",
        "\n",
        "        if self.downsample is not None:\n",
        "            i = self.downsample(i)\n",
        "\n",
        "        x += i\n",
        "        x = self.relu(x)\n",
        "        return x"
      ]
    },
    {
      "cell_type": "markdown",
      "metadata": {
        "id": "W5pHvnqFSTU7"
      },
      "source": [
        "답 : 구조적으로는 층 개수가 다르고 기본블록은 입출력 차원이 동일한 반면 병목블록은 입출력 차원에 차이가 있습니다. 기능적으로는 기본블록은 파라미터가 적고 초기 resnet에서 사용되었지만 병목블록은 파라미터를 많이 사용하며 복잡한 구조라도 학습할 수 있도록 합니다."
      ]
    },
    {
      "cell_type": "code",
      "source": [],
      "metadata": {
        "id": "jCCkGHAIQL7X"
      },
      "execution_count": null,
      "outputs": []
    }
  ],
  "metadata": {
    "colab": {
      "provenance": [],
      "gpuType": "T4"
    },
    "kernelspec": {
      "display_name": "Python 3",
      "name": "python3"
    },
    "language_info": {
      "codemirror_mode": {
        "name": "ipython",
        "version": 3
      },
      "file_extension": ".py",
      "mimetype": "text/x-python",
      "name": "python",
      "nbconvert_exporter": "python",
      "pygments_lexer": "ipython3",
      "version": "3.10.5"
    },
    "toc": {
      "base_numbering": 1,
      "nav_menu": {},
      "number_sections": false,
      "sideBar": false,
      "skip_h1_title": false,
      "title_cell": "Table of Contents",
      "title_sidebar": "Contents",
      "toc_cell": false,
      "toc_position": {},
      "toc_section_display": true,
      "toc_window_display": false
    },
    "accelerator": "GPU"
  },
  "nbformat": 4,
  "nbformat_minor": 0
}