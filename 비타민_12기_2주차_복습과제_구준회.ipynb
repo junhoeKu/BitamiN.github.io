{
 "cells": [
  {
   "cell_type": "markdown",
   "id": "457be0c9",
   "metadata": {
    "id": "d3d15e66"
   },
   "source": [
    "# 머신러닝 2차세션 복습과제\n",
    "\n",
    "- 8/29 화요일 23:59 까지 제출\n",
    "- 지각 제출은 8/31 목요일 23:59 까지 허용\n",
    "- 제출 파일명 : 비타민_12기_1주차_복습과제_홍길동.ipynb  로 제출\n",
    "- ipynb 파일로 제출.\n"
   ]
  },
  {
   "cell_type": "markdown",
   "id": "00734306",
   "metadata": {
    "id": "RSL_bo8-Bi_E"
   },
   "source": [
    "## 실습1"
   ]
  },
  {
   "cell_type": "markdown",
   "id": "7f1524e8",
   "metadata": {
    "id": "b4eff3bb"
   },
   "source": [
    "### 문제1\n",
    "와인 품질을 예측하기 위한 데이터셋인 train.csv 입니다. 다음 코드를 로드하세요."
   ]
  },
  {
   "cell_type": "code",
   "execution_count": 4,
   "id": "f82fdca9",
   "metadata": {
    "id": "7a9b9720"
   },
   "outputs": [],
   "source": [
    "from sklearn.ensemble import RandomForestClassifier\n",
    "from sklearn.model_selection import train_test_split\n",
    "from sklearn.metrics import accuracy_score\n",
    "import pandas as pd\n",
    "import numpy as np\n",
    "\n",
    "\n",
    "train=pd.read_csv(\"./비타민/train.csv\")\n",
    "train = train.drop(['index',\"type\"], axis = 1)\n",
    "\n",
    "train_label=train[\"quality\"]\n",
    "train_data=train.drop([\"quality\"], axis = 1)"
   ]
  },
  {
   "cell_type": "markdown",
   "id": "4c3cd78a",
   "metadata": {
    "id": "87fbce34"
   },
   "source": [
    "### 1-1 (8점)\n",
    "train_data 에는 feature dataset 이 , train_label 에는 품질 label 입니다.\n",
    "\n",
    "전체 데이터 세트 중에 테스트 데이터 셋의 비율이 0.3 이 되게 하여 테스트 데이터와 학습데이터를 분류 하세요. (힌트 : train_test_split() 함수를 이용하세요.)\n",
    "  \n",
    " - random_state=11로 설정해주세요"
   ]
  },
  {
   "cell_type": "code",
   "execution_count": 5,
   "id": "ef40f5a9",
   "metadata": {
    "id": "1175d60d"
   },
   "outputs": [
    {
     "data": {
      "text/html": [
       "<div>\n",
       "<style scoped>\n",
       "    .dataframe tbody tr th:only-of-type {\n",
       "        vertical-align: middle;\n",
       "    }\n",
       "\n",
       "    .dataframe tbody tr th {\n",
       "        vertical-align: top;\n",
       "    }\n",
       "\n",
       "    .dataframe thead th {\n",
       "        text-align: right;\n",
       "    }\n",
       "</style>\n",
       "<table border=\"1\" class=\"dataframe\">\n",
       "  <thead>\n",
       "    <tr style=\"text-align: right;\">\n",
       "      <th></th>\n",
       "      <th>fixed acidity</th>\n",
       "      <th>volatile acidity</th>\n",
       "      <th>citric acid</th>\n",
       "      <th>residual sugar</th>\n",
       "      <th>chlorides</th>\n",
       "      <th>free sulfur dioxide</th>\n",
       "      <th>total sulfur dioxide</th>\n",
       "      <th>density</th>\n",
       "      <th>pH</th>\n",
       "      <th>sulphates</th>\n",
       "      <th>alcohol</th>\n",
       "    </tr>\n",
       "  </thead>\n",
       "  <tbody>\n",
       "    <tr>\n",
       "      <th>0</th>\n",
       "      <td>5.6</td>\n",
       "      <td>0.695</td>\n",
       "      <td>0.06</td>\n",
       "      <td>6.8</td>\n",
       "      <td>0.042</td>\n",
       "      <td>9.0</td>\n",
       "      <td>84.0</td>\n",
       "      <td>0.99432</td>\n",
       "      <td>3.44</td>\n",
       "      <td>0.44</td>\n",
       "      <td>10.2</td>\n",
       "    </tr>\n",
       "    <tr>\n",
       "      <th>1</th>\n",
       "      <td>8.8</td>\n",
       "      <td>0.610</td>\n",
       "      <td>0.14</td>\n",
       "      <td>2.4</td>\n",
       "      <td>0.067</td>\n",
       "      <td>10.0</td>\n",
       "      <td>42.0</td>\n",
       "      <td>0.99690</td>\n",
       "      <td>3.19</td>\n",
       "      <td>0.59</td>\n",
       "      <td>9.5</td>\n",
       "    </tr>\n",
       "    <tr>\n",
       "      <th>2</th>\n",
       "      <td>7.9</td>\n",
       "      <td>0.210</td>\n",
       "      <td>0.39</td>\n",
       "      <td>2.0</td>\n",
       "      <td>0.057</td>\n",
       "      <td>21.0</td>\n",
       "      <td>138.0</td>\n",
       "      <td>0.99176</td>\n",
       "      <td>3.05</td>\n",
       "      <td>0.52</td>\n",
       "      <td>10.9</td>\n",
       "    </tr>\n",
       "  </tbody>\n",
       "</table>\n",
       "</div>"
      ],
      "text/plain": [
       "   fixed acidity  volatile acidity  citric acid  residual sugar  chlorides  \\\n",
       "0            5.6             0.695         0.06             6.8      0.042   \n",
       "1            8.8             0.610         0.14             2.4      0.067   \n",
       "2            7.9             0.210         0.39             2.0      0.057   \n",
       "\n",
       "   free sulfur dioxide  total sulfur dioxide  density    pH  sulphates  \\\n",
       "0                  9.0                  84.0  0.99432  3.44       0.44   \n",
       "1                 10.0                  42.0  0.99690  3.19       0.59   \n",
       "2                 21.0                 138.0  0.99176  3.05       0.52   \n",
       "\n",
       "   alcohol  \n",
       "0     10.2  \n",
       "1      9.5  \n",
       "2     10.9  "
      ]
     },
     "execution_count": 5,
     "metadata": {},
     "output_type": "execute_result"
    }
   ],
   "source": [
    "train_data.head(3)"
   ]
  },
  {
   "cell_type": "code",
   "execution_count": 6,
   "id": "5d35212b",
   "metadata": {},
   "outputs": [],
   "source": [
    "x_train, x_test, y_train, y_test = train_test_split(train_data, train_label, test_size = 0.3, random_state = 11)"
   ]
  },
  {
   "cell_type": "markdown",
   "id": "11e7c236",
   "metadata": {
    "id": "ce1b2afe"
   },
   "source": [
    "### 1-2 (7점)\n",
    "랜덤포레스트 분류를 위한 사이킷런 Classifier 클래스를 생성하세요."
   ]
  },
  {
   "cell_type": "code",
   "execution_count": 7,
   "id": "7158b57f",
   "metadata": {
    "id": "b14f8d7e"
   },
   "outputs": [],
   "source": [
    "rf = RandomForestClassifier(random_state = 11)"
   ]
  },
  {
   "cell_type": "markdown",
   "id": "1e2a9473",
   "metadata": {
    "id": "c05167b2"
   },
   "source": [
    "### 1-3. (8점)\n",
    "위에서 생성한 클래스를 활용하여 데이터를 학습하고 예측하고 평가하는 코드를 작성하세요 (힌트 : 평가할때는, accuracy_score 을 사용하세요.)"
   ]
  },
  {
   "cell_type": "code",
   "execution_count": 8,
   "id": "9171aa95",
   "metadata": {
    "id": "6747a8ba"
   },
   "outputs": [],
   "source": [
    "rf.fit(x_train, y_train)\n",
    "pred = rf.predict(x_test)"
   ]
  },
  {
   "cell_type": "code",
   "execution_count": 9,
   "id": "11c023d0",
   "metadata": {},
   "outputs": [
    {
     "name": "stdout",
     "output_type": "stream",
     "text": [
      "예측 정확도 :  0.6630\n"
     ]
    }
   ],
   "source": [
    "print(\"예측 정확도 : {0: .4f}\".format(accuracy_score(y_test, pred)))"
   ]
  },
  {
   "cell_type": "markdown",
   "id": "f8d6d9ce",
   "metadata": {
    "id": "e46928a0"
   },
   "source": [
    "### 1-4 (13점)\n",
    "KFold 클래스를 이용하여 랜덤 포레스트의 평균 정확도를 소수점 4째 자리까지 출력하세요.\n",
    "- 폴드 개수는 3개로 설정합니다.\n",
    "- 분류기는 위에서 사용한 랜덤포레스트를 이용합니다"
   ]
  },
  {
   "cell_type": "code",
   "execution_count": 10,
   "id": "477cca55",
   "metadata": {
    "collapsed": true,
    "id": "22507a59"
   },
   "outputs": [
    {
     "ename": "KeyError",
     "evalue": "\"None of [Int64Index([1833, 1834, 1835, 1836, 1837, 1838, 1839, 1840, 1841, 1842,\\n            ...\\n            5487, 5488, 5489, 5490, 5491, 5492, 5493, 5494, 5495, 5496],\\n           dtype='int64', length=3664)] are in the [columns]\"",
     "output_type": "error",
     "traceback": [
      "\u001b[1;31m---------------------------------------------------------------------------\u001b[0m",
      "\u001b[1;31mKeyError\u001b[0m                                  Traceback (most recent call last)",
      "Cell \u001b[1;32mIn[10], line 12\u001b[0m\n\u001b[0;32m      8\u001b[0m \u001b[38;5;66;03m#for문을 이용하여 KFold교차 검증을 수행하는 코드를 작성하세요\u001b[39;00m\n\u001b[0;32m      9\u001b[0m \u001b[38;5;28;01mfor\u001b[39;00m train_index, test_index, \u001b[38;5;129;01min\u001b[39;00m kfold\u001b[38;5;241m.\u001b[39msplit(train_data):\n\u001b[0;32m     10\u001b[0m \n\u001b[0;32m     11\u001b[0m    \u001b[38;5;66;03m#kfold.spilt()로 반환된 인덱스를 이용해 학습용, 검증용 테스트 데이터 추출\u001b[39;00m\n\u001b[1;32m---> 12\u001b[0m     x_train, x_test \u001b[38;5;241m=\u001b[39m train_data[train_index], train_data[test_index]\n\u001b[0;32m     13\u001b[0m     y_train, y_test \u001b[38;5;241m=\u001b[39m train_label[train_index], train_label[test_index]\n\u001b[0;32m     15\u001b[0m     \u001b[38;5;66;03m#학습 및 예측\u001b[39;00m\n",
      "File \u001b[1;32m~\\anaconda3\\Lib\\site-packages\\pandas\\core\\frame.py:3813\u001b[0m, in \u001b[0;36mDataFrame.__getitem__\u001b[1;34m(self, key)\u001b[0m\n\u001b[0;32m   3811\u001b[0m     \u001b[38;5;28;01mif\u001b[39;00m is_iterator(key):\n\u001b[0;32m   3812\u001b[0m         key \u001b[38;5;241m=\u001b[39m \u001b[38;5;28mlist\u001b[39m(key)\n\u001b[1;32m-> 3813\u001b[0m     indexer \u001b[38;5;241m=\u001b[39m \u001b[38;5;28mself\u001b[39m\u001b[38;5;241m.\u001b[39mcolumns\u001b[38;5;241m.\u001b[39m_get_indexer_strict(key, \u001b[38;5;124m\"\u001b[39m\u001b[38;5;124mcolumns\u001b[39m\u001b[38;5;124m\"\u001b[39m)[\u001b[38;5;241m1\u001b[39m]\n\u001b[0;32m   3815\u001b[0m \u001b[38;5;66;03m# take() does not accept boolean indexers\u001b[39;00m\n\u001b[0;32m   3816\u001b[0m \u001b[38;5;28;01mif\u001b[39;00m \u001b[38;5;28mgetattr\u001b[39m(indexer, \u001b[38;5;124m\"\u001b[39m\u001b[38;5;124mdtype\u001b[39m\u001b[38;5;124m\"\u001b[39m, \u001b[38;5;28;01mNone\u001b[39;00m) \u001b[38;5;241m==\u001b[39m \u001b[38;5;28mbool\u001b[39m:\n",
      "File \u001b[1;32m~\\anaconda3\\Lib\\site-packages\\pandas\\core\\indexes\\base.py:6070\u001b[0m, in \u001b[0;36mIndex._get_indexer_strict\u001b[1;34m(self, key, axis_name)\u001b[0m\n\u001b[0;32m   6067\u001b[0m \u001b[38;5;28;01melse\u001b[39;00m:\n\u001b[0;32m   6068\u001b[0m     keyarr, indexer, new_indexer \u001b[38;5;241m=\u001b[39m \u001b[38;5;28mself\u001b[39m\u001b[38;5;241m.\u001b[39m_reindex_non_unique(keyarr)\n\u001b[1;32m-> 6070\u001b[0m \u001b[38;5;28mself\u001b[39m\u001b[38;5;241m.\u001b[39m_raise_if_missing(keyarr, indexer, axis_name)\n\u001b[0;32m   6072\u001b[0m keyarr \u001b[38;5;241m=\u001b[39m \u001b[38;5;28mself\u001b[39m\u001b[38;5;241m.\u001b[39mtake(indexer)\n\u001b[0;32m   6073\u001b[0m \u001b[38;5;28;01mif\u001b[39;00m \u001b[38;5;28misinstance\u001b[39m(key, Index):\n\u001b[0;32m   6074\u001b[0m     \u001b[38;5;66;03m# GH 42790 - Preserve name from an Index\u001b[39;00m\n",
      "File \u001b[1;32m~\\anaconda3\\Lib\\site-packages\\pandas\\core\\indexes\\base.py:6130\u001b[0m, in \u001b[0;36mIndex._raise_if_missing\u001b[1;34m(self, key, indexer, axis_name)\u001b[0m\n\u001b[0;32m   6128\u001b[0m     \u001b[38;5;28;01mif\u001b[39;00m use_interval_msg:\n\u001b[0;32m   6129\u001b[0m         key \u001b[38;5;241m=\u001b[39m \u001b[38;5;28mlist\u001b[39m(key)\n\u001b[1;32m-> 6130\u001b[0m     \u001b[38;5;28;01mraise\u001b[39;00m \u001b[38;5;167;01mKeyError\u001b[39;00m(\u001b[38;5;124mf\u001b[39m\u001b[38;5;124m\"\u001b[39m\u001b[38;5;124mNone of [\u001b[39m\u001b[38;5;132;01m{\u001b[39;00mkey\u001b[38;5;132;01m}\u001b[39;00m\u001b[38;5;124m] are in the [\u001b[39m\u001b[38;5;132;01m{\u001b[39;00maxis_name\u001b[38;5;132;01m}\u001b[39;00m\u001b[38;5;124m]\u001b[39m\u001b[38;5;124m\"\u001b[39m)\n\u001b[0;32m   6132\u001b[0m not_found \u001b[38;5;241m=\u001b[39m \u001b[38;5;28mlist\u001b[39m(ensure_index(key)[missing_mask\u001b[38;5;241m.\u001b[39mnonzero()[\u001b[38;5;241m0\u001b[39m]]\u001b[38;5;241m.\u001b[39munique())\n\u001b[0;32m   6133\u001b[0m \u001b[38;5;28;01mraise\u001b[39;00m \u001b[38;5;167;01mKeyError\u001b[39;00m(\u001b[38;5;124mf\u001b[39m\u001b[38;5;124m\"\u001b[39m\u001b[38;5;132;01m{\u001b[39;00mnot_found\u001b[38;5;132;01m}\u001b[39;00m\u001b[38;5;124m not in index\u001b[39m\u001b[38;5;124m\"\u001b[39m)\n",
      "\u001b[1;31mKeyError\u001b[0m: \"None of [Int64Index([1833, 1834, 1835, 1836, 1837, 1838, 1839, 1840, 1841, 1842,\\n            ...\\n            5487, 5488, 5489, 5490, 5491, 5492, 5493, 5494, 5495, 5496],\\n           dtype='int64', length=3664)] are in the [columns]\""
     ]
    }
   ],
   "source": [
    "from sklearn.model_selection import KFold\n",
    "\n",
    "#폴드세트를 3개인 KFold객체를 생성하세요\n",
    "kfold = KFold(n_splits = 3)\n",
    "#폴드 수만큼 예측결과를 저장을 위한 리스트 객체 생성\n",
    "cv_accuracy = []\n",
    "n_iter = 0\n",
    "#for문을 이용하여 KFold교차 검증을 수행하는 코드를 작성하세요\n",
    "for train_index, test_index, in kfold.split(train_data):\n",
    "\n",
    "   #kfold.spilt()로 반환된 인덱스를 이용해 학습용, 검증용 테스트 데이터 추출\n",
    "    x_train, x_test = train_data[train_index], train_data[test_index]\n",
    "    y_train, y_test = train_label[train_index], train_label[test_index]\n",
    "\n",
    "    #학습 및 예측\n",
    "    rf.fit(x_train, y_train)\n",
    "    pred = rf.predict(x_test)\n",
    "    \n",
    "    n_iter += 1\n",
    "\n",
    "# 3개의 fold에서의 평균 정화도 계산후 출력\n",
    "\n"
   ]
  },
  {
   "cell_type": "markdown",
   "id": "14cade9b",
   "metadata": {
    "id": "567b40da"
   },
   "source": [
    "### 1-5 (10점)\n",
    "cross_val_score() 을 이용하여 평균 정확도를 구해보세요.\n",
    "- 폴드개수는 3개로 설정합니다."
   ]
  },
  {
   "cell_type": "code",
   "execution_count": 11,
   "id": "5e890f3b",
   "metadata": {
    "id": "0a98db67"
   },
   "outputs": [
    {
     "name": "stdout",
     "output_type": "stream",
     "text": [
      "교차 검증별 정확도: [0.6634 0.6485 0.6436]\n",
      "평균 검증별 정확도: 0.6518\n"
     ]
    }
   ],
   "source": [
    "from sklearn.model_selection import cross_val_score, cross_validate\n",
    "scores = cross_val_score(rf, train_data, train_label, scoring = 'accuracy', cv = 3)\n",
    "\n",
    "print('교차 검증별 정확도:', np.round(scores, 4))\n",
    "print('평균 검증별 정확도:', np.round(np.mean(scores),4))"
   ]
  },
  {
   "cell_type": "markdown",
   "id": "c6e23815",
   "metadata": {
    "id": "0f998582"
   },
   "source": [
    "### 1-6 (13점)\n",
    "GridSearchCV를 이용하여 랜덤포레스트의 최적하이퍼파라미터 찾고 예측성능을 측정해보세요.\n",
    "- 폴드개수는 3개로 설정합니다."
   ]
  },
  {
   "cell_type": "code",
   "execution_count": 12,
   "id": "0acd4bc0",
   "metadata": {
    "id": "767341bd"
   },
   "outputs": [
    {
     "name": "stdout",
     "output_type": "stream",
     "text": [
      "GridSearchCV 최적의 파라미터: {'max_features': 1, 'n_estimators': 150}\n",
      "GridSearchCV 최적의 정확도:0.6262\n"
     ]
    }
   ],
   "source": [
    "from sklearn.model_selection import GridSearchCV\n",
    "\n",
    "params = {'n_estimators' : [90,100,150],\n",
    "          'max_features' : [1,3,5]}\n",
    "\n",
    "grid_rf = GridSearchCV(rf, param_grid = params, cv = 3, refit = True)\n",
    "grid_rf.fit(x_train, y_train)\n",
    "\n",
    "print('GridSearchCV 최적의 파라미터:', grid_rf.best_params_)\n",
    "print('GridSearchCV 최적의 정확도:{0:.4f}'.format(grid_rf.best_score_))\n",
    "\n",
    "\n",
    "\n",
    "#GridSearchCV의 refit으로 이미 학습된 최적성능을 나타내는 모델로 테스트 데이터 세트의 정학도 출력\n",
    "\n"
   ]
  },
  {
   "cell_type": "markdown",
   "id": "0790233e",
   "metadata": {
    "id": "0f4b5b64"
   },
   "source": [
    "### 1-7 (13점) StandardScaler(평균이 0이고 분산이 1인지 확인하는 작업이 필요)"
   ]
  },
  {
   "cell_type": "code",
   "execution_count": 13,
   "id": "f1e4fa1f",
   "metadata": {
    "id": "adb1ec55",
    "outputId": "db3839e5-1be6-4cd6-ae43-5c7a22d40055"
   },
   "outputs": [
    {
     "name": "stdout",
     "output_type": "stream",
     "text": [
      "train mean :  quality                   5.818992\n",
      "fixed acidity             7.210115\n",
      "volatile acidity          0.338163\n",
      "citric acid               0.318543\n",
      "residual sugar            5.438075\n",
      "chlorides                 0.055808\n",
      "free sulfur dioxide      30.417682\n",
      "total sulfur dioxide    115.566491\n",
      "density                   0.994673\n",
      "pH                        3.219502\n",
      "sulphates                 0.530524\n",
      "alcohol                  10.504918\n",
      "dtype: float64\n",
      "train var :  quality                    0.757441\n",
      "fixed acidity              1.657860\n",
      "volatile acidity           0.026642\n",
      "citric acid                0.021055\n",
      "residual sugar            22.625968\n",
      "chlorides                  0.001201\n",
      "free sulfur dioxide      312.366085\n",
      "total sulfur dioxide    3168.364073\n",
      "density                    0.000009\n",
      "pH                         0.025829\n",
      "sulphates                  0.022319\n",
      "alcohol                    1.426887\n",
      "dtype: float64\n",
      "train_scaled mean :  1.7688166672604155e-15\n",
      "train_scaled var :  0.9999999999999998\n"
     ]
    }
   ],
   "source": [
    "from sklearn.preprocessing import StandardScaler\n",
    "\n",
    "# train데이터에 각 변수의 평균값을 출력해주세요\n",
    "print('train mean : ', train.mean())\n",
    "print('train var : ', train.var())\n",
    "\n",
    "# StandardScaler객체를 이용해서 평균이 0, 분산이 1이 되는지 확인해주세요\n",
    "# variable 변수에 train열의 변수명들을 반환한 다음 scaledTrainDf에 데이터프레임 만들고\n",
    "# 값들은 StandardScaler객체로 스케일링 한 값으로 채워주시고, 열의 변수들은 variable변수를 이용해주세요\n",
    "scaler = StandardScaler()\n",
    "scaler.fit(train)\n",
    "train_scaled = scaler.transform(train)\n",
    "\n",
    "train_df_scaled = pd.DataFrame(data = train_scaled, columns = train.columns)\n",
    "\n",
    "print('train_scaled mean : ', train_scaled.mean())\n",
    "print('train_scaled var : ', train_scaled.var())"
   ]
  },
  {
   "cell_type": "markdown",
   "id": "bd66ee85",
   "metadata": {
    "id": "24899614"
   },
   "source": [
    "### 1-8. (10점) MinMaxScaler (최소값 : 0 , 최대값 : 1이 중요)\n",
    "\n",
    "  MinMaxScaler객체를 이용해서 최소값이 0, 최대값이 1이 되는지 확인해주세요.\n",
    "    \n",
    "결과 값은 앞에서와 같이 데이터프레임으로 만들고 각 변수의 최소값, 최대값을 확인해주세요.\n"
   ]
  },
  {
   "cell_type": "code",
   "execution_count": 14,
   "id": "e8c5a6fe",
   "metadata": {
    "id": "c7243356"
   },
   "outputs": [
    {
     "name": "stdout",
     "output_type": "stream",
     "text": [
      "train_scaled min :  0.0\n",
      "train_scaled max :  1.0000000000000002\n"
     ]
    }
   ],
   "source": [
    "from sklearn.preprocessing import MinMaxScaler\n",
    "scaler = MinMaxScaler()\n",
    "scaler.fit(train)\n",
    "train_scaled = scaler.transform(train)\n",
    "\n",
    "train_df_scaled = pd.DataFrame(data = train_scaled, columns = train.columns)\n",
    "\n",
    "print('train_scaled min : ', train_scaled.min())\n",
    "print('train_scaled max : ', train_scaled.max())"
   ]
  },
  {
   "cell_type": "markdown",
   "id": "fa4a74ec",
   "metadata": {
    "id": "8ZeshFahBw1j"
   },
   "source": [
    "## 실습2"
   ]
  },
  {
   "cell_type": "markdown",
   "id": "7d966a14",
   "metadata": {
    "id": "98420dfb"
   },
   "source": [
    "### 문제 2\n",
    "### 2-1. (8점) 데이터 인코딩"
   ]
  },
  {
   "cell_type": "code",
   "execution_count": 15,
   "id": "8ed1761e",
   "metadata": {
    "id": "ae272fc3"
   },
   "outputs": [
    {
     "name": "stdout",
     "output_type": "stream",
     "text": [
      "인코딩 변환값: [6 5 7 4 1 8 2 3 0 9]\n",
      "인코딩 클래스: ['Ankle boot' 'Bag' 'Coat' 'Dress' 'Pullover' 'Sandal' 'Shirt' 'Sneaker'\n",
      " 'T-shirt/top' 'Trouser']\n",
      "디코딩 원본값: ['Ankle boot' 'Bag' 'Coat' 'Dress' 'Pullover' 'Sandal']\n"
     ]
    }
   ],
   "source": [
    "# clothes 데이터를 인코딩하세요.(clothes 데이터는 이미 주어져있음)\n",
    "clothes = ['T-shirt/top', 'Trouser', 'Pullover', 'Dress', 'Coat', 'Sandal', 'Shirt', 'Sneaker',\n",
    "           'Bag', 'Ankle boot','T-shirt/top', 'Sneaker', 'Bag']\n",
    "\n",
    "# items에서 중복된 값을 없애고 clothes변수에 list 자료형으로 반환하세요\n",
    "items = list(set(clothes))\n",
    "\n",
    "\n",
    "# items를 LabelEncoder를 이용해서 인코딩해주고 인코딩 한 결과 값을 객체의 classes_ 속성값으로 확인해주세요\n",
    "from sklearn.preprocessing import LabelEncoder\n",
    "encoder = LabelEncoder()\n",
    "encoder.fit(items)\n",
    "labels = encoder.transform(items)\n",
    "print('인코딩 변환값:', labels)\n",
    "# 디코딩으로 인코딩이 제대로 되었는지 출력해서 확인해주세요(0,1,2,3,4,5 만 확인해주세요)\n",
    "print('인코딩 클래스:', encoder.classes_)\n",
    "print('디코딩 원본값:', encoder.inverse_transform([0,1,2,3,4,5]))"
   ]
  },
  {
   "cell_type": "markdown",
   "id": "406ca67b",
   "metadata": {
    "id": "86f0e3fa"
   },
   "source": [
    "### 2-2. (10점) 데이터 원 핫 인코딩"
   ]
  },
  {
   "cell_type": "code",
   "execution_count": 16,
   "id": "4f6c8cf5",
   "metadata": {
    "id": "a14e6553"
   },
   "outputs": [
    {
     "name": "stdout",
     "output_type": "stream",
     "text": [
      "(13, 1)\n",
      "원핫인코딩데이터: [[0. 0. 0. 0. 0. 0. 0. 0. 1. 0.]\n",
      " [0. 0. 0. 0. 0. 0. 0. 0. 0. 1.]\n",
      " [0. 0. 0. 0. 1. 0. 0. 0. 0. 0.]\n",
      " [0. 0. 0. 1. 0. 0. 0. 0. 0. 0.]\n",
      " [0. 0. 1. 0. 0. 0. 0. 0. 0. 0.]\n",
      " [0. 0. 0. 0. 0. 1. 0. 0. 0. 0.]\n",
      " [0. 0. 0. 0. 0. 0. 1. 0. 0. 0.]\n",
      " [0. 0. 0. 0. 0. 0. 0. 1. 0. 0.]\n",
      " [0. 1. 0. 0. 0. 0. 0. 0. 0. 0.]\n",
      " [1. 0. 0. 0. 0. 0. 0. 0. 0. 0.]\n",
      " [0. 0. 0. 0. 0. 0. 0. 0. 1. 0.]\n",
      " [0. 0. 0. 0. 0. 0. 0. 1. 0. 0.]\n",
      " [0. 1. 0. 0. 0. 0. 0. 0. 0. 0.]]\n"
     ]
    },
    {
     "data": {
      "text/html": [
       "<div>\n",
       "<style scoped>\n",
       "    .dataframe tbody tr th:only-of-type {\n",
       "        vertical-align: middle;\n",
       "    }\n",
       "\n",
       "    .dataframe tbody tr th {\n",
       "        vertical-align: top;\n",
       "    }\n",
       "\n",
       "    .dataframe thead th {\n",
       "        text-align: right;\n",
       "    }\n",
       "</style>\n",
       "<table border=\"1\" class=\"dataframe\">\n",
       "  <thead>\n",
       "    <tr style=\"text-align: right;\">\n",
       "      <th></th>\n",
       "      <th>0</th>\n",
       "      <th>1</th>\n",
       "      <th>2</th>\n",
       "      <th>3</th>\n",
       "      <th>4</th>\n",
       "      <th>5</th>\n",
       "      <th>6</th>\n",
       "      <th>7</th>\n",
       "      <th>8</th>\n",
       "      <th>9</th>\n",
       "    </tr>\n",
       "  </thead>\n",
       "  <tbody>\n",
       "    <tr>\n",
       "      <th>0</th>\n",
       "      <td>0.0</td>\n",
       "      <td>0.0</td>\n",
       "      <td>0.0</td>\n",
       "      <td>0.0</td>\n",
       "      <td>0.0</td>\n",
       "      <td>0.0</td>\n",
       "      <td>0.0</td>\n",
       "      <td>0.0</td>\n",
       "      <td>1.0</td>\n",
       "      <td>0.0</td>\n",
       "    </tr>\n",
       "    <tr>\n",
       "      <th>1</th>\n",
       "      <td>0.0</td>\n",
       "      <td>0.0</td>\n",
       "      <td>0.0</td>\n",
       "      <td>0.0</td>\n",
       "      <td>0.0</td>\n",
       "      <td>0.0</td>\n",
       "      <td>0.0</td>\n",
       "      <td>0.0</td>\n",
       "      <td>0.0</td>\n",
       "      <td>1.0</td>\n",
       "    </tr>\n",
       "    <tr>\n",
       "      <th>2</th>\n",
       "      <td>0.0</td>\n",
       "      <td>0.0</td>\n",
       "      <td>0.0</td>\n",
       "      <td>0.0</td>\n",
       "      <td>1.0</td>\n",
       "      <td>0.0</td>\n",
       "      <td>0.0</td>\n",
       "      <td>0.0</td>\n",
       "      <td>0.0</td>\n",
       "      <td>0.0</td>\n",
       "    </tr>\n",
       "    <tr>\n",
       "      <th>3</th>\n",
       "      <td>0.0</td>\n",
       "      <td>0.0</td>\n",
       "      <td>0.0</td>\n",
       "      <td>1.0</td>\n",
       "      <td>0.0</td>\n",
       "      <td>0.0</td>\n",
       "      <td>0.0</td>\n",
       "      <td>0.0</td>\n",
       "      <td>0.0</td>\n",
       "      <td>0.0</td>\n",
       "    </tr>\n",
       "    <tr>\n",
       "      <th>4</th>\n",
       "      <td>0.0</td>\n",
       "      <td>0.0</td>\n",
       "      <td>1.0</td>\n",
       "      <td>0.0</td>\n",
       "      <td>0.0</td>\n",
       "      <td>0.0</td>\n",
       "      <td>0.0</td>\n",
       "      <td>0.0</td>\n",
       "      <td>0.0</td>\n",
       "      <td>0.0</td>\n",
       "    </tr>\n",
       "    <tr>\n",
       "      <th>5</th>\n",
       "      <td>0.0</td>\n",
       "      <td>0.0</td>\n",
       "      <td>0.0</td>\n",
       "      <td>0.0</td>\n",
       "      <td>0.0</td>\n",
       "      <td>1.0</td>\n",
       "      <td>0.0</td>\n",
       "      <td>0.0</td>\n",
       "      <td>0.0</td>\n",
       "      <td>0.0</td>\n",
       "    </tr>\n",
       "    <tr>\n",
       "      <th>6</th>\n",
       "      <td>0.0</td>\n",
       "      <td>0.0</td>\n",
       "      <td>0.0</td>\n",
       "      <td>0.0</td>\n",
       "      <td>0.0</td>\n",
       "      <td>0.0</td>\n",
       "      <td>1.0</td>\n",
       "      <td>0.0</td>\n",
       "      <td>0.0</td>\n",
       "      <td>0.0</td>\n",
       "    </tr>\n",
       "    <tr>\n",
       "      <th>7</th>\n",
       "      <td>0.0</td>\n",
       "      <td>0.0</td>\n",
       "      <td>0.0</td>\n",
       "      <td>0.0</td>\n",
       "      <td>0.0</td>\n",
       "      <td>0.0</td>\n",
       "      <td>0.0</td>\n",
       "      <td>1.0</td>\n",
       "      <td>0.0</td>\n",
       "      <td>0.0</td>\n",
       "    </tr>\n",
       "    <tr>\n",
       "      <th>8</th>\n",
       "      <td>0.0</td>\n",
       "      <td>1.0</td>\n",
       "      <td>0.0</td>\n",
       "      <td>0.0</td>\n",
       "      <td>0.0</td>\n",
       "      <td>0.0</td>\n",
       "      <td>0.0</td>\n",
       "      <td>0.0</td>\n",
       "      <td>0.0</td>\n",
       "      <td>0.0</td>\n",
       "    </tr>\n",
       "    <tr>\n",
       "      <th>9</th>\n",
       "      <td>1.0</td>\n",
       "      <td>0.0</td>\n",
       "      <td>0.0</td>\n",
       "      <td>0.0</td>\n",
       "      <td>0.0</td>\n",
       "      <td>0.0</td>\n",
       "      <td>0.0</td>\n",
       "      <td>0.0</td>\n",
       "      <td>0.0</td>\n",
       "      <td>0.0</td>\n",
       "    </tr>\n",
       "    <tr>\n",
       "      <th>10</th>\n",
       "      <td>0.0</td>\n",
       "      <td>0.0</td>\n",
       "      <td>0.0</td>\n",
       "      <td>0.0</td>\n",
       "      <td>0.0</td>\n",
       "      <td>0.0</td>\n",
       "      <td>0.0</td>\n",
       "      <td>0.0</td>\n",
       "      <td>1.0</td>\n",
       "      <td>0.0</td>\n",
       "    </tr>\n",
       "    <tr>\n",
       "      <th>11</th>\n",
       "      <td>0.0</td>\n",
       "      <td>0.0</td>\n",
       "      <td>0.0</td>\n",
       "      <td>0.0</td>\n",
       "      <td>0.0</td>\n",
       "      <td>0.0</td>\n",
       "      <td>0.0</td>\n",
       "      <td>1.0</td>\n",
       "      <td>0.0</td>\n",
       "      <td>0.0</td>\n",
       "    </tr>\n",
       "    <tr>\n",
       "      <th>12</th>\n",
       "      <td>0.0</td>\n",
       "      <td>1.0</td>\n",
       "      <td>0.0</td>\n",
       "      <td>0.0</td>\n",
       "      <td>0.0</td>\n",
       "      <td>0.0</td>\n",
       "      <td>0.0</td>\n",
       "      <td>0.0</td>\n",
       "      <td>0.0</td>\n",
       "      <td>0.0</td>\n",
       "    </tr>\n",
       "  </tbody>\n",
       "</table>\n",
       "</div>"
      ],
      "text/plain": [
       "      0    1    2    3    4    5    6    7    8    9\n",
       "0   0.0  0.0  0.0  0.0  0.0  0.0  0.0  0.0  1.0  0.0\n",
       "1   0.0  0.0  0.0  0.0  0.0  0.0  0.0  0.0  0.0  1.0\n",
       "2   0.0  0.0  0.0  0.0  1.0  0.0  0.0  0.0  0.0  0.0\n",
       "3   0.0  0.0  0.0  1.0  0.0  0.0  0.0  0.0  0.0  0.0\n",
       "4   0.0  0.0  1.0  0.0  0.0  0.0  0.0  0.0  0.0  0.0\n",
       "5   0.0  0.0  0.0  0.0  0.0  1.0  0.0  0.0  0.0  0.0\n",
       "6   0.0  0.0  0.0  0.0  0.0  0.0  1.0  0.0  0.0  0.0\n",
       "7   0.0  0.0  0.0  0.0  0.0  0.0  0.0  1.0  0.0  0.0\n",
       "8   0.0  1.0  0.0  0.0  0.0  0.0  0.0  0.0  0.0  0.0\n",
       "9   1.0  0.0  0.0  0.0  0.0  0.0  0.0  0.0  0.0  0.0\n",
       "10  0.0  0.0  0.0  0.0  0.0  0.0  0.0  0.0  1.0  0.0\n",
       "11  0.0  0.0  0.0  0.0  0.0  0.0  0.0  1.0  0.0  0.0\n",
       "12  0.0  1.0  0.0  0.0  0.0  0.0  0.0  0.0  0.0  0.0"
      ]
     },
     "execution_count": 16,
     "metadata": {},
     "output_type": "execute_result"
    }
   ],
   "source": [
    "# clothes를 2D numpy array로 변환해주고 clothes변수에 반환해주고 데이터 크기를 출력해주세요.\n",
    "clothes = np.array(clothes).reshape(-1,1)\n",
    "print(clothes.shape)\n",
    "\n",
    "# clothes를 원 핫 인코딩 해서 결과 값을 확인해주고, df 변수에 DataFrame으로 반환해주세요\n",
    "from sklearn.preprocessing import OneHotEncoder\n",
    "oh_encoder = OneHotEncoder()\n",
    "oh_encoder.fit(clothes)\n",
    "oh_labels = oh_encoder.transform(clothes)\n",
    "\n",
    "print('원핫인코딩데이터:', oh_labels.toarray())\n",
    "df = pd.DataFrame(data = oh_labels.toarray())\n",
    "\n",
    "# df 데이터프레임으로 원 핫 인코딩을 해주세요\n",
    "pd.get_dummies(df)"
   ]
  },
  {
   "cell_type": "markdown",
   "id": "ec7b0034",
   "metadata": {
    "id": "loBwDFzhB3LD"
   },
   "source": [
    "## 실습3"
   ]
  },
  {
   "cell_type": "markdown",
   "id": "c846295c",
   "metadata": {
    "id": "pdsx3G6FB9PL"
   },
   "source": [
    "### 3. Data Loading (3점)"
   ]
  },
  {
   "cell_type": "markdown",
   "id": "efe71086",
   "metadata": {
    "id": "8hQInrfJCAnF"
   },
   "source": [
    "**a)** 본 과제에서는 대출신청서에 작성한 정보를 바탕으로 **대출신청 승인여부 (Loan_Status)** 가 결정된 이력 데이터로 사이킷런 머신러닝 학습을 진행합니다.\n",
    "\n",
    "주어진 데이터 *loan.csv* 를 *pandas dataframe* 으로 불러온 후, **loan**으로 저장하고, 확인해주세요.  **(1점)**"
   ]
  },
  {
   "cell_type": "code",
   "execution_count": 18,
   "id": "4f6f9d67",
   "metadata": {
    "id": "kK9EBmhdCA5c"
   },
   "outputs": [
    {
     "data": {
      "text/html": [
       "<div>\n",
       "<style scoped>\n",
       "    .dataframe tbody tr th:only-of-type {\n",
       "        vertical-align: middle;\n",
       "    }\n",
       "\n",
       "    .dataframe tbody tr th {\n",
       "        vertical-align: top;\n",
       "    }\n",
       "\n",
       "    .dataframe thead th {\n",
       "        text-align: right;\n",
       "    }\n",
       "</style>\n",
       "<table border=\"1\" class=\"dataframe\">\n",
       "  <thead>\n",
       "    <tr style=\"text-align: right;\">\n",
       "      <th></th>\n",
       "      <th>Loan_ID</th>\n",
       "      <th>Gender</th>\n",
       "      <th>Married</th>\n",
       "      <th>Dependents</th>\n",
       "      <th>Education</th>\n",
       "      <th>Self_Employed</th>\n",
       "      <th>ApplicantIncome</th>\n",
       "      <th>CoapplicantIncome</th>\n",
       "      <th>LoanAmount</th>\n",
       "      <th>Loan_Amount_Term</th>\n",
       "      <th>Credit_History</th>\n",
       "      <th>Property_Area</th>\n",
       "      <th>Loan_Status</th>\n",
       "    </tr>\n",
       "  </thead>\n",
       "  <tbody>\n",
       "    <tr>\n",
       "      <th>0</th>\n",
       "      <td>LP001002</td>\n",
       "      <td>Male</td>\n",
       "      <td>No</td>\n",
       "      <td>0</td>\n",
       "      <td>Graduate</td>\n",
       "      <td>No</td>\n",
       "      <td>5849</td>\n",
       "      <td>0.0</td>\n",
       "      <td>NaN</td>\n",
       "      <td>360.0</td>\n",
       "      <td>1.0</td>\n",
       "      <td>Urban</td>\n",
       "      <td>Y</td>\n",
       "    </tr>\n",
       "    <tr>\n",
       "      <th>1</th>\n",
       "      <td>LP001003</td>\n",
       "      <td>Male</td>\n",
       "      <td>Yes</td>\n",
       "      <td>1</td>\n",
       "      <td>Graduate</td>\n",
       "      <td>No</td>\n",
       "      <td>4583</td>\n",
       "      <td>1508.0</td>\n",
       "      <td>128.0</td>\n",
       "      <td>360.0</td>\n",
       "      <td>1.0</td>\n",
       "      <td>Rural</td>\n",
       "      <td>N</td>\n",
       "    </tr>\n",
       "    <tr>\n",
       "      <th>2</th>\n",
       "      <td>LP001005</td>\n",
       "      <td>Male</td>\n",
       "      <td>Yes</td>\n",
       "      <td>0</td>\n",
       "      <td>Graduate</td>\n",
       "      <td>Yes</td>\n",
       "      <td>3000</td>\n",
       "      <td>0.0</td>\n",
       "      <td>66.0</td>\n",
       "      <td>360.0</td>\n",
       "      <td>1.0</td>\n",
       "      <td>Urban</td>\n",
       "      <td>Y</td>\n",
       "    </tr>\n",
       "    <tr>\n",
       "      <th>3</th>\n",
       "      <td>LP001006</td>\n",
       "      <td>Male</td>\n",
       "      <td>Yes</td>\n",
       "      <td>0</td>\n",
       "      <td>Not Graduate</td>\n",
       "      <td>No</td>\n",
       "      <td>2583</td>\n",
       "      <td>2358.0</td>\n",
       "      <td>120.0</td>\n",
       "      <td>360.0</td>\n",
       "      <td>1.0</td>\n",
       "      <td>Urban</td>\n",
       "      <td>Y</td>\n",
       "    </tr>\n",
       "    <tr>\n",
       "      <th>4</th>\n",
       "      <td>LP001008</td>\n",
       "      <td>Male</td>\n",
       "      <td>No</td>\n",
       "      <td>0</td>\n",
       "      <td>Graduate</td>\n",
       "      <td>No</td>\n",
       "      <td>6000</td>\n",
       "      <td>0.0</td>\n",
       "      <td>141.0</td>\n",
       "      <td>360.0</td>\n",
       "      <td>1.0</td>\n",
       "      <td>Urban</td>\n",
       "      <td>Y</td>\n",
       "    </tr>\n",
       "  </tbody>\n",
       "</table>\n",
       "</div>"
      ],
      "text/plain": [
       "    Loan_ID Gender Married Dependents     Education Self_Employed  \\\n",
       "0  LP001002   Male      No          0      Graduate            No   \n",
       "1  LP001003   Male     Yes          1      Graduate            No   \n",
       "2  LP001005   Male     Yes          0      Graduate           Yes   \n",
       "3  LP001006   Male     Yes          0  Not Graduate            No   \n",
       "4  LP001008   Male      No          0      Graduate            No   \n",
       "\n",
       "   ApplicantIncome  CoapplicantIncome  LoanAmount  Loan_Amount_Term  \\\n",
       "0             5849                0.0         NaN             360.0   \n",
       "1             4583             1508.0       128.0             360.0   \n",
       "2             3000                0.0        66.0             360.0   \n",
       "3             2583             2358.0       120.0             360.0   \n",
       "4             6000                0.0       141.0             360.0   \n",
       "\n",
       "   Credit_History Property_Area Loan_Status  \n",
       "0             1.0         Urban           Y  \n",
       "1             1.0         Rural           N  \n",
       "2             1.0         Urban           Y  \n",
       "3             1.0         Urban           Y  \n",
       "4             1.0         Urban           Y  "
      ]
     },
     "execution_count": 18,
     "metadata": {},
     "output_type": "execute_result"
    }
   ],
   "source": [
    "loan = pd.read_csv('./비타민/loan.csv')\n",
    "loan.head()"
   ]
  },
  {
   "cell_type": "markdown",
   "id": "8b923d0c",
   "metadata": {
    "id": "D8z3o0V6CD0D"
   },
   "source": [
    "**Feature Information**\n",
    "* *Loan_ID* :  대출 ID\n",
    "* *Gender* :  성별\n",
    "* *Married* :  결혼 여부\n",
    "* *Dependents* :  부양자 수\n",
    "* *Education*:  대학졸업 여부\n",
    "* *Self_Employed*:  자영업 여부\n",
    "* *ApplicantIncome*:  소득수준\n",
    "* *CoapplicantIncome*:  배우자 소득수준\n",
    "* *LoanAmount*:  대출금액\n",
    "* *Loan_Amount_Term*:  대출 상환 기간\n",
    "* *Credit_History*:  신용(대출 상환, 신용카드 등) 기록 여부\n",
    "* *Property_Area*:  주거 지역\n",
    "* *Loan_Status*:  대출 가능 여부"
   ]
  },
  {
   "cell_type": "markdown",
   "id": "8d235bba",
   "metadata": {
    "id": "3Fcnjd3tCGHy"
   },
   "source": [
    "**b)** loan data 정보를 출력하고 (`info` 이용) loan data의 숫자형 변수의 분포를 알아봅시다. (`describe` 이용) **(1점)**"
   ]
  },
  {
   "cell_type": "code",
   "execution_count": 19,
   "id": "7dd61783",
   "metadata": {
    "id": "bWABxnfBCGh7"
   },
   "outputs": [
    {
     "name": "stdout",
     "output_type": "stream",
     "text": [
      "<class 'pandas.core.frame.DataFrame'>\n",
      "RangeIndex: 614 entries, 0 to 613\n",
      "Data columns (total 13 columns):\n",
      " #   Column             Non-Null Count  Dtype  \n",
      "---  ------             --------------  -----  \n",
      " 0   Loan_ID            614 non-null    object \n",
      " 1   Gender             601 non-null    object \n",
      " 2   Married            611 non-null    object \n",
      " 3   Dependents         599 non-null    object \n",
      " 4   Education          614 non-null    object \n",
      " 5   Self_Employed      582 non-null    object \n",
      " 6   ApplicantIncome    614 non-null    int64  \n",
      " 7   CoapplicantIncome  614 non-null    float64\n",
      " 8   LoanAmount         592 non-null    float64\n",
      " 9   Loan_Amount_Term   600 non-null    float64\n",
      " 10  Credit_History     564 non-null    float64\n",
      " 11  Property_Area      614 non-null    object \n",
      " 12  Loan_Status        614 non-null    object \n",
      "dtypes: float64(4), int64(1), object(8)\n",
      "memory usage: 62.5+ KB\n"
     ]
    }
   ],
   "source": [
    "# loan 데이터 프레임 정보 출력\n",
    "loan.info()"
   ]
  },
  {
   "cell_type": "code",
   "execution_count": 20,
   "id": "5a747ebf",
   "metadata": {
    "id": "8GywCY1ICED6"
   },
   "outputs": [
    {
     "data": {
      "text/html": [
       "<div>\n",
       "<style scoped>\n",
       "    .dataframe tbody tr th:only-of-type {\n",
       "        vertical-align: middle;\n",
       "    }\n",
       "\n",
       "    .dataframe tbody tr th {\n",
       "        vertical-align: top;\n",
       "    }\n",
       "\n",
       "    .dataframe thead th {\n",
       "        text-align: right;\n",
       "    }\n",
       "</style>\n",
       "<table border=\"1\" class=\"dataframe\">\n",
       "  <thead>\n",
       "    <tr style=\"text-align: right;\">\n",
       "      <th></th>\n",
       "      <th>ApplicantIncome</th>\n",
       "      <th>CoapplicantIncome</th>\n",
       "      <th>LoanAmount</th>\n",
       "      <th>Loan_Amount_Term</th>\n",
       "      <th>Credit_History</th>\n",
       "    </tr>\n",
       "  </thead>\n",
       "  <tbody>\n",
       "    <tr>\n",
       "      <th>count</th>\n",
       "      <td>614.000000</td>\n",
       "      <td>614.000000</td>\n",
       "      <td>592.000000</td>\n",
       "      <td>600.00000</td>\n",
       "      <td>564.000000</td>\n",
       "    </tr>\n",
       "    <tr>\n",
       "      <th>mean</th>\n",
       "      <td>5403.459283</td>\n",
       "      <td>1621.245798</td>\n",
       "      <td>146.412162</td>\n",
       "      <td>342.00000</td>\n",
       "      <td>0.842199</td>\n",
       "    </tr>\n",
       "    <tr>\n",
       "      <th>std</th>\n",
       "      <td>6109.041673</td>\n",
       "      <td>2926.248369</td>\n",
       "      <td>85.587325</td>\n",
       "      <td>65.12041</td>\n",
       "      <td>0.364878</td>\n",
       "    </tr>\n",
       "    <tr>\n",
       "      <th>min</th>\n",
       "      <td>150.000000</td>\n",
       "      <td>0.000000</td>\n",
       "      <td>9.000000</td>\n",
       "      <td>12.00000</td>\n",
       "      <td>0.000000</td>\n",
       "    </tr>\n",
       "    <tr>\n",
       "      <th>25%</th>\n",
       "      <td>2877.500000</td>\n",
       "      <td>0.000000</td>\n",
       "      <td>100.000000</td>\n",
       "      <td>360.00000</td>\n",
       "      <td>1.000000</td>\n",
       "    </tr>\n",
       "    <tr>\n",
       "      <th>50%</th>\n",
       "      <td>3812.500000</td>\n",
       "      <td>1188.500000</td>\n",
       "      <td>128.000000</td>\n",
       "      <td>360.00000</td>\n",
       "      <td>1.000000</td>\n",
       "    </tr>\n",
       "    <tr>\n",
       "      <th>75%</th>\n",
       "      <td>5795.000000</td>\n",
       "      <td>2297.250000</td>\n",
       "      <td>168.000000</td>\n",
       "      <td>360.00000</td>\n",
       "      <td>1.000000</td>\n",
       "    </tr>\n",
       "    <tr>\n",
       "      <th>max</th>\n",
       "      <td>81000.000000</td>\n",
       "      <td>41667.000000</td>\n",
       "      <td>700.000000</td>\n",
       "      <td>480.00000</td>\n",
       "      <td>1.000000</td>\n",
       "    </tr>\n",
       "  </tbody>\n",
       "</table>\n",
       "</div>"
      ],
      "text/plain": [
       "       ApplicantIncome  CoapplicantIncome  LoanAmount  Loan_Amount_Term  \\\n",
       "count       614.000000         614.000000  592.000000         600.00000   \n",
       "mean       5403.459283        1621.245798  146.412162         342.00000   \n",
       "std        6109.041673        2926.248369   85.587325          65.12041   \n",
       "min         150.000000           0.000000    9.000000          12.00000   \n",
       "25%        2877.500000           0.000000  100.000000         360.00000   \n",
       "50%        3812.500000        1188.500000  128.000000         360.00000   \n",
       "75%        5795.000000        2297.250000  168.000000         360.00000   \n",
       "max       81000.000000       41667.000000  700.000000         480.00000   \n",
       "\n",
       "       Credit_History  \n",
       "count      564.000000  \n",
       "mean         0.842199  \n",
       "std          0.364878  \n",
       "min          0.000000  \n",
       "25%          1.000000  \n",
       "50%          1.000000  \n",
       "75%          1.000000  \n",
       "max          1.000000  "
      ]
     },
     "execution_count": 20,
     "metadata": {},
     "output_type": "execute_result"
    }
   ],
   "source": [
    "# loan 데이터 프레임의 숫자형 변수의 분포 출력\n",
    "loan.describe()"
   ]
  },
  {
   "cell_type": "markdown",
   "id": "40d2c445",
   "metadata": {
    "id": "gpHOJhWeCLi2"
   },
   "source": [
    " **c)** 'Dependent' 열의 항목별 분포를 출력해보고, '3+'라고 입력되어 있는 행에 대하여 그 값을 '3'으로 바꿔주세요. (`replace` 이용) **(1점)**"
   ]
  },
  {
   "cell_type": "code",
   "execution_count": 21,
   "id": "8048d8da",
   "metadata": {
    "id": "tILRZ7UhCLvC"
   },
   "outputs": [
    {
     "data": {
      "text/plain": [
       "0     345\n",
       "1     102\n",
       "2     101\n",
       "3+     51\n",
       "Name: Dependents, dtype: int64"
      ]
     },
     "execution_count": 21,
     "metadata": {},
     "output_type": "execute_result"
    }
   ],
   "source": [
    "# 'Dependent'열의 항목별 분포 출력\n",
    "loan.Dependents.value_counts()"
   ]
  },
  {
   "cell_type": "code",
   "execution_count": 22,
   "id": "4adec132",
   "metadata": {
    "id": "tMLwpTWFB-wh"
   },
   "outputs": [],
   "source": [
    "# replace 처리\n",
    "loan.Dependents = loan.Dependents.replace('3+', 3)"
   ]
  },
  {
   "cell_type": "code",
   "execution_count": 23,
   "id": "689316e8",
   "metadata": {},
   "outputs": [
    {
     "data": {
      "text/plain": [
       "0    345\n",
       "1    102\n",
       "2    101\n",
       "3     51\n",
       "Name: Dependents, dtype: int64"
      ]
     },
     "execution_count": 23,
     "metadata": {},
     "output_type": "execute_result"
    }
   ],
   "source": [
    "loan.Dependents.value_counts()"
   ]
  },
  {
   "cell_type": "markdown",
   "id": "84b53748",
   "metadata": {
    "id": "GHuYkU2iCgwO"
   },
   "source": [
    "## 실습4"
   ]
  },
  {
   "cell_type": "markdown",
   "id": "4c1fbb52",
   "metadata": {
    "id": "vyfbhE74CRPC"
   },
   "source": [
    "### 4. 결측값 처리 (3점)"
   ]
  },
  {
   "cell_type": "markdown",
   "id": "31fba911",
   "metadata": {
    "id": "XS7YaySDCk38"
   },
   "source": [
    "숫자형 변수에 대해서는 null값을 각 열의 **평균값**으로, 문자형 변수에 대해서는 null값을 각 열의 **최빈값**으로 채워주세요"
   ]
  },
  {
   "cell_type": "code",
   "execution_count": 24,
   "id": "ec3dbcef",
   "metadata": {},
   "outputs": [
    {
     "data": {
      "text/plain": [
       "Male      489\n",
       "Female    112\n",
       "Name: Gender, dtype: int64"
      ]
     },
     "execution_count": 24,
     "metadata": {},
     "output_type": "execute_result"
    }
   ],
   "source": [
    "loan.Gender.value_counts()"
   ]
  },
  {
   "cell_type": "code",
   "execution_count": 25,
   "id": "fdc961b0",
   "metadata": {
    "id": "I-Q14IsgClEy"
   },
   "outputs": [
    {
     "name": "stdout",
     "output_type": "stream",
     "text": [
      "<class 'pandas.core.frame.DataFrame'>\n",
      "RangeIndex: 614 entries, 0 to 613\n",
      "Data columns (total 13 columns):\n",
      " #   Column             Non-Null Count  Dtype  \n",
      "---  ------             --------------  -----  \n",
      " 0   Loan_ID            614 non-null    object \n",
      " 1   Gender             614 non-null    object \n",
      " 2   Married            614 non-null    object \n",
      " 3   Dependents         614 non-null    object \n",
      " 4   Education          614 non-null    object \n",
      " 5   Self_Employed      614 non-null    object \n",
      " 6   ApplicantIncome    614 non-null    int64  \n",
      " 7   CoapplicantIncome  614 non-null    float64\n",
      " 8   LoanAmount         614 non-null    float64\n",
      " 9   Loan_Amount_Term   614 non-null    float64\n",
      " 10  Credit_History     614 non-null    float64\n",
      " 11  Property_Area      614 non-null    object \n",
      " 12  Loan_Status        614 non-null    object \n",
      "dtypes: float64(4), int64(1), object(8)\n",
      "memory usage: 62.5+ KB\n"
     ]
    }
   ],
   "source": [
    "# 숫자형 변수 컬럼 평균값 계산\n",
    "AP_mean = loan.ApplicantIncome.mean()\n",
    "CO_mean = loan.CoapplicantIncome.mean()\n",
    "LA_mean = loan.LoanAmount.mean()\n",
    "LAT_mean = loan.Loan_Amount_Term.mean()\n",
    "CH_mean = loan.Credit_History.mean()\n",
    "\n",
    "# 결측치 컬럼별 평균으로 대체\n",
    "loan.ApplicantIncome = loan.ApplicantIncome.fillna(AP_mean)\n",
    "loan.CoapplicantIncome = loan.CoapplicantIncome.fillna(CO_mean)\n",
    "loan.LoanAmount = loan.LoanAmount.fillna(LA_mean)\n",
    "loan.Loan_Amount_Term = loan.Loan_Amount_Term.fillna(LAT_mean)\n",
    "loan.Credit_History = loan.Credit_History.fillna(CH_mean)\n",
    "\n",
    "# 문자형 변수 최빈값 계산\n",
    "GE_mode = loan.Gender.mode()[0]\n",
    "MA_mode = loan.Married.mode()[0]\n",
    "SE_mode = loan.Self_Employed.mode()[0]\n",
    "DE_mode = loan.Dependents.mode()[0]\n",
    "\n",
    "# 결측치 컬럼별 최빈값으로 대체\n",
    "loan.Gender = loan.Gender.fillna(GE_mode)\n",
    "loan.Married = loan.Married.fillna(MA_mode)\n",
    "loan.Self_Employed = loan.Self_Employed.fillna(SE_mode)\n",
    "loan.Dependents = loan.Dependents.fillna(DE_mode)\n",
    "\n",
    "#원본 데이터프레임에 컨캣\n",
    "loan.info()\n",
    "#print(loan)"
   ]
  },
  {
   "cell_type": "markdown",
   "id": "da7788af",
   "metadata": {
    "id": "D4GHmg7aCpgH"
   },
   "source": [
    "## 실습5"
   ]
  },
  {
   "cell_type": "markdown",
   "id": "c0748f63",
   "metadata": {
    "id": "Kwytvgi8Cne2"
   },
   "source": [
    "### 5. 이상치 처리 (4점)"
   ]
  },
  {
   "cell_type": "markdown",
   "id": "142be97f",
   "metadata": {
    "id": "Qlc8VcSqCsdk"
   },
   "source": [
    "**a)** ApplicantIncome, CoapplicantIncome, LoanAmount의 분포를 시각화하세요. (`boxplot` 이용)"
   ]
  },
  {
   "cell_type": "code",
   "execution_count": 26,
   "id": "f2d37f82",
   "metadata": {
    "id": "8HHlM_ZJCstr"
   },
   "outputs": [
    {
     "data": {
      "image/png": "[encoded data removed]",
      "text/plain": [
       "<Figure size 640x480 with 1 Axes>"
      ]
     },
     "metadata": {},
     "output_type": "display_data"
    }
   ],
   "source": [
    "#이상치 확인을 위해 사분위수 정보를 포함하는 박스플롯으로 시각화\n",
    "import matplotlib.pyplot as plt\n",
    "loan[['ApplicantIncome', 'CoapplicantIncome', 'LoanAmount']].boxplot()\n",
    "plt.show()"
   ]
  },
  {
   "cell_type": "markdown",
   "id": "35ea2c1c",
   "metadata": {
    "id": "UK7XoFz9CxiN"
   },
   "source": [
    "**b)** ApplicantIncome, CoapplicantIncome, LoanAmount의 분포를 확인 후, 이상치를 탐색하여 drop하세요.\n",
    "\n",
    "각 column에 대하여 이상치가 있다고 판단되는 **모든 행** 을 drop해주시면 됩니다.\n",
    "\n",
    "(이상치 제거는 본인이 선호하는 방법으로 하시거나, *Tukey Fences* 방법 (답안에서 이용 예정) 을 이용해주세요. )"
   ]
  },
  {
   "cell_type": "code",
   "execution_count": 27,
   "id": "a3055ed7",
   "metadata": {
    "id": "clhgzINZCx2a"
   },
   "outputs": [
    {
     "data": {
      "text/plain": [
       "216      150\n",
       "468      210\n",
       "600      416\n",
       "500      645\n",
       "188      674\n",
       "       ...  \n",
       "185    39147\n",
       "155    39999\n",
       "171    51763\n",
       "333    63337\n",
       "409    81000\n",
       "Name: ApplicantIncome, Length: 614, dtype: int64"
      ]
     },
     "execution_count": 27,
     "metadata": {},
     "output_type": "execute_result"
    }
   ],
   "source": [
    "loan.ApplicantIncome.sort_values()"
   ]
  },
  {
   "cell_type": "code",
   "execution_count": 28,
   "id": "33b6abc1",
   "metadata": {
    "id": "YObmf3w7CShq"
   },
   "outputs": [],
   "source": [
    "idx = loan[loan['ApplicantIncome'] > 50000].index"
   ]
  },
  {
   "cell_type": "code",
   "execution_count": 29,
   "id": "04005efe",
   "metadata": {
    "id": "YObmf3w7CShq"
   },
   "outputs": [],
   "source": [
    "loan.drop(idx , inplace=True)"
   ]
  },
  {
   "cell_type": "code",
   "execution_count": 30,
   "id": "cbf86ddb",
   "metadata": {
    "id": "q_uGhXyAB9hp"
   },
   "outputs": [
    {
     "name": "stdout",
     "output_type": "stream",
     "text": [
      "<class 'pandas.core.frame.DataFrame'>\n",
      "Int64Index: 611 entries, 0 to 613\n",
      "Data columns (total 13 columns):\n",
      " #   Column             Non-Null Count  Dtype  \n",
      "---  ------             --------------  -----  \n",
      " 0   Loan_ID            611 non-null    object \n",
      " 1   Gender             611 non-null    object \n",
      " 2   Married            611 non-null    object \n",
      " 3   Dependents         611 non-null    object \n",
      " 4   Education          611 non-null    object \n",
      " 5   Self_Employed      611 non-null    object \n",
      " 6   ApplicantIncome    611 non-null    int64  \n",
      " 7   CoapplicantIncome  611 non-null    float64\n",
      " 8   LoanAmount         611 non-null    float64\n",
      " 9   Loan_Amount_Term   611 non-null    float64\n",
      " 10  Credit_History     611 non-null    float64\n",
      " 11  Property_Area      611 non-null    object \n",
      " 12  Loan_Status        611 non-null    object \n",
      "dtypes: float64(4), int64(1), object(8)\n",
      "memory usage: 66.8+ KB\n"
     ]
    }
   ],
   "source": [
    "loan.info()"
   ]
  },
  {
   "cell_type": "markdown",
   "id": "e78d754f",
   "metadata": {
    "id": "-t_G6XnlC0qN"
   },
   "source": [
    "## 실습6"
   ]
  },
  {
   "cell_type": "markdown",
   "id": "d3f17bbc",
   "metadata": {
    "id": "XVI4xUfpC3Ro"
   },
   "source": [
    "### 6. 인코딩 (20점)"
   ]
  },
  {
   "cell_type": "markdown",
   "id": "6ca1edbf",
   "metadata": {
    "id": "etiOOckgC56H"
   },
   "source": [
    "머신러닝 모델이 데이터를 학습할 수 있도록, Dtype이 **'object'** 인 컬럼들에 대하여 인코딩을 실행해줍니다."
   ]
  },
  {
   "cell_type": "markdown",
   "id": "13532f8d",
   "metadata": {
    "id": "SZCsYn6nC7v5"
   },
   "source": [
    "**a)** 먼저, 부양가족의 수를 의미하는 'Dependent'열의 dtype을 **object**에서 **int**로 바꿔주세요. (`.astype` 이용) **(4점)**"
   ]
  },
  {
   "cell_type": "code",
   "execution_count": 31,
   "id": "c5933924",
   "metadata": {
    "id": "7dQafnJbC787"
   },
   "outputs": [],
   "source": [
    "loan.Dependents = loan.Dependents.astype('int64')"
   ]
  },
  {
   "cell_type": "markdown",
   "id": "9d7428b8",
   "metadata": {
    "id": "fAyXWCuXC9yF"
   },
   "source": [
    "**b)** 'Yes/No'의 형태로 기록되어 있는 열들 ('Married', 'Education', 'Self_Employed', 'Loan_Status')에 대하여 **Label Encoding**을 시행하세요. **(6점)**"
   ]
  },
  {
   "cell_type": "code",
   "execution_count": 32,
   "id": "d714cfc9",
   "metadata": {
    "id": "cMcR6Zw5C9_6"
   },
   "outputs": [],
   "source": [
    "from sklearn.preprocessing import LabelEncoder\n",
    "le = LabelEncoder()\n",
    "# fit_transform()으로 라벨인코딩을 수행합니다.\n",
    "loan['Married'] = le.fit_transform(loan['Married'])\n",
    "loan['Education'] = le.fit_transform(loan['Education'])\n",
    "loan['Self_Employed'] = le.fit_transform(loan['Self_Employed'])\n",
    "loan['Loan_Status'] = le.fit_transform(loan['Loan_Status'])"
   ]
  },
  {
   "cell_type": "markdown",
   "id": "2220eb25",
   "metadata": {
    "id": "0MJYWkv-C_xw"
   },
   "source": [
    "**c)** 머신러닝 알고리즘에 불필요한 열을 제거해주세요. (*힌트 : 1개의 열만 제거하면 됩니다.*  ) **(3점)**"
   ]
  },
  {
   "cell_type": "code",
   "execution_count": 33,
   "id": "199f2246",
   "metadata": {
    "id": "tpi8ZOuBDBBN"
   },
   "outputs": [],
   "source": [
    "loan.drop(columns = 'Loan_ID', axis = 1, inplace = True)"
   ]
  },
  {
   "cell_type": "markdown",
   "id": "b7b193ea",
   "metadata": {
    "id": "skENNWosDCnq"
   },
   "source": [
    "**d)** 나머지 문자형 변수 ('Gender'와 'Property_Area')에 대해서는 **OneHotEncoding**을 시행하세요. **(6점)**\n",
    "\n",
    "(`OneHotEncoder` 또는 `pd.get_dummies` 모두 이용 가능)"
   ]
  },
  {
   "cell_type": "code",
   "execution_count": 34,
   "id": "4278b52d",
   "metadata": {
    "id": "SHuUdWwfDC0c"
   },
   "outputs": [],
   "source": [
    "loan = pd.get_dummies(loan, columns = ['Gender', 'Property_Area'])"
   ]
  },
  {
   "cell_type": "markdown",
   "id": "c4338e60",
   "metadata": {
    "id": "oFaIjtT8DEbj"
   },
   "source": [
    "**e)** 마지막으로 `.info()`를 이용하여 object type, null값 확인 등을 통해 모델링에 쓰일 수 있는 data인지 최종 검토합니다! **(1점)**"
   ]
  },
  {
   "cell_type": "code",
   "execution_count": 35,
   "id": "c80536e3",
   "metadata": {
    "id": "1XZDzUhwDEns"
   },
   "outputs": [
    {
     "name": "stdout",
     "output_type": "stream",
     "text": [
      "<class 'pandas.core.frame.DataFrame'>\n",
      "Int64Index: 611 entries, 0 to 613\n",
      "Data columns (total 15 columns):\n",
      " #   Column                   Non-Null Count  Dtype  \n",
      "---  ------                   --------------  -----  \n",
      " 0   Married                  611 non-null    int32  \n",
      " 1   Dependents               611 non-null    int64  \n",
      " 2   Education                611 non-null    int32  \n",
      " 3   Self_Employed            611 non-null    int32  \n",
      " 4   ApplicantIncome          611 non-null    int64  \n",
      " 5   CoapplicantIncome        611 non-null    float64\n",
      " 6   LoanAmount               611 non-null    float64\n",
      " 7   Loan_Amount_Term         611 non-null    float64\n",
      " 8   Credit_History           611 non-null    float64\n",
      " 9   Loan_Status              611 non-null    int32  \n",
      " 10  Gender_Female            611 non-null    uint8  \n",
      " 11  Gender_Male              611 non-null    uint8  \n",
      " 12  Property_Area_Rural      611 non-null    uint8  \n",
      " 13  Property_Area_Semiurban  611 non-null    uint8  \n",
      " 14  Property_Area_Urban      611 non-null    uint8  \n",
      "dtypes: float64(4), int32(4), int64(2), uint8(5)\n",
      "memory usage: 45.9 KB\n"
     ]
    }
   ],
   "source": [
    "loan.info()"
   ]
  },
  {
   "cell_type": "markdown",
   "id": "227f5ac8",
   "metadata": {
    "id": "qpY0RoOODHkq"
   },
   "source": [
    "## 실습7"
   ]
  },
  {
   "cell_type": "markdown",
   "id": "69e8c181",
   "metadata": {
    "id": "AXG7ntqUDIvS"
   },
   "source": [
    "### 7. Train Test Split (15점)"
   ]
  },
  {
   "cell_type": "markdown",
   "id": "35733753",
   "metadata": {
    "id": "MkQpOfxaDMZh"
   },
   "source": [
    "**a)** feature 데이터를 x라는 새로운 데이터프레임으로 불러오고, 테스트용 데이터셋의 사이즈는 0.25로 설정하여 train_test_split을 실행하세요. **(10점)**"
   ]
  },
  {
   "cell_type": "code",
   "execution_count": 36,
   "id": "f52827b6",
   "metadata": {
    "id": "3wKohQkXDM1g"
   },
   "outputs": [],
   "source": [
    "#Spliting the dataset into features and target\n",
    "x = loan.drop(columns = ['Loan_Status'], axis = 1)\n",
    "target = loan.Loan_Status"
   ]
  },
  {
   "cell_type": "code",
   "execution_count": 37,
   "id": "52285f8b",
   "metadata": {
    "id": "VlGIUZmnDKHa"
   },
   "outputs": [],
   "source": [
    "#Train & Test data split\n",
    "from sklearn.model_selection import train_test_split\n",
    "\n",
    "x_train, x_test, y_train, y_test = train_test_split(train_data, train_label, test_size = 0.25, random_state = 10)"
   ]
  },
  {
   "cell_type": "markdown",
   "id": "9436ccf6",
   "metadata": {
    "id": "PfeqnsMrDQBO"
   },
   "source": [
    "**b)** 아래 코드를 실행해주세요."
   ]
  },
  {
   "cell_type": "code",
   "execution_count": 38,
   "id": "34c28668",
   "metadata": {
    "id": "Y0bX45-2DQP3"
   },
   "outputs": [],
   "source": [
    "from sklearn.tree import DecisionTreeClassifier\n",
    "from sklearn.metrics import accuracy_score\n",
    "dt=DecisionTreeClassifier(random_state=10)"
   ]
  },
  {
   "cell_type": "markdown",
   "id": "f88a6559",
   "metadata": {
    "id": "xxBUQQN_DSt6"
   },
   "source": [
    "**c)** DecisionTreeClassifier를 이용하여 학습/예측/평가를 해주세요. (`.fit()`, `.predict()`, `accuracy_score()` 이용)  **(5점)**"
   ]
  },
  {
   "cell_type": "code",
   "execution_count": 39,
   "id": "0d838225",
   "metadata": {
    "id": "N-CiN17QDTBb"
   },
   "outputs": [],
   "source": [
    "dt.fit(x_train, y_train)\n",
    "pred = dt.predict(x_test)"
   ]
  },
  {
   "cell_type": "code",
   "execution_count": 40,
   "id": "a33eb3b3",
   "metadata": {},
   "outputs": [
    {
     "name": "stdout",
     "output_type": "stream",
     "text": [
      "예측 정확도 :  0.5956\n"
     ]
    }
   ],
   "source": [
    "print(\"예측 정확도 : {0: .4f}\".format(accuracy_score(y_test, pred)))"
   ]
  },
  {
   "cell_type": "markdown",
   "id": "24cdac4f",
   "metadata": {
    "id": "JD0SaU42DV1g"
   },
   "source": [
    "## 실습8"
   ]
  },
  {
   "cell_type": "markdown",
   "id": "c287ee79",
   "metadata": {
    "id": "ZusXf_fTDXDC"
   },
   "source": [
    "### 8.1. Stratified KFold  (20점)"
   ]
  },
  {
   "cell_type": "markdown",
   "id": "fc2b2d16",
   "metadata": {
    "id": "On9arzZjDZyY"
   },
   "source": [
    "**a)** 아래 코드를 실행 후 진행해주세요."
   ]
  },
  {
   "cell_type": "code",
   "execution_count": 41,
   "id": "d1524ed3",
   "metadata": {
    "id": "KZLGxGHIDaFG"
   },
   "outputs": [],
   "source": [
    "from sklearn.tree import DecisionTreeClassifier\n",
    "from sklearn.model_selection import KFold\n",
    "from sklearn.metrics import accuracy_score\n",
    "from sklearn.model_selection import StratifiedKFold\n",
    "dt=DecisionTreeClassifier(random_state=10)"
   ]
  },
  {
   "cell_type": "markdown",
   "id": "aec787f9",
   "metadata": {
    "id": "9QWXR9mrDcvR"
   },
   "source": [
    "**b)** loan data의 index를 재정렬하고 변수 **x**에 loan의 \"Loan_Status\"열을 제외한 모든 데이터를, 변수 **y**에 loan의 \"Loan_Status\"열의 데이터를 저장한 다음 x,y의 길이를 확인해주세요.**(4점, `shape`사용)**"
   ]
  },
  {
   "cell_type": "code",
   "execution_count": 43,
   "id": "32879961",
   "metadata": {
    "id": "AFAGYP_FDc7S"
   },
   "outputs": [],
   "source": [
    "df = df.sort_index(ascending=False)"
   ]
  },
  {
   "cell_type": "code",
   "execution_count": 45,
   "id": "d8068363",
   "metadata": {},
   "outputs": [
    {
     "name": "stdout",
     "output_type": "stream",
     "text": [
      "(611, 14) (611,)\n"
     ]
    }
   ],
   "source": [
    "x = loan.drop(columns = 'Loan_Status', axis = 1)\n",
    "y = loan.Loan_Status\n",
    "print(x.shape, y.shape)"
   ]
  },
  {
   "cell_type": "markdown",
   "id": "947c1688",
   "metadata": {
    "id": "lcDUStMLDeKp"
   },
   "source": [
    "**c)** 변수 **kfold**에 k=4인 KFold 객체를 만들어 주고 **cv_accuracy_1** 리스트에 각 반복의 정확도를 소수점 5째 자리에서 반올림 한 다음 저장한 후 평균을 출력해주세요. **(6점, `split` 이용)**"
   ]
  },
  {
   "cell_type": "code",
   "execution_count": null,
   "id": "eb252f12",
   "metadata": {
    "id": "FS61MDDzDeWy"
   },
   "outputs": [],
   "source": []
  },
  {
   "cell_type": "markdown",
   "id": "e491086b",
   "metadata": {
    "id": "GnALpryFDgW4"
   },
   "source": [
    "**d)** 레이블 값의 분포도를 확인해 주세요. **(2점)**"
   ]
  },
  {
   "cell_type": "code",
   "execution_count": null,
   "id": "019c6e72",
   "metadata": {
    "id": "SdMJtedmDgka"
   },
   "outputs": [],
   "source": []
  },
  {
   "cell_type": "markdown",
   "id": "e3effd5a",
   "metadata": {
    "id": "IkLX1Ez-DjfR"
   },
   "source": [
    "**e)** 변수 **skf**에 k=4인 StratifedKFold 객체를 만들어 주고 **cv_accuracy_2**리스트에 각 반복의 정확도를 소수점 5째 자리에서 반올림 한 다음 저장한 후 평균을 출력해주세요. **(8점, `split` 이용)**"
   ]
  },
  {
   "cell_type": "code",
   "execution_count": null,
   "id": "b96ee1df",
   "metadata": {
    "id": "Gy2oAZYkDjt7"
   },
   "outputs": [],
   "source": []
  },
  {
   "cell_type": "markdown",
   "id": "7bdaf9c5",
   "metadata": {
    "id": "-T7DI0LNDlvA"
   },
   "source": [
    "## 8.2. Cross val score  (10점)"
   ]
  },
  {
   "cell_type": "markdown",
   "id": "46575b9c",
   "metadata": {
    "id": "JnzttNi6DodK"
   },
   "source": [
    "위에서 진행한 교차검증을 cross_val_score API를 이용하여 같은 결과를 내세요, 평가지표는 accuaracy를 사용하세요. **(10점)**"
   ]
  },
  {
   "cell_type": "code",
   "execution_count": 46,
   "id": "4687096a",
   "metadata": {
    "id": "xAcqJqf8DowD"
   },
   "outputs": [
    {
     "name": "stdout",
     "output_type": "stream",
     "text": [
      "교차 검증별 정확도: [0.69281 0.72549 0.75817 0.80921]\n",
      "평균 검증별 정확도: 0.74642\n"
     ]
    }
   ],
   "source": [
    "from sklearn.model_selection import cross_val_score, cross_validate\n",
    "scores = cross_val_score(dt, x, y, scoring = 'accuracy', cv = 4)\n",
    "\n",
    "print('교차 검증별 정확도:', np.round(scores, 5))\n",
    "print('평균 검증별 정확도:', np.round(np.mean(scores),5))"
   ]
  },
  {
   "cell_type": "markdown",
   "id": "9287c12a",
   "metadata": {
    "id": "TFCgz6vhDq1E"
   },
   "source": [
    "## 실습9"
   ]
  },
  {
   "cell_type": "markdown",
   "id": "d418421e",
   "metadata": {
    "id": "GiEb0xyoDsUM"
   },
   "source": [
    "### 9. GridSearchCV  (25점)"
   ]
  },
  {
   "cell_type": "markdown",
   "id": "57a11d12",
   "metadata": {
    "id": "MulpvE8KDvjG"
   },
   "source": [
    "**a)** 결정트리 모델(dt)의 하이퍼 파라미터를 찾는 코드를 작성하세요.(max_depth 값 3개(값은 자유), min_samples_split 값 3개(값은 자유), cv=3, refit=True 으로 설정) **(15점)**"
   ]
  },
  {
   "cell_type": "markdown",
   "id": "9e14114b",
   "metadata": {
    "id": "I1ahzIRlDxor"
   },
   "source": [
    "fitting은 **6번 문제** 에서 train_test_split을 통해 만든 **train dataset**에 대하여 적용해주시면 됩니다."
   ]
  },
  {
   "cell_type": "code",
   "execution_count": null,
   "id": "da5ba2d8",
   "metadata": {},
   "outputs": [],
   "source": [
    "dt=DecisionTreeClassifier(random_state=10)"
   ]
  },
  {
   "cell_type": "code",
   "execution_count": 61,
   "id": "903519d4",
   "metadata": {
    "id": "dVboyX7FDx2Q",
    "scrolled": true
   },
   "outputs": [
    {
     "name": "stdout",
     "output_type": "stream",
     "text": [
      "GridSearchCV 최적의 파라미터: {'criterion': 'gini', 'max_depth': 1, 'random_state': 8}\n",
      "GridSearchCV 최적의 정확도:0.8085\n"
     ]
    }
   ],
   "source": [
    "params = {'max_depth' : [1, 10, 100, 1000],\n",
    "          'criterion' : ['gini', 'entropy'],\n",
    "          'random_state' : [8, 10, 50, 100]}\n",
    "\n",
    "grid_dt = GridSearchCV(dt, param_grid = params, cv = 3, refit = True)\n",
    "grid_dt.fit(x, y)\n",
    "\n",
    "print('GridSearchCV 최적의 파라미터:', grid_dt.best_params_)\n",
    "print('GridSearchCV 최적의 정확도:{0:.4f}'.format(grid_dt.best_score_))"
   ]
  },
  {
   "cell_type": "markdown",
   "id": "e7613efb",
   "metadata": {
    "id": "XIDaG7YTDz4h"
   },
   "source": [
    "**b)** 위에서 진행한 GridSearchCV의 결과를 출력하고 그를 해석하세요.\n",
    "\n",
    "(최적의 하이퍼파라미터가 무엇인지, 출력되는 정확도의 개수 및 어떻게 그 개수가 나오는지 등..) **(10점)**"
   ]
  },
  {
   "cell_type": "code",
   "execution_count": 62,
   "id": "a5732b80",
   "metadata": {
    "id": "P242P82TD0eT",
    "scrolled": true
   },
   "outputs": [
    {
     "data": {
      "text/html": [
       "<div>\n",
       "<style scoped>\n",
       "    .dataframe tbody tr th:only-of-type {\n",
       "        vertical-align: middle;\n",
       "    }\n",
       "\n",
       "    .dataframe tbody tr th {\n",
       "        vertical-align: top;\n",
       "    }\n",
       "\n",
       "    .dataframe thead th {\n",
       "        text-align: right;\n",
       "    }\n",
       "</style>\n",
       "<table border=\"1\" class=\"dataframe\">\n",
       "  <thead>\n",
       "    <tr style=\"text-align: right;\">\n",
       "      <th></th>\n",
       "      <th>params</th>\n",
       "      <th>mean_test_score</th>\n",
       "    </tr>\n",
       "  </thead>\n",
       "  <tbody>\n",
       "    <tr>\n",
       "      <th>0</th>\n",
       "      <td>{'criterion': 'gini', 'max_depth': 1, 'random_...</td>\n",
       "      <td>0.808550</td>\n",
       "    </tr>\n",
       "    <tr>\n",
       "      <th>1</th>\n",
       "      <td>{'criterion': 'gini', 'max_depth': 1, 'random_...</td>\n",
       "      <td>0.808550</td>\n",
       "    </tr>\n",
       "    <tr>\n",
       "      <th>2</th>\n",
       "      <td>{'criterion': 'gini', 'max_depth': 1, 'random_...</td>\n",
       "      <td>0.808550</td>\n",
       "    </tr>\n",
       "    <tr>\n",
       "      <th>3</th>\n",
       "      <td>{'criterion': 'gini', 'max_depth': 1, 'random_...</td>\n",
       "      <td>0.808550</td>\n",
       "    </tr>\n",
       "    <tr>\n",
       "      <th>4</th>\n",
       "      <td>{'criterion': 'gini', 'max_depth': 10, 'random...</td>\n",
       "      <td>0.738192</td>\n",
       "    </tr>\n",
       "    <tr>\n",
       "      <th>5</th>\n",
       "      <td>{'criterion': 'gini', 'max_depth': 10, 'random...</td>\n",
       "      <td>0.738200</td>\n",
       "    </tr>\n",
       "    <tr>\n",
       "      <th>6</th>\n",
       "      <td>{'criterion': 'gini', 'max_depth': 10, 'random...</td>\n",
       "      <td>0.743086</td>\n",
       "    </tr>\n",
       "    <tr>\n",
       "      <th>7</th>\n",
       "      <td>{'criterion': 'gini', 'max_depth': 10, 'random...</td>\n",
       "      <td>0.738176</td>\n",
       "    </tr>\n",
       "    <tr>\n",
       "      <th>8</th>\n",
       "      <td>{'criterion': 'gini', 'max_depth': 100, 'rando...</td>\n",
       "      <td>0.693929</td>\n",
       "    </tr>\n",
       "    <tr>\n",
       "      <th>9</th>\n",
       "      <td>{'criterion': 'gini', 'max_depth': 100, 'rando...</td>\n",
       "      <td>0.703765</td>\n",
       "    </tr>\n",
       "    <tr>\n",
       "      <th>10</th>\n",
       "      <td>{'criterion': 'gini', 'max_depth': 100, 'rando...</td>\n",
       "      <td>0.698799</td>\n",
       "    </tr>\n",
       "    <tr>\n",
       "      <th>11</th>\n",
       "      <td>{'criterion': 'gini', 'max_depth': 100, 'rando...</td>\n",
       "      <td>0.690645</td>\n",
       "    </tr>\n",
       "    <tr>\n",
       "      <th>12</th>\n",
       "      <td>{'criterion': 'gini', 'max_depth': 1000, 'rand...</td>\n",
       "      <td>0.693929</td>\n",
       "    </tr>\n",
       "    <tr>\n",
       "      <th>13</th>\n",
       "      <td>{'criterion': 'gini', 'max_depth': 1000, 'rand...</td>\n",
       "      <td>0.703765</td>\n",
       "    </tr>\n",
       "    <tr>\n",
       "      <th>14</th>\n",
       "      <td>{'criterion': 'gini', 'max_depth': 1000, 'rand...</td>\n",
       "      <td>0.698799</td>\n",
       "    </tr>\n",
       "    <tr>\n",
       "      <th>15</th>\n",
       "      <td>{'criterion': 'gini', 'max_depth': 1000, 'rand...</td>\n",
       "      <td>0.690645</td>\n",
       "    </tr>\n",
       "    <tr>\n",
       "      <th>16</th>\n",
       "      <td>{'criterion': 'entropy', 'max_depth': 1, 'rand...</td>\n",
       "      <td>0.808550</td>\n",
       "    </tr>\n",
       "    <tr>\n",
       "      <th>17</th>\n",
       "      <td>{'criterion': 'entropy', 'max_depth': 1, 'rand...</td>\n",
       "      <td>0.808550</td>\n",
       "    </tr>\n",
       "    <tr>\n",
       "      <th>18</th>\n",
       "      <td>{'criterion': 'entropy', 'max_depth': 1, 'rand...</td>\n",
       "      <td>0.808550</td>\n",
       "    </tr>\n",
       "    <tr>\n",
       "      <th>19</th>\n",
       "      <td>{'criterion': 'entropy', 'max_depth': 1, 'rand...</td>\n",
       "      <td>0.808550</td>\n",
       "    </tr>\n",
       "    <tr>\n",
       "      <th>20</th>\n",
       "      <td>{'criterion': 'entropy', 'max_depth': 10, 'ran...</td>\n",
       "      <td>0.743054</td>\n",
       "    </tr>\n",
       "    <tr>\n",
       "      <th>21</th>\n",
       "      <td>{'criterion': 'entropy', 'max_depth': 10, 'ran...</td>\n",
       "      <td>0.738144</td>\n",
       "    </tr>\n",
       "    <tr>\n",
       "      <th>22</th>\n",
       "      <td>{'criterion': 'entropy', 'max_depth': 10, 'ran...</td>\n",
       "      <td>0.739761</td>\n",
       "    </tr>\n",
       "    <tr>\n",
       "      <th>23</th>\n",
       "      <td>{'criterion': 'entropy', 'max_depth': 10, 'ran...</td>\n",
       "      <td>0.739778</td>\n",
       "    </tr>\n",
       "    <tr>\n",
       "      <th>24</th>\n",
       "      <td>{'criterion': 'entropy', 'max_depth': 100, 'ra...</td>\n",
       "      <td>0.716853</td>\n",
       "    </tr>\n",
       "    <tr>\n",
       "      <th>25</th>\n",
       "      <td>{'criterion': 'entropy', 'max_depth': 100, 'ra...</td>\n",
       "      <td>0.695563</td>\n",
       "    </tr>\n",
       "    <tr>\n",
       "      <th>26</th>\n",
       "      <td>{'criterion': 'entropy', 'max_depth': 100, 'ra...</td>\n",
       "      <td>0.698831</td>\n",
       "    </tr>\n",
       "    <tr>\n",
       "      <th>27</th>\n",
       "      <td>{'criterion': 'entropy', 'max_depth': 100, 'ra...</td>\n",
       "      <td>0.702107</td>\n",
       "    </tr>\n",
       "    <tr>\n",
       "      <th>28</th>\n",
       "      <td>{'criterion': 'entropy', 'max_depth': 1000, 'r...</td>\n",
       "      <td>0.716853</td>\n",
       "    </tr>\n",
       "    <tr>\n",
       "      <th>29</th>\n",
       "      <td>{'criterion': 'entropy', 'max_depth': 1000, 'r...</td>\n",
       "      <td>0.695563</td>\n",
       "    </tr>\n",
       "    <tr>\n",
       "      <th>30</th>\n",
       "      <td>{'criterion': 'entropy', 'max_depth': 1000, 'r...</td>\n",
       "      <td>0.698831</td>\n",
       "    </tr>\n",
       "    <tr>\n",
       "      <th>31</th>\n",
       "      <td>{'criterion': 'entropy', 'max_depth': 1000, 'r...</td>\n",
       "      <td>0.702107</td>\n",
       "    </tr>\n",
       "  </tbody>\n",
       "</table>\n",
       "</div>"
      ],
      "text/plain": [
       "                                               params  mean_test_score\n",
       "0   {'criterion': 'gini', 'max_depth': 1, 'random_...         0.808550\n",
       "1   {'criterion': 'gini', 'max_depth': 1, 'random_...         0.808550\n",
       "2   {'criterion': 'gini', 'max_depth': 1, 'random_...         0.808550\n",
       "3   {'criterion': 'gini', 'max_depth': 1, 'random_...         0.808550\n",
       "4   {'criterion': 'gini', 'max_depth': 10, 'random...         0.738192\n",
       "5   {'criterion': 'gini', 'max_depth': 10, 'random...         0.738200\n",
       "6   {'criterion': 'gini', 'max_depth': 10, 'random...         0.743086\n",
       "7   {'criterion': 'gini', 'max_depth': 10, 'random...         0.738176\n",
       "8   {'criterion': 'gini', 'max_depth': 100, 'rando...         0.693929\n",
       "9   {'criterion': 'gini', 'max_depth': 100, 'rando...         0.703765\n",
       "10  {'criterion': 'gini', 'max_depth': 100, 'rando...         0.698799\n",
       "11  {'criterion': 'gini', 'max_depth': 100, 'rando...         0.690645\n",
       "12  {'criterion': 'gini', 'max_depth': 1000, 'rand...         0.693929\n",
       "13  {'criterion': 'gini', 'max_depth': 1000, 'rand...         0.703765\n",
       "14  {'criterion': 'gini', 'max_depth': 1000, 'rand...         0.698799\n",
       "15  {'criterion': 'gini', 'max_depth': 1000, 'rand...         0.690645\n",
       "16  {'criterion': 'entropy', 'max_depth': 1, 'rand...         0.808550\n",
       "17  {'criterion': 'entropy', 'max_depth': 1, 'rand...         0.808550\n",
       "18  {'criterion': 'entropy', 'max_depth': 1, 'rand...         0.808550\n",
       "19  {'criterion': 'entropy', 'max_depth': 1, 'rand...         0.808550\n",
       "20  {'criterion': 'entropy', 'max_depth': 10, 'ran...         0.743054\n",
       "21  {'criterion': 'entropy', 'max_depth': 10, 'ran...         0.738144\n",
       "22  {'criterion': 'entropy', 'max_depth': 10, 'ran...         0.739761\n",
       "23  {'criterion': 'entropy', 'max_depth': 10, 'ran...         0.739778\n",
       "24  {'criterion': 'entropy', 'max_depth': 100, 'ra...         0.716853\n",
       "25  {'criterion': 'entropy', 'max_depth': 100, 'ra...         0.695563\n",
       "26  {'criterion': 'entropy', 'max_depth': 100, 'ra...         0.698831\n",
       "27  {'criterion': 'entropy', 'max_depth': 100, 'ra...         0.702107\n",
       "28  {'criterion': 'entropy', 'max_depth': 1000, 'r...         0.716853\n",
       "29  {'criterion': 'entropy', 'max_depth': 1000, 'r...         0.695563\n",
       "30  {'criterion': 'entropy', 'max_depth': 1000, 'r...         0.698831\n",
       "31  {'criterion': 'entropy', 'max_depth': 1000, 'r...         0.702107"
      ]
     },
     "execution_count": 62,
     "metadata": {},
     "output_type": "execute_result"
    }
   ],
   "source": [
    "scores_dt = pd.DataFrame(grid_dt.cv_results_)\n",
    "scores_dt[['params', 'mean_test_score']] # 4 x 2 x 4 = 32개"
   ]
  },
  {
   "cell_type": "code",
   "execution_count": 63,
   "id": "856a65d3",
   "metadata": {},
   "outputs": [
    {
     "data": {
      "text/plain": [
       "'\\n최적의 파라미터는 criterion 옵션을 gini, max_depth 옵션을 1, \\nrandom_state 옵션을 8로 설정해줬을 때이고\\n\\n행의 개수가 32개이기 때문에 출력되는 정확도의 개수 또한 맞다.\\n'"
      ]
     },
     "execution_count": 63,
     "metadata": {},
     "output_type": "execute_result"
    }
   ],
   "source": [
    "'''\n",
    "최적의 파라미터는 criterion 옵션을 gini, max_depth 옵션을 1, \n",
    "random_state 옵션을 8로 설정해줬을 때이고\n",
    "\n",
    "행의 개수가 32개이기 때문에 출력되는 정확도의 개수 또한 맞다.\n",
    "'''"
   ]
  },
  {
   "cell_type": "code",
   "execution_count": null,
   "id": "5ee53ae1",
   "metadata": {},
   "outputs": [],
   "source": []
  }
 ],
 "metadata": {
  "colab": {
   "provenance": []
  },
  "kernelspec": {
   "display_name": "Python 3 (ipykernel)",
   "language": "python",
   "name": "python3"
  },
  "language_info": {
   "codemirror_mode": {
    "name": "ipython",
    "version": 3
   },
   "file_extension": ".py",
   "mimetype": "text/x-python",
   "name": "python",
   "nbconvert_exporter": "python",
   "pygments_lexer": "ipython3",
   "version": "3.11.5"
  }
 },
 "nbformat": 4,
 "nbformat_minor": 5
}
