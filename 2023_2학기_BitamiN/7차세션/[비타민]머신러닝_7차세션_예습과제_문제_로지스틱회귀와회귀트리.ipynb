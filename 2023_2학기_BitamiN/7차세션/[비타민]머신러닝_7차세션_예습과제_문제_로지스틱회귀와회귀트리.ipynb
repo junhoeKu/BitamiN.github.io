{
 "cells": [
  {
   "cell_type": "markdown",
   "metadata": {},
   "source": [
    "# 실습 2 - 로지스틱 회귀와 회귀 트리"
   ]
  },
  {
   "cell_type": "markdown",
   "metadata": {},
   "source": [
    "##### Logistic Regression"
   ]
  },
  {
   "cell_type": "markdown",
   "metadata": {},
   "source": [
    "##### 2-0. 로지스틱 회귀 알고리즘이 참고하는 함수의 이름은?"
   ]
  },
  {
   "cell_type": "markdown",
   "metadata": {},
   "source": []
  },
  {
   "cell_type": "markdown",
   "metadata": {},
   "source": [
    "##### Data Load"
   ]
  },
  {
   "cell_type": "code",
   "execution_count": null,
   "metadata": {},
   "outputs": [],
   "source": [
    "import pandas as pd\n",
    "import matplotlib.pyplot as plt\n",
    "%matplotlib inline\n",
    "\n",
    "from sklearn.datasets import load_breast_cancer\n",
    "from sklearn.linear_model import LogisticRegression\n",
    "\n",
    "cancer = load_breast_cancer()"
   ]
  },
  {
   "cell_type": "markdown",
   "metadata": {},
   "source": [
    "##### 2-1. StandardScaler를 이용해 스케일링을 진행하고 train, test 데이터셋을 분리해주세요."
   ]
  },
  {
   "cell_type": "code",
   "execution_count": null,
   "metadata": {},
   "outputs": [],
   "source": [
    "from sklearn.preprocessing import StandardScaler\n",
    "from sklearn.model_selection import train_test_split\n",
    "\n",
    "# StandardScaler( )로 평균이 0, 분산 1로 데이터 분포도 변환\n",
    "\n",
    "# train, test 데이터셋 분리 test_size = 0.3, random_state = 0\n"
   ]
  },
  {
   "cell_type": "markdown",
   "metadata": {},
   "source": [
    "##### 2-2. Logistic Regression을 이용해서 학습, 예측을 수행하는데 점수를 낼 때 roc_auc_score로 해서 predict의 점수 / predict_proba의 점수를 각각 내고 predict() 함수와 predict_proba() 함수의 차이를 써주세요."
   ]
  },
  {
   "cell_type": "code",
   "execution_count": null,
   "metadata": {},
   "outputs": [],
   "source": [
    "from sklearn.metrics import accuracy_score, roc_auc_score\n",
    "\n",
    "# 로지스틱 회귀를 이용하여 학습 및 예측 수행\n",
    "\n",
    "# predict데이터, predict_proba데이터 각각에 대한 roc_auc_score 측정\n",
    "print('roc_auc: {0:.3f}, roc_auc:{1:.3f}'.format(roc_auc_score(),\n",
    "                                                 roc_auc_score()))"
   ]
  },
  {
   "cell_type": "markdown",
   "metadata": {},
   "source": [
    "predict() 함수와 predict_proba() 함수의 차이는?"
   ]
  },
  {
   "cell_type": "markdown",
   "metadata": {},
   "source": []
  },
  {
   "cell_type": "markdown",
   "metadata": {},
   "source": [
    "---"
   ]
  },
  {
   "cell_type": "markdown",
   "metadata": {},
   "source": [
    "##### 회귀 트리"
   ]
  },
  {
   "cell_type": "code",
   "execution_count": null,
   "metadata": {},
   "outputs": [],
   "source": [
    "from sklearn.model_selection import cross_val_score\n",
    "from sklearn.ensemble import RandomForestRegressor\n",
    "from sklearn.linear_model import LinearRegression\n",
    "import pandas as pd\n",
    "import numpy as np\n",
    "import warnings\n",
    "from sklearn.tree import DecisionTreeRegressor\n",
    "from sklearn.ensemble import GradientBoostingRegressor\n",
    "from xgboost import XGBRegressor\n",
    "import seaborn as sns\n",
    "%matplotlib inline\n",
    "import matplotlib.pyplot as plt\n",
    "%matplotlib inline"
   ]
  },
  {
   "cell_type": "markdown",
   "metadata": {},
   "source": [
    "##### 2-3. 다음은 여러 광고 매체에 따른 매출액 데이터입니다.\n",
    "##### 주어진 함수를 사용해서 DT, RF, GB, XGB 각각에 대한 평균 RMSE 값을 구해주세요."
   ]
  },
  {
   "cell_type": "code",
   "execution_count": null,
   "metadata": {},
   "outputs": [],
   "source": [
    "# 여러 광고 매체들에 의한 매출액 증가 데이터\n",
    "ad = pd.read_csv(\"Advertising.csv\")\n",
    "y_target = ad.Sales\n",
    "X_data = ad[['TV', 'Radio', 'Newspaper']]"
   ]
  },
  {
   "cell_type": "code",
   "execution_count": null,
   "metadata": {},
   "outputs": [],
   "source": [
    "def get_model_cv_prediction(model, X_data, y_target):\n",
    "    neg_mse_scores = cross_val_score(model, X_data, y_target, scoring=\"neg_mean_squared_error\", cv = 5)\n",
    "    rmse_scores  = np.sqrt(-1 * neg_mse_scores)\n",
    "    avg_rmse = np.mean(rmse_scores)\n",
    "    print('##### ',model.__class__.__name__ , ' #####')\n",
    "    print(' 5 교차 검증의 평균 RMSE : {0:.3f} '.format(avg_rmse))\n",
    "\n",
    "# 각각의 모델은 max_depth = 5, random_state = 0, n_estimators = 1000으로 합니다.\n",
    "dt_reg = \n",
    "rf_reg = \n",
    "gb_reg = \n",
    "xgb_reg = \n",
    "\n",
    "# 트리 기반의 회귀 모델을 반복하면서 평가 수행 \n",
    "models = []\n",
    "for model in models:  \n",
    "    get_model_cv_prediction(model, X_data, y_target)"
   ]
  },
  {
   "cell_type": "markdown",
   "metadata": {},
   "source": [
    "##### 2-4. XGB 모델의 feature_importance를 시각화하고 중요도가 가장 낮은 변수가 뭔지 써주세요.\n"
   ]
  },
  {
   "cell_type": "code",
   "execution_count": null,
   "metadata": {
    "scrolled": false
   },
   "outputs": [],
   "source": [
    "# XGB 모델 정의 n_estimators = 1000\n",
    "xgb_reg = \n",
    "\n",
    "# X_data, y_target 데이터 셋을 적용하여 학습\n",
    "\n",
    "feature_series = pd.Series(data=xgb_reg.feature_importances_, index=X_data.columns)\n",
    "feature_series = feature_series.sort_values(ascending=False)\n",
    "plt.figure(figsize=(12, 2))\n",
    "sns.barplot(x= feature_series, y=feature_series.index)\n",
    "plt.show()"
   ]
  },
  {
   "cell_type": "markdown",
   "metadata": {},
   "source": [
    "가장 중요도가 낮은 변수는?"
   ]
  },
  {
   "cell_type": "markdown",
   "metadata": {},
   "source": []
  },
  {
   "cell_type": "markdown",
   "metadata": {},
   "source": [
    "##### 2-5. TV가 Sales에 미치는 영향을 알아보기 위해 LinearRegression, RandomForestRegressor의 두 모형을 사용하기로 함.\n",
    "##### RandomForestRegressor()의 max_depth는 각각 3, 10으로 설정하고 테스트용 데이터를 0에서 300까지 설정해서 시각화해주세요."
   ]
  },
  {
   "cell_type": "code",
   "execution_count": null,
   "metadata": {},
   "outputs": [],
   "source": [
    "ad_sample = ad[['TV','Sales']]\n",
    "ad_sample = ad_sample.sample(n=100,random_state=0)\n",
    "\n",
    "# 선형 회귀와 트리 기반의 Regressor 생성. RandomForestRegressor의 max_depth는 각각 3, 10\n",
    "lr_reg = \n",
    "rf_reg3 = \n",
    "rf_reg10 = \n",
    "\n",
    "# 실제 예측을 적용할 테스트용 데이터 셋을 0 ~ 300 까지 100개 데이터 셋 생성. \n",
    "X_test = np.arange(, 0.04).reshape(-1, 1)\n",
    "\n",
    "# ad 데이터에서 시각화를 위해 피처는 TV만, 그리고 결정 데이터인 Sales 추출\n",
    "X_feature = ad_sample['TV'].values.reshape(-1,1)\n",
    "y_target = ad_sample['Sales'].values.reshape(-1,1)\n",
    "\n",
    "# 학습과 예측 수행. \n",
    "lr_reg.fit(X_feature, y_target)\n",
    "rf_reg3.fit(X_feature, y_target)\n",
    "rf_reg10.fit(X_feature, y_target)\n",
    "\n",
    "pred_lr = lr_reg.predict(X_test)\n",
    "pred_rf3 = rf_reg3.predict(X_test)\n",
    "pred_rf10 = rf_reg10.predict(X_test)"
   ]
  },
  {
   "cell_type": "code",
   "execution_count": null,
   "metadata": {},
   "outputs": [],
   "source": [
    "fig , (ax1, ax2, ax3) = plt.subplots(figsize=(14,4), ncols=3)\n",
    "\n",
    "# X축값을 0 ~ 300으로 변환하며 입력했을 때, 선형 회귀와 트리 회귀 예측 선 시각화\n",
    "# 선형 회귀로 학습된 모델 회귀 예측선 \n",
    "ax1.set_title('Linear Regression')\n",
    "ax1.scatter(ad_sample.TV , ad_sample.Sales,c=\"darkorange\")\n",
    "ax1.plot(X_test, pred_lr,label=\"linear\", linewidth=2 )\n",
    "\n",
    "# RandomForestRegressor의 max_depth를 3로 했을 때 회귀 예측선 \n",
    "ax2.set_title('Random Forest Regressor: \\n max_depth=3')\n",
    "ax2.scatter(ad_sample.TV , ad_sample.Sales,c=\"darkorange\")\n",
    "ax2.plot(X_test, pred_rf3, label=\"max_depth:3\", linewidth=2 )\n",
    "\n",
    "# RandomForestRegressor의 max_depth를 10로 했을 때 회귀 예측선 \n",
    "ax3.set_title('Random Forest Regressor: \\n max_depth=10')\n",
    "ax3.scatter(ad_sample.TV , ad_sample.Sales,c=\"darkorange\")\n",
    "ax3.plot(X_test, pred_rf10, label=\"max_depth:10\", linewidth=2)\n",
    "plt.show()"
   ]
  },
  {
   "cell_type": "code",
   "execution_count": null,
   "metadata": {},
   "outputs": [],
   "source": []
  }
 ],
 "metadata": {
  "kernelspec": {
   "display_name": "Python 3 (ipykernel)",
   "language": "python",
   "name": "python3"
  },
  "language_info": {
   "codemirror_mode": {
    "name": "ipython",
    "version": 3
   },
   "file_extension": ".py",
   "mimetype": "text/x-python",
   "name": "python",
   "nbconvert_exporter": "python",
   "pygments_lexer": "ipython3",
   "version": "3.11.5"
  }
 },
 "nbformat": 4,
 "nbformat_minor": 2
}
