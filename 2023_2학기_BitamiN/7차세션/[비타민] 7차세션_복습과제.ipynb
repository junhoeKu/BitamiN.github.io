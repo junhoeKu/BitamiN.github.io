{
 "cells": [
  {
   "cell_type": "markdown",
   "id": "126ae430",
   "metadata": {},
   "source": [
    "# 선박 대기시간 예측"
   ]
  },
  {
   "cell_type": "code",
   "execution_count": 49,
   "id": "da9c5821",
   "metadata": {},
   "outputs": [],
   "source": [
    "from sklearn.model_selection import cross_val_score\n",
    "from sklearn.ensemble import RandomForestRegressor\n",
    "from sklearn.linear_model import LinearRegression\n",
    "import pandas as pd\n",
    "import numpy as np\n",
    "import warnings\n",
    "from sklearn.preprocessing import StandardScaler\n",
    "from sklearn.model_selection import train_test_split\n",
    "from xgboost import XGBRegressor\n",
    "import statsmodels.formula.api as smf\n",
    "from statsmodels.stats.outliers_influence import OLSInfluence\n",
    "from category_encoders import TargetEncoder #####\n",
    "import seaborn as sns\n",
    "%matplotlib inline\n",
    "import matplotlib.pyplot as plt\n",
    "%matplotlib inline\n",
    "\n",
    "# 선박 대기시간 예측 데이터\n",
    "ship = pd.read_csv('ship.csv')"
   ]
  },
  {
   "cell_type": "markdown",
   "id": "c155f2ba",
   "metadata": {},
   "source": [
    "##### ship columns\n",
    "- DIST = 선박과 접안지 사이의 거리\n",
    "- ATA = 접안지에 들어온 시각\n",
    "- ID = 선박의 고유번호 (index와 다릅니다)\n",
    "- BREADTH = 선박의 폭\n",
    "- DEADWEIGHT = 선박의 무게(선박무게 + 적재물량 무게)\n",
    "- DEPTH = 선박의 높이\n",
    "- GT = 선박의 부피\n",
    "- LENGTH = 선박의 길이\n",
    "- PORT_SIZE = 항구의 접안 지역 크기\n",
    "- CI_HOUR = 선박 대기시간 -> target"
   ]
  },
  {
   "cell_type": "markdown",
   "id": "7e19c7dd",
   "metadata": {},
   "source": [
    "##### 문제 1 : smf의 OLS를 사용해 회귀분석 진행 (6점)\n",
    "##### (1) ATA와 ID column을 제외한 numeric feature들만 가지는 ship_num을 생성 후 ols로 회귀분석을 진행 (2점)\n",
    "##### (2) numeric feature에 StandardScaler를 적용시킨 ship_num_scaled로 한번 더 회귀분석을 진행 (2점)\n",
    "##### (3) 두 결과에서 각 feature의 t 통계량에 어떤 변화가 있는지 확인합니다. (2점)"
   ]
  },
  {
   "cell_type": "code",
   "execution_count": 50,
   "id": "dfdb0a53",
   "metadata": {},
   "outputs": [],
   "source": [
    "# ship_num 데이터프레임 생성\n",
    "ship_num = ship.drop(columns = ['ATA', 'ID'])"
   ]
  },
  {
   "cell_type": "code",
   "execution_count": 51,
   "id": "fe664302",
   "metadata": {
    "scrolled": true
   },
   "outputs": [
    {
     "data": {
      "text/html": [
       "<table class=\"simpletable\">\n",
       "<caption>OLS Regression Results</caption>\n",
       "<tr>\n",
       "  <th>Dep. Variable:</th>         <td>CI_HOUR</td>     <th>  R-squared:         </th>  <td>   0.056</td>  \n",
       "</tr>\n",
       "<tr>\n",
       "  <th>Model:</th>                   <td>OLS</td>       <th>  Adj. R-squared:    </th>  <td>   0.056</td>  \n",
       "</tr>\n",
       "<tr>\n",
       "  <th>Method:</th>             <td>Least Squares</td>  <th>  F-statistic:       </th>  <td>   624.1</td>  \n",
       "</tr>\n",
       "<tr>\n",
       "  <th>Date:</th>             <td>Sat, 28 Oct 2023</td> <th>  Prob (F-statistic):</th>   <td>  0.00</td>   \n",
       "</tr>\n",
       "<tr>\n",
       "  <th>Time:</th>                 <td>22:17:27</td>     <th>  Log-Likelihood:    </th> <td>-4.8575e+05</td>\n",
       "</tr>\n",
       "<tr>\n",
       "  <th>No. Observations:</th>      <td> 73468</td>      <th>  AIC:               </th>  <td>9.715e+05</td> \n",
       "</tr>\n",
       "<tr>\n",
       "  <th>Df Residuals:</th>          <td> 73460</td>      <th>  BIC:               </th>  <td>9.716e+05</td> \n",
       "</tr>\n",
       "<tr>\n",
       "  <th>Df Model:</th>              <td>     7</td>      <th>                     </th>      <td> </td>     \n",
       "</tr>\n",
       "<tr>\n",
       "  <th>Covariance Type:</th>      <td>nonrobust</td>    <th>                     </th>      <td> </td>     \n",
       "</tr>\n",
       "</table>\n",
       "<table class=\"simpletable\">\n",
       "<tr>\n",
       "       <td></td>         <th>coef</th>     <th>std err</th>      <th>t</th>      <th>P>|t|</th>  <th>[0.025</th>    <th>0.975]</th>  \n",
       "</tr>\n",
       "<tr>\n",
       "  <th>Intercept</th>  <td>   55.6165</td> <td>    2.673</td> <td>   20.803</td> <td> 0.000</td> <td>   50.377</td> <td>   60.856</td>\n",
       "</tr>\n",
       "<tr>\n",
       "  <th>DIST</th>       <td>    1.3040</td> <td>    0.022</td> <td>   59.122</td> <td> 0.000</td> <td>    1.261</td> <td>    1.347</td>\n",
       "</tr>\n",
       "<tr>\n",
       "  <th>BREADTH</th>    <td>   -0.1317</td> <td>    0.180</td> <td>   -0.733</td> <td> 0.464</td> <td>   -0.484</td> <td>    0.221</td>\n",
       "</tr>\n",
       "<tr>\n",
       "  <th>DEADWEIGHT</th> <td>    0.0005</td> <td> 3.38e-05</td> <td>   14.061</td> <td> 0.000</td> <td>    0.000</td> <td>    0.001</td>\n",
       "</tr>\n",
       "<tr>\n",
       "  <th>DEPTH</th>      <td>    2.7083</td> <td>    0.201</td> <td>   13.463</td> <td> 0.000</td> <td>    2.314</td> <td>    3.103</td>\n",
       "</tr>\n",
       "<tr>\n",
       "  <th>GT</th>         <td>   -0.0001</td> <td> 6.68e-05</td> <td>   -2.166</td> <td> 0.030</td> <td>   -0.000</td> <td>-1.37e-05</td>\n",
       "</tr>\n",
       "<tr>\n",
       "  <th>LENGTH</th>     <td>   -0.4025</td> <td>    0.030</td> <td>  -13.236</td> <td> 0.000</td> <td>   -0.462</td> <td>   -0.343</td>\n",
       "</tr>\n",
       "<tr>\n",
       "  <th>PORT_SIZE</th>  <td> 4986.1652</td> <td>  797.721</td> <td>    6.251</td> <td> 0.000</td> <td> 3422.636</td> <td> 6549.695</td>\n",
       "</tr>\n",
       "</table>\n",
       "<table class=\"simpletable\">\n",
       "<tr>\n",
       "  <th>Omnibus:</th>       <td>81800.513</td> <th>  Durbin-Watson:     </th>  <td>   2.004</td>  \n",
       "</tr>\n",
       "<tr>\n",
       "  <th>Prob(Omnibus):</th>  <td> 0.000</td>   <th>  Jarque-Bera (JB):  </th> <td>6423976.575</td>\n",
       "</tr>\n",
       "<tr>\n",
       "  <th>Skew:</th>           <td> 5.882</td>   <th>  Prob(JB):          </th>  <td>    0.00</td>  \n",
       "</tr>\n",
       "<tr>\n",
       "  <th>Kurtosis:</th>       <td>47.274</td>   <th>  Cond. No.          </th>  <td>1.11e+08</td>  \n",
       "</tr>\n",
       "</table><br/><br/>Notes:<br/>[1] Standard Errors assume that the covariance matrix of the errors is correctly specified.<br/>[2] The condition number is large, 1.11e+08. This might indicate that there are<br/>strong multicollinearity or other numerical problems."
      ],
      "text/latex": [
       "\\begin{center}\n",
       "\\begin{tabular}{lclc}\n",
       "\\toprule\n",
       "\\textbf{Dep. Variable:}    &     CI\\_HOUR     & \\textbf{  R-squared:         } &      0.056   \\\\\n",
       "\\textbf{Model:}            &       OLS        & \\textbf{  Adj. R-squared:    } &      0.056   \\\\\n",
       "\\textbf{Method:}           &  Least Squares   & \\textbf{  F-statistic:       } &      624.1   \\\\\n",
       "\\textbf{Date:}             & Sat, 28 Oct 2023 & \\textbf{  Prob (F-statistic):} &      0.00    \\\\\n",
       "\\textbf{Time:}             &     22:17:27     & \\textbf{  Log-Likelihood:    } & -4.8575e+05  \\\\\n",
       "\\textbf{No. Observations:} &       73468      & \\textbf{  AIC:               } &  9.715e+05   \\\\\n",
       "\\textbf{Df Residuals:}     &       73460      & \\textbf{  BIC:               } &  9.716e+05   \\\\\n",
       "\\textbf{Df Model:}         &           7      & \\textbf{                     } &              \\\\\n",
       "\\textbf{Covariance Type:}  &    nonrobust     & \\textbf{                     } &              \\\\\n",
       "\\bottomrule\n",
       "\\end{tabular}\n",
       "\\begin{tabular}{lcccccc}\n",
       "                    & \\textbf{coef} & \\textbf{std err} & \\textbf{t} & \\textbf{P$> |$t$|$} & \\textbf{[0.025} & \\textbf{0.975]}  \\\\\n",
       "\\midrule\n",
       "\\textbf{Intercept}  &      55.6165  &        2.673     &    20.803  &         0.000        &       50.377    &       60.856     \\\\\n",
       "\\textbf{DIST}       &       1.3040  &        0.022     &    59.122  &         0.000        &        1.261    &        1.347     \\\\\n",
       "\\textbf{BREADTH}    &      -0.1317  &        0.180     &    -0.733  &         0.464        &       -0.484    &        0.221     \\\\\n",
       "\\textbf{DEADWEIGHT} &       0.0005  &     3.38e-05     &    14.061  &         0.000        &        0.000    &        0.001     \\\\\n",
       "\\textbf{DEPTH}      &       2.7083  &        0.201     &    13.463  &         0.000        &        2.314    &        3.103     \\\\\n",
       "\\textbf{GT}         &      -0.0001  &     6.68e-05     &    -2.166  &         0.030        &       -0.000    &    -1.37e-05     \\\\\n",
       "\\textbf{LENGTH}     &      -0.4025  &        0.030     &   -13.236  &         0.000        &       -0.462    &       -0.343     \\\\\n",
       "\\textbf{PORT\\_SIZE} &    4986.1652  &      797.721     &     6.251  &         0.000        &     3422.636    &     6549.695     \\\\\n",
       "\\bottomrule\n",
       "\\end{tabular}\n",
       "\\begin{tabular}{lclc}\n",
       "\\textbf{Omnibus:}       & 81800.513 & \\textbf{  Durbin-Watson:     } &      2.004   \\\\\n",
       "\\textbf{Prob(Omnibus):} &    0.000  & \\textbf{  Jarque-Bera (JB):  } & 6423976.575  \\\\\n",
       "\\textbf{Skew:}          &    5.882  & \\textbf{  Prob(JB):          } &       0.00   \\\\\n",
       "\\textbf{Kurtosis:}      &   47.274  & \\textbf{  Cond. No.          } &   1.11e+08   \\\\\n",
       "\\bottomrule\n",
       "\\end{tabular}\n",
       "%\\caption{OLS Regression Results}\n",
       "\\end{center}\n",
       "\n",
       "Notes: \\newline\n",
       " [1] Standard Errors assume that the covariance matrix of the errors is correctly specified. \\newline\n",
       " [2] The condition number is large, 1.11e+08. This might indicate that there are \\newline\n",
       " strong multicollinearity or other numerical problems."
      ],
      "text/plain": [
       "<class 'statsmodels.iolib.summary.Summary'>\n",
       "\"\"\"\n",
       "                            OLS Regression Results                            \n",
       "==============================================================================\n",
       "Dep. Variable:                CI_HOUR   R-squared:                       0.056\n",
       "Model:                            OLS   Adj. R-squared:                  0.056\n",
       "Method:                 Least Squares   F-statistic:                     624.1\n",
       "Date:                Sat, 28 Oct 2023   Prob (F-statistic):               0.00\n",
       "Time:                        22:17:27   Log-Likelihood:            -4.8575e+05\n",
       "No. Observations:               73468   AIC:                         9.715e+05\n",
       "Df Residuals:                   73460   BIC:                         9.716e+05\n",
       "Df Model:                           7                                         \n",
       "Covariance Type:            nonrobust                                         \n",
       "==============================================================================\n",
       "                 coef    std err          t      P>|t|      [0.025      0.975]\n",
       "------------------------------------------------------------------------------\n",
       "Intercept     55.6165      2.673     20.803      0.000      50.377      60.856\n",
       "DIST           1.3040      0.022     59.122      0.000       1.261       1.347\n",
       "BREADTH       -0.1317      0.180     -0.733      0.464      -0.484       0.221\n",
       "DEADWEIGHT     0.0005   3.38e-05     14.061      0.000       0.000       0.001\n",
       "DEPTH          2.7083      0.201     13.463      0.000       2.314       3.103\n",
       "GT            -0.0001   6.68e-05     -2.166      0.030      -0.000   -1.37e-05\n",
       "LENGTH        -0.4025      0.030    -13.236      0.000      -0.462      -0.343\n",
       "PORT_SIZE   4986.1652    797.721      6.251      0.000    3422.636    6549.695\n",
       "==============================================================================\n",
       "Omnibus:                    81800.513   Durbin-Watson:                   2.004\n",
       "Prob(Omnibus):                  0.000   Jarque-Bera (JB):          6423976.575\n",
       "Skew:                           5.882   Prob(JB):                         0.00\n",
       "Kurtosis:                      47.274   Cond. No.                     1.11e+08\n",
       "==============================================================================\n",
       "\n",
       "Notes:\n",
       "[1] Standard Errors assume that the covariance matrix of the errors is correctly specified.\n",
       "[2] The condition number is large, 1.11e+08. This might indicate that there are\n",
       "strong multicollinearity or other numerical problems.\n",
       "\"\"\""
      ]
     },
     "execution_count": 51,
     "metadata": {},
     "output_type": "execute_result"
    }
   ],
   "source": [
    "# ols를 사용하면 각 종속변수에 대한 회귀계수와 t 통계량 p-value등 회귀분석을 진행할 수 있습니다.\n",
    "model = smf.ols('CI_HOUR ~ '+\"+\".join(ship_num.columns[:-1]), data = ship_num).fit()\n",
    "model.summary()"
   ]
  },
  {
   "cell_type": "code",
   "execution_count": 52,
   "id": "2e7edc73",
   "metadata": {},
   "outputs": [],
   "source": [
    "# 스케일링 진행\n",
    "scaler = StandardScaler()\n",
    "\n",
    "# ship_num_scaled 데이터프레임 생성\n",
    "ship_num_scaled = pd.DataFrame(scaler.fit_transform(ship_num), columns=ship_num.columns)"
   ]
  },
  {
   "cell_type": "code",
   "execution_count": 53,
   "id": "c4700e49",
   "metadata": {
    "scrolled": true
   },
   "outputs": [
    {
     "data": {
      "text/html": [
       "<table class=\"simpletable\">\n",
       "<caption>OLS Regression Results</caption>\n",
       "<tr>\n",
       "  <th>Dep. Variable:</th>         <td>CI_HOUR</td>     <th>  R-squared:         </th>  <td>   0.056</td>  \n",
       "</tr>\n",
       "<tr>\n",
       "  <th>Model:</th>                   <td>OLS</td>       <th>  Adj. R-squared:    </th>  <td>   0.056</td>  \n",
       "</tr>\n",
       "<tr>\n",
       "  <th>Method:</th>             <td>Least Squares</td>  <th>  F-statistic:       </th>  <td>   624.1</td>  \n",
       "</tr>\n",
       "<tr>\n",
       "  <th>Date:</th>             <td>Sat, 28 Oct 2023</td> <th>  Prob (F-statistic):</th>   <td>  0.00</td>   \n",
       "</tr>\n",
       "<tr>\n",
       "  <th>Time:</th>                 <td>22:17:28</td>     <th>  Log-Likelihood:    </th> <td>-1.0212e+05</td>\n",
       "</tr>\n",
       "<tr>\n",
       "  <th>No. Observations:</th>      <td> 73468</td>      <th>  AIC:               </th>  <td>2.043e+05</td> \n",
       "</tr>\n",
       "<tr>\n",
       "  <th>Df Residuals:</th>          <td> 73460</td>      <th>  BIC:               </th>  <td>2.043e+05</td> \n",
       "</tr>\n",
       "<tr>\n",
       "  <th>Df Model:</th>              <td>     7</td>      <th>                     </th>      <td> </td>     \n",
       "</tr>\n",
       "<tr>\n",
       "  <th>Covariance Type:</th>      <td>nonrobust</td>    <th>                     </th>      <td> </td>     \n",
       "</tr>\n",
       "</table>\n",
       "<table class=\"simpletable\">\n",
       "<tr>\n",
       "       <td></td>         <th>coef</th>     <th>std err</th>      <th>t</th>      <th>P>|t|</th>  <th>[0.025</th>    <th>0.975]</th>  \n",
       "</tr>\n",
       "<tr>\n",
       "  <th>Intercept</th>  <td>-1.266e-16</td> <td>    0.004</td> <td>-3.53e-14</td> <td> 1.000</td> <td>   -0.007</td> <td>    0.007</td>\n",
       "</tr>\n",
       "<tr>\n",
       "  <th>DIST</th>       <td>    0.2161</td> <td>    0.004</td> <td>   59.122</td> <td> 0.000</td> <td>    0.209</td> <td>    0.223</td>\n",
       "</tr>\n",
       "<tr>\n",
       "  <th>BREADTH</th>    <td>   -0.0085</td> <td>    0.012</td> <td>   -0.733</td> <td> 0.464</td> <td>   -0.031</td> <td>    0.014</td>\n",
       "</tr>\n",
       "<tr>\n",
       "  <th>DEADWEIGHT</th> <td>    0.1604</td> <td>    0.011</td> <td>   14.061</td> <td> 0.000</td> <td>    0.138</td> <td>    0.183</td>\n",
       "</tr>\n",
       "<tr>\n",
       "  <th>DEPTH</th>      <td>    0.0969</td> <td>    0.007</td> <td>   13.463</td> <td> 0.000</td> <td>    0.083</td> <td>    0.111</td>\n",
       "</tr>\n",
       "<tr>\n",
       "  <th>GT</th>         <td>   -0.0296</td> <td>    0.014</td> <td>   -2.166</td> <td> 0.030</td> <td>   -0.056</td> <td>   -0.003</td>\n",
       "</tr>\n",
       "<tr>\n",
       "  <th>LENGTH</th>     <td>   -0.1755</td> <td>    0.013</td> <td>  -13.236</td> <td> 0.000</td> <td>   -0.201</td> <td>   -0.149</td>\n",
       "</tr>\n",
       "<tr>\n",
       "  <th>PORT_SIZE</th>  <td>    0.0239</td> <td>    0.004</td> <td>    6.251</td> <td> 0.000</td> <td>    0.016</td> <td>    0.031</td>\n",
       "</tr>\n",
       "</table>\n",
       "<table class=\"simpletable\">\n",
       "<tr>\n",
       "  <th>Omnibus:</th>       <td>81800.513</td> <th>  Durbin-Watson:     </th>  <td>   2.004</td>  \n",
       "</tr>\n",
       "<tr>\n",
       "  <th>Prob(Omnibus):</th>  <td> 0.000</td>   <th>  Jarque-Bera (JB):  </th> <td>6423976.575</td>\n",
       "</tr>\n",
       "<tr>\n",
       "  <th>Skew:</th>           <td> 5.882</td>   <th>  Prob(JB):          </th>  <td>    0.00</td>  \n",
       "</tr>\n",
       "<tr>\n",
       "  <th>Kurtosis:</th>       <td>47.274</td>   <th>  Cond. No.          </th>  <td>    10.7</td>  \n",
       "</tr>\n",
       "</table><br/><br/>Notes:<br/>[1] Standard Errors assume that the covariance matrix of the errors is correctly specified."
      ],
      "text/latex": [
       "\\begin{center}\n",
       "\\begin{tabular}{lclc}\n",
       "\\toprule\n",
       "\\textbf{Dep. Variable:}    &     CI\\_HOUR     & \\textbf{  R-squared:         } &      0.056   \\\\\n",
       "\\textbf{Model:}            &       OLS        & \\textbf{  Adj. R-squared:    } &      0.056   \\\\\n",
       "\\textbf{Method:}           &  Least Squares   & \\textbf{  F-statistic:       } &      624.1   \\\\\n",
       "\\textbf{Date:}             & Sat, 28 Oct 2023 & \\textbf{  Prob (F-statistic):} &      0.00    \\\\\n",
       "\\textbf{Time:}             &     22:17:28     & \\textbf{  Log-Likelihood:    } & -1.0212e+05  \\\\\n",
       "\\textbf{No. Observations:} &       73468      & \\textbf{  AIC:               } &  2.043e+05   \\\\\n",
       "\\textbf{Df Residuals:}     &       73460      & \\textbf{  BIC:               } &  2.043e+05   \\\\\n",
       "\\textbf{Df Model:}         &           7      & \\textbf{                     } &              \\\\\n",
       "\\textbf{Covariance Type:}  &    nonrobust     & \\textbf{                     } &              \\\\\n",
       "\\bottomrule\n",
       "\\end{tabular}\n",
       "\\begin{tabular}{lcccccc}\n",
       "                    & \\textbf{coef} & \\textbf{std err} & \\textbf{t} & \\textbf{P$> |$t$|$} & \\textbf{[0.025} & \\textbf{0.975]}  \\\\\n",
       "\\midrule\n",
       "\\textbf{Intercept}  &   -1.266e-16  &        0.004     & -3.53e-14  &         1.000        &       -0.007    &        0.007     \\\\\n",
       "\\textbf{DIST}       &       0.2161  &        0.004     &    59.122  &         0.000        &        0.209    &        0.223     \\\\\n",
       "\\textbf{BREADTH}    &      -0.0085  &        0.012     &    -0.733  &         0.464        &       -0.031    &        0.014     \\\\\n",
       "\\textbf{DEADWEIGHT} &       0.1604  &        0.011     &    14.061  &         0.000        &        0.138    &        0.183     \\\\\n",
       "\\textbf{DEPTH}      &       0.0969  &        0.007     &    13.463  &         0.000        &        0.083    &        0.111     \\\\\n",
       "\\textbf{GT}         &      -0.0296  &        0.014     &    -2.166  &         0.030        &       -0.056    &       -0.003     \\\\\n",
       "\\textbf{LENGTH}     &      -0.1755  &        0.013     &   -13.236  &         0.000        &       -0.201    &       -0.149     \\\\\n",
       "\\textbf{PORT\\_SIZE} &       0.0239  &        0.004     &     6.251  &         0.000        &        0.016    &        0.031     \\\\\n",
       "\\bottomrule\n",
       "\\end{tabular}\n",
       "\\begin{tabular}{lclc}\n",
       "\\textbf{Omnibus:}       & 81800.513 & \\textbf{  Durbin-Watson:     } &      2.004   \\\\\n",
       "\\textbf{Prob(Omnibus):} &    0.000  & \\textbf{  Jarque-Bera (JB):  } & 6423976.575  \\\\\n",
       "\\textbf{Skew:}          &    5.882  & \\textbf{  Prob(JB):          } &       0.00   \\\\\n",
       "\\textbf{Kurtosis:}      &   47.274  & \\textbf{  Cond. No.          } &       10.7   \\\\\n",
       "\\bottomrule\n",
       "\\end{tabular}\n",
       "%\\caption{OLS Regression Results}\n",
       "\\end{center}\n",
       "\n",
       "Notes: \\newline\n",
       " [1] Standard Errors assume that the covariance matrix of the errors is correctly specified."
      ],
      "text/plain": [
       "<class 'statsmodels.iolib.summary.Summary'>\n",
       "\"\"\"\n",
       "                            OLS Regression Results                            \n",
       "==============================================================================\n",
       "Dep. Variable:                CI_HOUR   R-squared:                       0.056\n",
       "Model:                            OLS   Adj. R-squared:                  0.056\n",
       "Method:                 Least Squares   F-statistic:                     624.1\n",
       "Date:                Sat, 28 Oct 2023   Prob (F-statistic):               0.00\n",
       "Time:                        22:17:28   Log-Likelihood:            -1.0212e+05\n",
       "No. Observations:               73468   AIC:                         2.043e+05\n",
       "Df Residuals:                   73460   BIC:                         2.043e+05\n",
       "Df Model:                           7                                         \n",
       "Covariance Type:            nonrobust                                         \n",
       "==============================================================================\n",
       "                 coef    std err          t      P>|t|      [0.025      0.975]\n",
       "------------------------------------------------------------------------------\n",
       "Intercept  -1.266e-16      0.004  -3.53e-14      1.000      -0.007       0.007\n",
       "DIST           0.2161      0.004     59.122      0.000       0.209       0.223\n",
       "BREADTH       -0.0085      0.012     -0.733      0.464      -0.031       0.014\n",
       "DEADWEIGHT     0.1604      0.011     14.061      0.000       0.138       0.183\n",
       "DEPTH          0.0969      0.007     13.463      0.000       0.083       0.111\n",
       "GT            -0.0296      0.014     -2.166      0.030      -0.056      -0.003\n",
       "LENGTH        -0.1755      0.013    -13.236      0.000      -0.201      -0.149\n",
       "PORT_SIZE      0.0239      0.004      6.251      0.000       0.016       0.031\n",
       "==============================================================================\n",
       "Omnibus:                    81800.513   Durbin-Watson:                   2.004\n",
       "Prob(Omnibus):                  0.000   Jarque-Bera (JB):          6423976.575\n",
       "Skew:                           5.882   Prob(JB):                         0.00\n",
       "Kurtosis:                      47.274   Cond. No.                         10.7\n",
       "==============================================================================\n",
       "\n",
       "Notes:\n",
       "[1] Standard Errors assume that the covariance matrix of the errors is correctly specified.\n",
       "\"\"\""
      ]
     },
     "execution_count": 53,
     "metadata": {},
     "output_type": "execute_result"
    }
   ],
   "source": [
    "# ols를 사용해 한 번 더 회귀분석 진행\n",
    "model = smf.ols('CI_HOUR ~ '+\"+\".join(ship_num_scaled.columns[:-1]), data = ship_num_scaled).fit()\n",
    "model.summary()"
   ]
  },
  {
   "cell_type": "code",
   "execution_count": 6,
   "id": "8657f045",
   "metadata": {},
   "outputs": [],
   "source": [
    "# 각 회귀계수들의 t 통계량에는 어떤 변화가 있었나요?\n",
    "\n"
   ]
  },
  {
   "cell_type": "markdown",
   "id": "97768b58",
   "metadata": {},
   "source": [
    "---"
   ]
  },
  {
   "cell_type": "markdown",
   "id": "ca25a301",
   "metadata": {},
   "source": [
    "##### 문제 2 : XGBRegressor를 이용한 예측 진행(7점)\n",
    "##### (1) ATA column을 datetime 으로 변환 후 월, 일, 요일 column 생성(1점)\n",
    "##### (2) CI_HOUR column을 제외시킨 feature 생성, CI_HOUR를 target값에 할당, train_test 데이터셋 분리(1점)\n",
    "##### (3) XGBRegressor()를 이용해 모델 적합 후 예측 - RMSE(1점)\n",
    "##### (4) 범주형 변수처리 혹은 이상치처리 등 자유롭게 평균 RMSE값을 150아래로 낮춰주세요. 단, CI_HOUR column은 건드리지 말고 진행해주세요 (5점)"
   ]
  },
  {
   "cell_type": "code",
   "execution_count": 36,
   "id": "b88ffab4",
   "metadata": {},
   "outputs": [],
   "source": [
    "# datetime 변환\n",
    "ship.ATA = pd.to_datetime(ship.ATA)"
   ]
  },
  {
   "cell_type": "code",
   "execution_count": 37,
   "id": "90e7aaad",
   "metadata": {},
   "outputs": [],
   "source": [
    "# 월, 일, 요일 column 생성\n",
    "ship['ATA_MONTH'] = ship.ATA.dt.month\n",
    "ship['ATA_DAY'] = ship.ATA.dt.day\n",
    "ship['ATA_WEEK'] = ship.ATA.dt.dayofweek"
   ]
  },
  {
   "cell_type": "code",
   "execution_count": 38,
   "id": "f358f49c",
   "metadata": {},
   "outputs": [],
   "source": [
    "ship.drop(columns = 'ATA', inplace = True)"
   ]
  },
  {
   "cell_type": "code",
   "execution_count": 39,
   "id": "a1c90909",
   "metadata": {},
   "outputs": [],
   "source": [
    "target_encoder = TargetEncoder()\n",
    "ship['ID'] = target_encoder.fit_transform(ship['ID'], ship['CI_HOUR'])"
   ]
  },
  {
   "cell_type": "code",
   "execution_count": 40,
   "id": "60be2b84",
   "metadata": {},
   "outputs": [],
   "source": [
    "# feature, target 설정\n",
    "feature = ship.drop(columns = 'CI_HOUR')\n",
    "target = ship.CI_HOUR"
   ]
  },
  {
   "cell_type": "code",
   "execution_count": 41,
   "id": "a2826a9a",
   "metadata": {},
   "outputs": [],
   "source": [
    "# train, test 데이터셋 분리\n",
    "X_train , X_test, y_train , y_test = train_test_split(feature, target, test_size=0.3, random_state=0)"
   ]
  },
  {
   "cell_type": "code",
   "execution_count": 42,
   "id": "ad70cf35",
   "metadata": {},
   "outputs": [
    {
     "name": "stdout",
     "output_type": "stream",
     "text": [
      " 5 교차 검증의 개별 RMSE scores :  [130.58 138.23 142.03 137.88 145.77]\n",
      " 5 교차 검증의 평균 RMSE : 138.897 \n"
     ]
    }
   ],
   "source": [
    "# xgb 모델 적합 후 예측, RMSE\n",
    "xgb = XGBRegressor(n_estimators = 1000, n_jobs = -1)\n",
    "neg_mse_scores = cross_val_score(xgb, X_train, y_train, scoring=\"neg_mean_squared_error\", cv = 5)\n",
    "rmse_scores  = np.sqrt(-1 * neg_mse_scores)\n",
    "avg_rmse = np.mean(rmse_scores)\n",
    "\n",
    "print(' 5 교차 검증의 개별 RMSE scores : ', np.round(rmse_scores, 2))\n",
    "print(' 5 교차 검증의 평균 RMSE : {0:.3f} '.format(avg_rmse))"
   ]
  }
 ],
 "metadata": {
  "kernelspec": {
   "display_name": "Python 3 (ipykernel)",
   "language": "python",
   "name": "python3"
  },
  "language_info": {
   "codemirror_mode": {
    "name": "ipython",
    "version": 3
   },
   "file_extension": ".py",
   "mimetype": "text/x-python",
   "name": "python",
   "nbconvert_exporter": "python",
   "pygments_lexer": "ipython3",
   "version": "3.11.5"
  }
 },
 "nbformat": 4,
 "nbformat_minor": 5
}
