{
 "cells": [
  {
   "cell_type": "markdown",
   "metadata": {
    "id": "JUfRNrCu7gGX"
   },
   "source": [
    "# 머신러닝 4차세션 예습과제\n",
    "\n",
    "- 9/12 화요일 23:59 (4차세션 전날)까지 제출\n",
    "- 제출 파일명 : 비타민_12기_4주차_예습과제_본인이름.ipynb  로 제출\n",
    "- ipynb 파일로 제출\n",
    "- 지각 제출은 허용하지 않음"
   ]
  },
  {
   "cell_type": "markdown",
   "metadata": {
    "id": "QUmHO1ju-PcC"
   },
   "source": [
    "# 실습 1"
   ]
  },
  {
   "cell_type": "markdown",
   "metadata": {
    "id": "l5m9WJpp6aJU"
   },
   "source": [
    "## 보팅 (25점)"
   ]
  },
  {
   "cell_type": "markdown",
   "metadata": {
    "id": "FRbNPIer8RNP"
   },
   "source": [
    "이번 예습과제에 사용할 데이터는 사이킷런 내장 데이터인 wine 데이터입니다."
   ]
  },
  {
   "cell_type": "markdown",
   "metadata": {
    "id": "Esuz-1Sq8TF8"
   },
   "source": [
    "### 1-1. 다음 (a), (b), (c), (d)에 들어갈 용어를 쓰시오. (4점, 각 1점)"
   ]
  },
  {
   "cell_type": "markdown",
   "metadata": {
    "id": "yZ54xxyt8V4a"
   },
   "source": [
    "1. 보팅의 유형으로는 (a) 와 (b)가 있다.\n",
    "2. (a) 은 예측한 결괏값들 중 (c)의 분류기가 결정한 예측값을 최종 결괏값으로 선정한다.\n",
    "3. (b) 은 분류기들의 레이블 값 결정 (d)(를/을) 모두 더하고 이를 평균해서 이들 중 (d)(이/가) 가장 높은 레이블 값을 최종 결괏값으로 선정한다."
   ]
  },
  {
   "cell_type": "code",
   "execution_count": null,
   "metadata": {
    "id": "tC8y2y4gAArO"
   },
   "outputs": [],
   "source": [
    "# 답안 : \n",
    "# 1. 소프트 보팅, 하드 보팅\n",
    "# 2. "
   ]
  },
  {
   "cell_type": "markdown",
   "metadata": {
    "id": "0mVocDul8n8m"
   },
   "source": [
    "### 1-2. wine data로 보팅 방식의 앙상블을 구현하시오. '구현' 부분을 채우시면 됩니다 (21점)"
   ]
  },
  {
   "cell_type": "markdown",
   "metadata": {
    "id": "yoloB7wU8q8D"
   },
   "source": [
    "아래 코드를 실행하시오"
   ]
  },
  {
   "cell_type": "code",
   "execution_count": null,
   "metadata": {
    "id": "XoNGC0UI8rHT"
   },
   "outputs": [],
   "source": [
    "import pandas as pd\n",
    "\n",
    "from sklearn.ensemble import VotingClassifier\n",
    "from sklearn.linear_model import LogisticRegression\n",
    "from sklearn.neighbors import KNeighborsClassifier\n",
    "from sklearn.datasets import load_wine\n",
    "from sklearn. model_selection import train_test_split\n",
    "from sklearn.metrics import accuracy_score\n",
    "\n",
    "dataset = load_wine()\n",
    "wine = pd.DataFrame(data = dataset.data, columns = dataset.feature_names)\n",
    "wine.head()"
   ]
  },
  {
   "cell_type": "markdown",
   "metadata": {
    "id": "0Sl6tQ608tpE"
   },
   "source": [
    "### 1-2 (1) 로지스틱 회귀와 KNN을 기반으로 소프트 보팅 방식으로 보팅 분류기를 생성하시오. (단, KNN의 군집의 개수는 8로 하시오.) (4점)"
   ]
  },
  {
   "cell_type": "code",
   "execution_count": null,
   "metadata": {
    "id": "-F8hhHbZ8Rkh"
   },
   "outputs": [],
   "source": [
    "lr_clf = '///구현///'\n",
    "knn_clf = '///구현///'"
   ]
  },
  {
   "cell_type": "markdown",
   "metadata": {
    "id": "M4bvU2d48wKC"
   },
   "source": [
    "### 1-2 (2) 개별 모델을 소프트 보팅 기반의 앙상블 모델로 구현한 분류기를 생성하고, 데이터 셋을 훈련세트와 테스트 세트로 분류하시오. (4점)"
   ]
  },
  {
   "cell_type": "code",
   "execution_count": null,
   "metadata": {
    "id": "NR80uSPI6bg7"
   },
   "outputs": [],
   "source": [
    "vo_clf = VotingClassifier('///구현///')\n",
    "\n",
    "X_train, X_test, y_train, y_test = train_test_split('///구현///',test_size = 0.2, random_state = 156)"
   ]
  },
  {
   "cell_type": "markdown",
   "metadata": {
    "id": "n8nfFSr58y1X"
   },
   "source": [
    "### 1-2 (3) VotingClassifier를 학습/예측/평가하시오.(fit, predict, 정확도 사용) (6점)"
   ]
  },
  {
   "cell_type": "code",
   "execution_count": null,
   "metadata": {
    "id": "UHbW_qjD5vMX"
   },
   "outputs": [],
   "source": [
    "'''///\n",
    "\n",
    "구현\n",
    "\n",
    "///'''"
   ]
  },
  {
   "cell_type": "markdown",
   "metadata": {
    "id": "jH3mZABx81Jx"
   },
   "source": [
    "### 1-2 (4) 개별 모델에 대해 학습/예측/평가를 하시오.(for문 이용할 것) (7점)"
   ]
  },
  {
   "cell_type": "code",
   "execution_count": null,
   "metadata": {
    "id": "SAFZyxWg82fz"
   },
   "outputs": [],
   "source": [
    "classifiers = [lr_clf, knn_clf]\n",
    "for '///구현///'"
   ]
  },
  {
   "cell_type": "markdown",
   "metadata": {
    "id": "iImJfqqP83n7"
   },
   "source": [
    "## 실습2"
   ]
  },
  {
   "cell_type": "markdown",
   "metadata": {
    "id": "QzTWqveC86x2"
   },
   "source": [
    "### 배깅(랜덤 포레스트) (25점)"
   ]
  },
  {
   "cell_type": "code",
   "execution_count": null,
   "metadata": {
    "id": "7PwbK1PW86Sb"
   },
   "outputs": [],
   "source": [
    "from sklearn.datasets import load_wine\n",
    "from sklearn.ensemble import RandomForestClassifier\n",
    "from sklearn.metrics import accuracy_score\n",
    "from sklearn.model_selection import train_test_split\n",
    "import pandas as pd\n",
    "import numpy as np"
   ]
  },
  {
   "cell_type": "code",
   "execution_count": null,
   "metadata": {
    "id": "e3o99E7p9BJ5"
   },
   "outputs": [],
   "source": [
    "import xgboost as xgb\n",
    "from xgboost import XGBClassifier\n",
    "import pandas as pd\n",
    "import numpy as np\n",
    "from sklearn.datasets import load_wine\n",
    "from sklearn.model_selection import train_test_split\n",
    "from sklearn.metrics import accuracy_score, precision_score, recall_score, f1_score, roc_auc_score\n",
    "import warnings\n",
    "warnings.filterwarnings('ignore')\n",
    "\n",
    "dataset = load_wine()\n",
    "labels = dataset.target\n",
    "wine = pd.DataFrame(data = dataset.data, columns = dataset.feature_names)\n",
    "wine['target'] = labels\n",
    "wine.head(3)"
   ]
  },
  {
   "cell_type": "code",
   "execution_count": null,
   "metadata": {
    "id": "qsOf4Ljc9CY8"
   },
   "outputs": [],
   "source": [
    "feature = wine.drop(columns = 'target', axis = 1)\n",
    "y = wine.target"
   ]
  },
  {
   "cell_type": "code",
   "execution_count": null,
   "metadata": {
    "id": "gkc8EQvJ9DF2"
   },
   "outputs": [],
   "source": [
    "y.value_counts()"
   ]
  },
  {
   "cell_type": "code",
   "execution_count": null,
   "metadata": {
    "id": "t-a3Z35i9D8M"
   },
   "outputs": [],
   "source": [
    "X_train, X_test, y_train, y_test = train_test_split(feature, y, test_size=0.2, random_state=10)"
   ]
  },
  {
   "cell_type": "markdown",
   "metadata": {
    "id": "SAhJnxGy9AUA"
   },
   "source": [
    "### 2-1 빈칸에 들어갈 말은 무엇일까요? (3점)\n",
    "랜덤 포레스트는 여러 개의 데이터 세트를 중첩되게 분리하는 _____  분할 방식을 사용한다."
   ]
  },
  {
   "cell_type": "code",
   "execution_count": null,
   "metadata": {
    "id": "e2aw1f9u9Gn6"
   },
   "outputs": [],
   "source": [
    "# 답 :"
   ]
  },
  {
   "cell_type": "markdown",
   "metadata": {
    "id": "gqYUhx1v9I4P"
   },
   "source": [
    "### 2-2 wine 데이터를 RandomForestClassifier에 적합시키고 성능을 측정하세요. (7점)\n",
    "    - fit, predict, accuracy_score 이용  \n",
    "    - random_state=0, max_depth=3 으로 설정"
   ]
  },
  {
   "cell_type": "code",
   "execution_count": null,
   "metadata": {
    "id": "fIdDRggE9Jgi"
   },
   "outputs": [],
   "source": []
  },
  {
   "cell_type": "markdown",
   "metadata": {
    "id": "Xon8Czww9N9N"
   },
   "source": [
    "### 2-3 예측값과 실제값을 이용하여 오차행렬을 출력하세요. (3점)"
   ]
  },
  {
   "cell_type": "code",
   "execution_count": null,
   "metadata": {
    "id": "Czc2mtST-9c4"
   },
   "outputs": [],
   "source": []
  },
  {
   "cell_type": "markdown",
   "metadata": {
    "id": "HPdtorUR9P1k"
   },
   "source": [
    "### 2-4 GridSearchCV를 이용하여 최적하이퍼파라미터를 찾고 출력해보세요. (7점)\n",
    "    - 폴드 개수는 3으로 설정"
   ]
  },
  {
   "cell_type": "code",
   "execution_count": null,
   "metadata": {
    "id": "23wuqZLf9OOT"
   },
   "outputs": [],
   "source": []
  },
  {
   "cell_type": "markdown",
   "metadata": {
    "id": "CiPJ9dXv9SQ1"
   },
   "source": [
    "### 2-5 최적하이퍼파라미터로 RandomForestClassifier를 다시 학습시키고 성능을 측정하세요. (5점)"
   ]
  },
  {
   "cell_type": "code",
   "execution_count": null,
   "metadata": {
    "id": "fjV_AfF19Sfa"
   },
   "outputs": [],
   "source": []
  },
  {
   "cell_type": "markdown",
   "metadata": {
    "id": "YF4D_Qzx_CMJ"
   },
   "source": [
    "# 실습3"
   ]
  },
  {
   "cell_type": "markdown",
   "metadata": {
    "id": "tQPbkj139T-s"
   },
   "source": [
    "# XGBoost (25점)"
   ]
  },
  {
   "cell_type": "code",
   "execution_count": null,
   "metadata": {
    "id": "_pzR_wkX9UQS"
   },
   "outputs": [],
   "source": [
    "import xgboost as xgb\n",
    "from xgboost import XGBClassifier\n",
    "import pandas as pd\n",
    "import numpy as np\n",
    "from sklearn.datasets import load_wine\n",
    "from sklearn.model_selection import train_test_split\n",
    "from sklearn.metrics import accuracy_score, precision_score, recall_score, f1_score, roc_auc_score\n",
    "import warnings\n",
    "warnings.filterwarnings('ignore')\n",
    "\n",
    "dataset = load_wine()\n",
    "labels = dataset.target\n",
    "wine = pd.DataFrame(data = dataset.data, columns = dataset.feature_names)\n",
    "wine['target'] = labels\n",
    "wine.head(3)"
   ]
  },
  {
   "cell_type": "markdown",
   "metadata": {
    "id": "pEQx7qqu9XPC"
   },
   "source": [
    "## Columns 설명\n",
    "- 알콜(Alcohol)\n",
    "- 말산(Malic acid)\n",
    "- 회분(Ash)\n",
    "- 회분의 알칼리도(Alcalinity of ash)\n",
    "- 마그네슘(Magnesium)\n",
    "- 총 폴리페놀(Total phenols)\n",
    "- 플라보노이드 폴리페놀(Flavanoids)\n",
    "- 비 플라보노이드 폴리페놀(Nonflavanoid phenols)\n",
    "- 프로안토시아닌(Proanthocyanins)\n",
    "- 색상의 강도(Color intensity)\n",
    "- 색상(Hue)\n",
    "- 희석 와인의 OD280/OD315 비율 (OD280/OD315 of diluted wines)\n",
    "- 프롤린(Proline)\n",
    "- 와인 종류(target)"
   ]
  },
  {
   "cell_type": "code",
   "execution_count": null,
   "metadata": {
    "id": "IuiTcXf3_F3L"
   },
   "outputs": [],
   "source": [
    "feature = wine.drop(columns = 'target', axis = 1)\n",
    "y = wine.target"
   ]
  },
  {
   "cell_type": "markdown",
   "metadata": {
    "id": "NHSRSIz__Fo5"
   },
   "source": [
    "### 3-1 wine 데이터를 xgbclassifier에 적합시키고 accuracy_score를 이용해 점수를 내세요 (6점)"
   ]
  },
  {
   "cell_type": "code",
   "execution_count": null,
   "metadata": {
    "id": "2lZbB4FJ_LpZ"
   },
   "outputs": [],
   "source": [
    "X_train, X_test, y_train, y_test = train_test_split(feature, y, test_size=0.3, random_state=1)\n",
    "xgb = XGBClassifier(n_estimators = 400, learning_rate = 0.5, max_depth = 3)"
   ]
  },
  {
   "cell_type": "code",
   "execution_count": null,
   "metadata": {
    "id": "skYpGBEy_NtK"
   },
   "outputs": [],
   "source": []
  },
  {
   "cell_type": "markdown",
   "metadata": {
    "id": "sQdQipGt_OAL"
   },
   "source": [
    "### 3-2 gridsearch를 이용해서 자유롭게 파라미터 설정하면서 점수를 높여보세요 (6점)\n",
    "- 다음은 XGBClassifier의 주요 파라미터입니다. 되도록 0.97이상 점수가 나오게 설정해주세요\n",
    "|주요파라미터|범위|설명|\n",
    "|---|---|---|\n",
    "|max_depth|0 ~ ∞|트리의 최대깊이 / 수가 커지면 복잡해지고 과적합 가능성▲|\n",
    "|learning_rate|0 ~ 1|학습률 / 커지면 업데이트 속도▲|\n",
    "|subsample|0 ~ 1|학습 시 데이터 샘플링 비율 지정 / 일반적으로 0.5 ~ 1 사이의 값을 가짐|"
   ]
  },
  {
   "cell_type": "code",
   "execution_count": null,
   "metadata": {
    "id": "dw0Ei4r2_ReR"
   },
   "outputs": [],
   "source": [
    "from sklearn.model_selection import GridSearchCV\n",
    "\n",
    "params = {'max_depth' : [],\n",
    "          'learning_rate' : [],\n",
    "          'subsample' : []}\n",
    "\n",
    "grid_xgb = GridSearchCV(xgb, param_grid = params, cv = 3, refit = True)\n",
    "grid_xgb.fit(X_train, y_train)\n",
    "\n",
    "print('GridSearchCV 최적의 파라미터:', grid_xgb.best_params_)\n",
    "print('GridSearchCV 최적의 정확도:{0:.4f}'.format(grid_xgb.best_score_))"
   ]
  },
  {
   "cell_type": "markdown",
   "metadata": {
    "id": "GbJ_1Vj__TdH"
   },
   "source": [
    "### 3-3 early_stopping_rounds 설정 (7점)\n",
    "- XGBClassifier는 조기 중단을 할 수 있습니다. early_stopping_rounds 파라미터를 임의로 설정해 조기 중단해주세요.\n",
    "\n",
    "- early_stopping_rounds는 validation_1-mlogloss의 값이 최소값일 때 추가로 n번을 더 실시하고 그럼에도 불구하고 점수가 오르지 않으면 학습이 조기 종료되는 특징을 가지고 있습니다. 설정한 n값만큼 반복했는지 확인해주세요."
   ]
  },
  {
   "cell_type": "code",
   "execution_count": null,
   "metadata": {
    "id": "AjNzxeVo_WML"
   },
   "outputs": [],
   "source": [
    "xgb = XGBClassifier(n_estimators = 400, learning_rate = 0.5, max_depth = 10)\n",
    "evals = [(X_train, y_train), (X_test, y_test)]\n",
    "\n"
   ]
  },
  {
   "cell_type": "markdown",
   "metadata": {
    "id": "wPx7NZrL_YFO"
   },
   "source": [
    "### 3-4 plot_importance 시각화 (6점)\n",
    "- plot_importance()를 이용하여 feature의 중요도를 시각화해주세요"
   ]
  },
  {
   "cell_type": "code",
   "execution_count": null,
   "metadata": {
    "id": "8_XVyYlR_bIb"
   },
   "outputs": [],
   "source": [
    "from xgboost import plot_importance\n",
    "import matplotlib.pyplot as plt\n",
    "%matplotlib inline\n",
    "\n"
   ]
  },
  {
   "cell_type": "markdown",
   "metadata": {
    "id": "xGWKxmSb_d1R"
   },
   "source": [
    "## 실습4"
   ]
  },
  {
   "cell_type": "markdown",
   "metadata": {
    "id": "8cvuuokV_gdk"
   },
   "source": [
    "## LightGBM(25점)"
   ]
  },
  {
   "cell_type": "code",
   "execution_count": null,
   "metadata": {
    "id": "dtdv3yin_fTb"
   },
   "outputs": [],
   "source": [
    "# LGBMClassifier\n",
    "from lightgbm import LGBMClassifier\n",
    "\n",
    "import pandas as pd\n",
    "import numpy as np\n",
    "from sklearn.datasets import load_wine\n",
    "from sklearn.model_selection import train_test_split\n",
    "from sklearn.metrics import accuracy_score, precision_score, recall_score, f1_score, roc_auc_score, confusion_matrix\n",
    "import warnings\n",
    "warnings.filterwarnings('ignore')\n",
    "\n",
    "wine = load_wine()\n",
    "wine_data = wine.data\n",
    "wine_target = wine.target\n",
    "df_wine = pd.DataFrame(data = wine_data, columns=[wine.feature_names])\n",
    "df_wine['target'] = wine.target\n",
    "\n",
    "df_wine.head()"
   ]
  },
  {
   "cell_type": "markdown",
   "metadata": {
    "id": "nz7ailIF_kOx"
   },
   "source": [
    "### 4-1 `train_test_split` 을 사용하여 80%는 학습용 데이터로 20%는 테스트용 데이터로 분리하세요. (random_state = 12) (2점)\n"
   ]
  },
  {
   "cell_type": "code",
   "execution_count": null,
   "metadata": {
    "id": "jd0jy6R5_n_b"
   },
   "outputs": [],
   "source": []
  },
  {
   "cell_type": "markdown",
   "metadata": {
    "id": "gDZ4K05D_psk"
   },
   "source": [
    "### 4-2 `X_train`, `y_train` 을 90%는 학습용 데이터로, 10%는 검증용 데이터로 분리하세요. (random_state = 12) (5점)"
   ]
  },
  {
   "cell_type": "code",
   "execution_count": null,
   "metadata": {
    "id": "5TAARr1-_rmw"
   },
   "outputs": [],
   "source": []
  },
  {
   "cell_type": "markdown",
   "metadata": {
    "id": "FZWmf4sW_vkh"
   },
   "source": [
    "### 4-3 LGBM classifier 객체를 생성하세요. (n_estimators = 400) (5점)"
   ]
  },
  {
   "cell_type": "code",
   "execution_count": null,
   "metadata": {
    "id": "iGM_mhRd_yHQ"
   },
   "outputs": [],
   "source": []
  },
  {
   "cell_type": "markdown",
   "metadata": {
    "id": "glSrfgR7_zy_"
   },
   "source": [
    "### 4-4 학습을 진행하세요. (단, `early_stopping_round` 를 이용하여 55회에 조기 중단 시키세요.) (5점)"
   ]
  },
  {
   "cell_type": "code",
   "execution_count": null,
   "metadata": {
    "id": "zI6iGxOP_18B"
   },
   "outputs": [],
   "source": []
  },
  {
   "cell_type": "markdown",
   "metadata": {
    "id": "Sr33RpR2_3UN"
   },
   "source": [
    "### 4-5 `plot_importance()` 를 이용하여 feature 중요도를 시각화하세요. (8점)"
   ]
  },
  {
   "cell_type": "code",
   "execution_count": null,
   "metadata": {
    "id": "F1k7q9xE_5MN"
   },
   "outputs": [],
   "source": [
    "from lightgbm import plot_importance\n",
    "import matplotlib.pyplot as plt\n",
    "%matplotlib inline\n",
    "\n"
   ]
  },
  {
   "cell_type": "markdown",
   "metadata": {
    "id": "z4NJTnO0AnJc"
   },
   "source": [
    "# 실습5"
   ]
  },
  {
   "cell_type": "markdown",
   "metadata": {
    "id": "MFZ_ZJTPAq0V"
   },
   "source": [
    "### 앙상블 학습"
   ]
  },
  {
   "cell_type": "markdown",
   "metadata": {
    "id": "HOkbqHSoAsXP"
   },
   "source": [
    "보팅(Voting) 방식: 같은 데이터셋에 대해 서로 다른 여러 개의 분류기의 예측값을 결합하여 최종 예측값을 결정하는 앙상블 방법"
   ]
  },
  {
   "cell_type": "markdown",
   "metadata": {
    "id": "WawdoTMkAtwY"
   },
   "source": [
    "다음은 보팅 분류기를 이용한 앙상블 학습에 필요한 라이브러리 및 데이터셋입니다.\n",
    "\n",
    "\n",
    "*   VotingClassifier: 보팅 방식의 앙상블을 구현한 클래스\n",
    "*   LogisticRegrssion: 로지스틱 회귀 클래스\n",
    "*   KNeighborsClassifier: K Nearest Neighbor(KNN) 분류 알고리즘 클래스\n",
    "*   load_breast_cancer: 종양의 크기와 모양에 관한 속성들과 종양의 악성 여부를 레이블로 하는 데이터셋, 위스콘신 유방암 데이터 세트\n",
    "*   train_test_split: 데이터 분할\n",
    "*   accuracy_score: 분류 모델의 정확도\n",
    "\n",
    "\n",
    "\n",
    "\n"
   ]
  },
  {
   "cell_type": "markdown",
   "metadata": {
    "id": "9G2HrrG7AvGx"
   },
   "source": [
    "다음 라이브러리 및 데이터를 로드해주세요."
   ]
  },
  {
   "cell_type": "code",
   "execution_count": null,
   "metadata": {
    "id": "A7hfmOeQAo3t"
   },
   "outputs": [],
   "source": [
    "import pandas as pd\n",
    "\n",
    "from sklearn.ensemble import VotingClassifier\n",
    "from sklearn.linear_model import LogisticRegression\n",
    "from sklearn.neighbors import KNeighborsClassifier\n",
    "from sklearn.datasets import load_breast_cancer\n",
    "from sklearn.model_selection import train_test_split\n",
    "from sklearn.metrics import accuracy_score\n",
    "import warnings\n",
    "warnings.filterwarnings('ignore')\n",
    "\n",
    "cancer = load_breast_cancer()\n",
    "\n",
    "cancer_df = pd.DataFrame(cancer.data, columns=cancer.feature_names)"
   ]
  },
  {
   "cell_type": "markdown",
   "metadata": {
    "id": "YRKPu_d5Awhw"
   },
   "source": [
    "Q. 다음 과정에 따라 보팅 분류기를 구현하고 정확도를 측정하세요."
   ]
  },
  {
   "cell_type": "code",
   "execution_count": null,
   "metadata": {
    "id": "NlY8ZvvtAyKk"
   },
   "outputs": [],
   "source": [
    "# 로지스틱 회귀와 KNN 개별 분류기 객체를 생성하여 각각 변수에 저장\n",
    "\n",
    "\n",
    "# 위에서 생성한 두 모델을 기반으로하는 소프트 보팅 객체를 생성\n",
    "\n",
    "\n",
    "# 테스트 사이즈를 전체 데이터의 20%로 하여 train, test 데이터 셋을 분류\n",
    "\n",
    "\n",
    "# 보팅 분류기로 학습 후 테스트 데이터 예측 및 정확도 평가\n",
    "# 정확도는 소수점 넷째자리까지 출력\n"
   ]
  },
  {
   "cell_type": "markdown",
   "metadata": {
    "id": "hjG0LsZMAzlJ"
   },
   "source": [
    "### 랜덤 포레스트\n",
    "\n",
    "다음 코드를 실행해 주세요."
   ]
  },
  {
   "cell_type": "code",
   "execution_count": null,
   "metadata": {
    "id": "-E3eJdVLA04a"
   },
   "outputs": [],
   "source": [
    "from sklearn.ensemble import RandomForestClassifier"
   ]
  },
  {
   "cell_type": "markdown",
   "metadata": {
    "id": "AhvqG6NsA4o3"
   },
   "source": [
    "Q. 보팅 분류기를 구현할 때 만든 X_train, X_test, y_train, y_test을 이용하여 랜덤포레스트를 구현하고 정확도를 측정하세요."
   ]
  },
  {
   "cell_type": "code",
   "execution_count": null,
   "metadata": {
    "id": "AKo7lX6wA44y"
   },
   "outputs": [],
   "source": [
    "# 랜덤 포레스트 객체를 rf_clf 변수로 저장\n",
    "# 이때 max_depth = 16, n_estimators = 50, random_state = 124로 지정\n",
    "\n",
    "\n",
    "# rf_clf를 이용하여 랜덤 포레스트 학습 및 예측 성능을 평가\n",
    "\n",
    "\n",
    "# 정확도를 accuracy변수에 저장\n"
   ]
  },
  {
   "cell_type": "markdown",
   "metadata": {
    "id": "6y56IlKJA6t-"
   },
   "source": [
    "### GBM\n",
    "\n",
    "다음 코드를 실행해 주세요."
   ]
  },
  {
   "cell_type": "code",
   "execution_count": null,
   "metadata": {
    "id": "BmSMhT3IA7Dp"
   },
   "outputs": [],
   "source": [
    "from sklearn.ensemble import GradientBoostingClassifier\n",
    "import time\n",
    "start_time = time.time()"
   ]
  },
  {
   "cell_type": "markdown",
   "metadata": {
    "id": "W4_j62_nA9Q4"
   },
   "source": [
    "Q. GBM를 구현하고 GBM 모델의 정확도와 수행 시간을 출력하여 예측 성능을 나타내세요."
   ]
  },
  {
   "cell_type": "code",
   "execution_count": null,
   "metadata": {
    "id": "K82xkGQPA7r-"
   },
   "outputs": [],
   "source": []
  },
  {
   "cell_type": "markdown",
   "metadata": {
    "id": "uqFSmXE1A-39"
   },
   "source": [
    "### XGB\n",
    "\n",
    "다음 코드를 실행해 주세요."
   ]
  },
  {
   "cell_type": "code",
   "execution_count": null,
   "metadata": {
    "id": "RqKzgPwrA_N0"
   },
   "outputs": [],
   "source": [
    "import xgboost as xgb"
   ]
  },
  {
   "cell_type": "markdown",
   "metadata": {
    "id": "QsCmLscGBB_b"
   },
   "source": [
    "Q1. 보팅 분류기를 구현할 때 만든 X_train, y_train을 다시 90%는 학습용, 10%는 검증용 데이터로 분리하세요.(random_state = 156)"
   ]
  },
  {
   "cell_type": "code",
   "execution_count": null,
   "metadata": {
    "id": "aUx-eZH0BBnI"
   },
   "outputs": [],
   "source": []
  },
  {
   "cell_type": "markdown",
   "metadata": {
    "id": "Z83UlI-EBFP5"
   },
   "source": [
    "Q2. Q1문제에서 분리한 데이터로 XGBoost만의 전용 데이터 객체인 학습, 검증, 테스트용 Dmatrix를 생성하세요."
   ]
  },
  {
   "cell_type": "code",
   "execution_count": null,
   "metadata": {
    "id": "6QbcifAoBBjG"
   },
   "outputs": [],
   "source": []
  },
  {
   "cell_type": "markdown",
   "metadata": {
    "id": "vmC5oWcQBG-7"
   },
   "source": [
    "### LightGBM\n",
    "\n",
    "현재 LightGBM의 버전과 책과의 버전이 달라 에러가 발생합니다.\n",
    "\n",
    "아래의 코드를 실행해 lightGBM의 버전이 3.2.2가 아니라면\n",
    "\n",
    "LightGBM의 버전을 3.3.2로 다운그레이드 하고 런타임을 재시작해주세요"
   ]
  },
  {
   "cell_type": "code",
   "execution_count": null,
   "metadata": {
    "id": "cvt8O_fpBBgQ"
   },
   "outputs": [],
   "source": [
    "import lightgbm\n",
    "\n",
    "print(lightgbm.__version__)"
   ]
  },
  {
   "cell_type": "code",
   "execution_count": null,
   "metadata": {
    "id": "XCyh4nQ1BBdr"
   },
   "outputs": [],
   "source": [
    "pip install lightgbm==3.3.2"
   ]
  },
  {
   "cell_type": "markdown",
   "metadata": {
    "id": "_E9JQlMIBKXt"
   },
   "source": [
    "다음 코드를 실행해 주세요."
   ]
  },
  {
   "cell_type": "code",
   "execution_count": null,
   "metadata": {
    "id": "2t_5owakBBbd"
   },
   "outputs": [],
   "source": [
    "from lightgbm import LGBMClassifier #import"
   ]
  },
  {
   "cell_type": "markdown",
   "metadata": {
    "id": "ssQCpSqQBMkg"
   },
   "source": [
    "Q1. lgbm_wrapper라는 변수에 LGBClassifier 객체를 할당해주세요 (이때 부스팅 반복수를 200, 학습률을 0.03으로 설정해주세요)"
   ]
  },
  {
   "cell_type": "code",
   "execution_count": null,
   "metadata": {
    "id": "4fxgD-TSBBY7"
   },
   "outputs": [],
   "source": []
  },
  {
   "cell_type": "markdown",
   "metadata": {
    "id": "p_l6Y2IABPJ1"
   },
   "source": [
    "Q2. XGB의 Q1문제에서 분리한 데이터를 이용해 LightGBM을 학습시키고, 예측해 주세요 (early_stopping_rounds=50, eval_metric=logloss로 하고 반복수를 보이게 해주세요)\n",
    "\n",
    "또한 왜 해당 반복수에서 작업 수행이 멈추었는지 설명해 주세요"
   ]
  },
  {
   "cell_type": "code",
   "execution_count": null,
   "metadata": {
    "id": "oMeWxEnPBBWt"
   },
   "outputs": [],
   "source": []
  },
  {
   "cell_type": "markdown",
   "metadata": {
    "id": "lbcN69w9BTve"
   },
   "source": [
    "Q3. plot_importance()를 이용해 feature의 중요도를 시각화해주세요"
   ]
  },
  {
   "cell_type": "code",
   "execution_count": null,
   "metadata": {
    "id": "te3RfzpfBUIR"
   },
   "outputs": [],
   "source": [
    "from lightgbm import plot_importance\n",
    "import matplotlib.pyplot as plt\n",
    "%matplotlib inline\n",
    "\n"
   ]
  }
 ],
 "metadata": {
  "colab": {
   "authorship_tag": "ABX9TyMi1mp7+2ynppHAfIM7LzPV",
   "provenance": []
  },
  "kernelspec": {
   "display_name": "Python 3 (ipykernel)",
   "language": "python",
   "name": "python3"
  },
  "language_info": {
   "codemirror_mode": {
    "name": "ipython",
    "version": 3
   },
   "file_extension": ".py",
   "mimetype": "text/x-python",
   "name": "python",
   "nbconvert_exporter": "python",
   "pygments_lexer": "ipython3",
   "version": "3.11.5"
  }
 },
 "nbformat": 4,
 "nbformat_minor": 1
}
