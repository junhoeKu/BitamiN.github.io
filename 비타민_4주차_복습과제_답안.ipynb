{
 "cells": [
  {
   "cell_type": "markdown",
   "metadata": {},
   "source": [
    "## 문제1."
   ]
  },
  {
   "cell_type": "markdown",
   "metadata": {},
   "source": [
    "1) 활성화 함수란 인공 신경망에서 입력 신호의 가중치 합인 (선형) 변환을 입력 받아 출력 신호로 (비선형)변환하는 함수이다.\n",
    "\n",
    "2) 활성화 함수 중 경사하강법에 영향을 주지 않아 학습 속도가 빠르고 기울기 소실 문제가 발생하지 않는 함수는 무엇인가요? - ReLU 함수\n",
    "\n",
    "3) 손실 함수란 가중치 학습을 위해 출력 함수의 결과와 실제 값 간의 오차를 측정하는 함수입니다. 그 중 분류 모델의 발견된 확률 분포와 예측 분포 사이의 차이를 측정하는 손실함수는 무엇인가요? - 크로스 엔트로피"
   ]
  },
  {
   "cell_type": "markdown",
   "metadata": {},
   "source": [
    "4) numpy 이용 Softmax 함수 구현"
   ]
  },
  {
   "cell_type": "code",
   "execution_count": null,
   "metadata": {},
   "outputs": [
    {
     "name": "stdout",
     "output_type": "stream",
     "text": [
      "[0.01165623 0.03168492 0.08612854 0.23412166 0.63640865]\n",
      "1.0\n"
     ]
    }
   ],
   "source": [
    "# softmax 함수 식을 고려하여 ???를 채워주세요.\n",
    "import numpy as np\n",
    "\n",
    "def softmax(a):\n",
    "  exp_a = np.exp(a)\n",
    "  sum_exp_a = np.sum(exp_a)\n",
    "  y=exp_a /sum_exp_a\n",
    "\n",
    "  return y\n",
    "\n",
    "a = np.array([1,2,3,4,5])\n",
    "print(softmax(a))\n",
    "print(sum(softmax(a)))"
   ]
  },
  {
   "cell_type": "markdown",
   "metadata": {},
   "source": [
    "5) Softmax 회귀의 비용 함수 (크로스 엔트로피) 구현"
   ]
  },
  {
   "cell_type": "code",
   "execution_count": null,
   "metadata": {},
   "outputs": [
    {
     "name": "stdout",
     "output_type": "stream",
     "text": [
      "tensor([0.0900, 0.2447, 0.6652])\n"
     ]
    },
    {
     "data": {
      "text/plain": [
       "tensor(1.)"
      ]
     },
     "metadata": {},
     "output_type": "display_data"
    }
   ],
   "source": [
    "import torch\n",
    "import torch.nn.functional as F\n",
    "\n",
    "# 3개의 원소를 가진 벡터 텐서 정의하고 소프트맥스 함수의 입력으로 사용\n",
    "z = torch.FloatTensor([1, 2, 3])\n",
    "hypothesis = F.softmax(z, dim=0)\n",
    "print(hypothesis)\n"
   ]
  },
  {
   "cell_type": "code",
   "execution_count": null,
   "metadata": {},
   "outputs": [
    {
     "data": {
      "text/plain": [
       "tensor(1.)"
      ]
     },
     "metadata": {},
     "output_type": "display_data"
    }
   ],
   "source": [
    "##문제) 위 세 원소의 합이 1인지 확인하세요.\n",
    "hypothesis.sum()\n"
   ]
  },
  {
   "cell_type": "code",
   "execution_count": null,
   "metadata": {},
   "outputs": [
    {
     "name": "stdout",
     "output_type": "stream",
     "text": [
      "tensor([[0.1405, 0.1378, 0.1741, 0.3437, 0.2039],\n",
      "        [0.2089, 0.1337, 0.2755, 0.1365, 0.2454],\n",
      "        [0.2015, 0.1539, 0.2590, 0.1536, 0.2320]], grad_fn=<SoftmaxBackward0>)\n"
     ]
    }
   ],
   "source": [
    "# 비용 함수 구현을 위해 임의로 3 x 5 행렬의 크기를 가진 텐서 생성\n",
    "z = torch.rand(3, 5, requires_grad=True)\n",
    "# 소프트맥스 함수 적용\n",
    "hypothesis = F.softmax(z, dim=1)\n",
    "print(hypothesis)"
   ]
  },
  {
   "cell_type": "code",
   "execution_count": null,
   "metadata": {},
   "outputs": [
    {
     "name": "stdout",
     "output_type": "stream",
     "text": [
      "tensor([1, 4, 4])\n"
     ]
    }
   ],
   "source": [
    "# 각 샘플에 대해 임의의 레이블 생성\n",
    "y = torch.randint(5, (3,)).long()\n",
    "print(y)"
   ]
  },
  {
   "cell_type": "code",
   "execution_count": null,
   "metadata": {},
   "outputs": [
    {
     "name": "stdout",
     "output_type": "stream",
     "text": [
      "tensor([[1],\n",
      "        [4],\n",
      "        [4]])\n"
     ]
    }
   ],
   "source": [
    "# 각레이블에 대하여 원-핫 인코딩 수행\n",
    "y_one_hot= torch.zeros_like(hypothesis)\n",
    "y_one_hot.scatter_(1, y.unsqueeze(1),1)\n",
    "print(y.unsqueeze(1))\n"
   ]
  },
  {
   "cell_type": "markdown",
   "metadata": {},
   "source": [
    "$ cost(W) = \\frac{1}{n}  \\sum_1^n  \\sum_1^k  y_{j}^{(i)} * (-log(p_{j} ^{(i)}))  $\n",
    "\n"
   ]
  },
  {
   "cell_type": "code",
   "execution_count": null,
   "metadata": {},
   "outputs": [
    {
     "name": "stdout",
     "output_type": "stream",
     "text": [
      "tensor(1.6391, grad_fn=<MeanBackward0>)\n"
     ]
    }
   ],
   "source": [
    "# 위 수식을 참고하여 비용함수 코드를 구현하세요.\n",
    "\n",
    "cost = (y_one_hot * -torch.log(hypothesis)).sum(dim=1).mean()\n",
    "print(cost)"
   ]
  },
  {
   "cell_type": "markdown",
   "metadata": {},
   "source": [
    "## 문제 2. DNN 모델 구현을 통한 와인 품질 분류 문제 해결\n",
    "\n",
    "\n"
   ]
  },
  {
   "cell_type": "markdown",
   "metadata": {},
   "source": [
    "1) 전처리"
   ]
  },
  {
   "cell_type": "markdown",
   "metadata": {},
   "source": [
    "아래 코드 두 개를 실행해주세요! (문제 아님)"
   ]
  },
  {
   "cell_type": "code",
   "execution_count": null,
   "metadata": {},
   "outputs": [],
   "source": [
    "import numpy as np\n",
    "import pandas as pd\n",
    "import torch\n",
    "import torch.nn as nn\n",
    "import matplotlib.pyplot as plt\n",
    "from sklearn.preprocessing import RobustScaler\n",
    "from sklearn.model_selection import train_test_split\n",
    "from torch.utils.data import DataLoader, TensorDataset"
   ]
  },
  {
   "cell_type": "code",
   "execution_count": null,
   "metadata": {},
   "outputs": [],
   "source": [
    "# 데이터 불러오기\n",
    "df = pd.read_csv('/content/WineQT.csv')\n",
    "\n",
    "df_train, df_val = train_test_split(df, test_size=0.2)\n",
    "\n",
    "X_train = df_train.drop(['quality', 'Id'], axis=1)\n",
    "X_val = df_val.drop(['quality', 'Id'], axis=1)\n",
    "\n",
    "y_train = df_train['quality']\n",
    "y_val = df_val['quality']\n",
    "\n",
    "# Scaling\n",
    "scaler = RobustScaler()\n",
    "X_train = scaler.fit_transform(X_train)\n",
    "X_val = scaler.transform(X_val)\n",
    "\n",
    "# Tensor로 변환\n",
    "X_train_ts = torch.FloatTensor(X_train)\n",
    "X_val_ts = torch.FloatTensor(X_val)\n",
    "\n",
    "y_train_ts = torch.LongTensor(y_train.values)\n",
    "y_val_ts = torch.LongTensor(y_val.values)\n",
    "\n",
    "# 배치 학습을 위해 DataLoader 생성\n",
    "train_dataset = TensorDataset(X_train_ts, y_train_ts)\n",
    "val_dataset = TensorDataset(X_val_ts, y_val_ts)\n",
    "\n",
    "batch_size = 64\n",
    "train_loader = DataLoader(train_dataset, batch_size=batch_size, shuffle=True)\n",
    "val_loader = DataLoader(val_dataset, batch_size=batch_size, shuffle=False)\n"
   ]
  },
  {
   "cell_type": "markdown",
   "metadata": {},
   "source": [
    "2) 하이퍼파라미터 및 모델 정의"
   ]
  },
  {
   "cell_type": "code",
   "execution_count": null,
   "metadata": {},
   "outputs": [],
   "source": [
    "# Hyperparameters 설정 (실행해주세요)\n",
    "LR = 1e-3\n",
    "N_EPOCH = 500\n",
    "DROP_PROB = 0.3"
   ]
  },
  {
   "cell_type": "markdown",
   "metadata": {},
   "source": [
    "***문제 (1). 다음 코드의 모든 ??? 를 채워주세요. ***"
   ]
  },
  {
   "cell_type": "code",
   "execution_count": null,
   "metadata": {},
   "outputs": [],
   "source": [
    "# Model 정의\n",
    "class DNN(nn.Module):\n",
    "    def __init__(self):\n",
    "        super(DNN, self).__init__()\n",
    "        # Fully connected layer 정의\n",
    "         ## 첫번째 입력 크기는 X_train_ts의 열의 개수, 즉 학습 데이터의 특성 개수로 설정하고\n",
    "         ## 마지막 출력 크기는 11로 설정합니다.\n",
    "        self.fc1 = nn.Linear(X_train_ts.shape[1], 128)\n",
    "        self.fc2 = nn.Linear(128, 64)\n",
    "        self.fc3 = nn.Linear(64, 32)\n",
    "        self.fc4 = nn.Linear(32, 11)\n",
    "\n",
    "        # 활성화 함수 (ReLU) 정의\n",
    "        self.relu = nn.ReLU()\n",
    "\n",
    "        # 드롭아웃(Dropout) 정의\n",
    "        self.dropout = nn.Dropout(p=DROP_PROB)\n",
    "\n",
    "        # Xavier 초기화 적용\n",
    "        for m in self.modules():\n",
    "            if isinstance(m, nn.Linear):\n",
    "                nn.init.xavier_normal_(m.weight.data, gain=nn.init.calculate_gain('relu'))\n",
    "\n",
    "    def forward(self, x):\n",
    "        # Forward pass 정의\n",
    "        x = self.fc1(x)\n",
    "        x = self.relu(x)\n",
    "        x = self.dropout(x)\n",
    "\n",
    "        x = self.fc2(x)\n",
    "        x = self.relu(x)\n",
    "        x = self.dropout(x)\n",
    "\n",
    "        x = self.fc3(x)\n",
    "        x = self.relu(x)\n",
    "        x = self.dropout(x)\n",
    "\n",
    "        output = self.fc4(x)\n",
    "        return output\n",
    "\n",
    "# DNN 모델 인스턴스 생성\n",
    "model = DNN()\n",
    "\n",
    "# Optimizer 정의 (Adam 옵티마이저를 사용하며, 학습률은 LR로 설정합니다)\n",
    "optimizer = torch.optim.Adam(model.parameters(), lr=LR)\n",
    "\n",
    "# 손실 함수 정의 (교차 엔트로피 손실 사용)\n",
    "loss_fn = nn.CrossEntropyLoss()\n"
   ]
  },
  {
   "cell_type": "markdown",
   "metadata": {},
   "source": [
    "**문제 (2). 위 코드의 torch.nn.Dropout(p)의 의미에 대해 간략하게 설명하세요.**\n",
    "\n",
    "****dropout 기법의 목적에 대해 적어주시면 됩니다.**"
   ]
  },
  {
   "cell_type": "markdown",
   "metadata": {},
   "source": [
    "답: torch.nn.Dropout(p)는 입력을 확률 p로 무작위로 0으로 만드는 일종의 regularization 기법으로 모델이 training 데이터에 overfitting되는 것을 방지할 수 있다."
   ]
  },
  {
   "cell_type": "markdown",
   "metadata": {},
   "source": [
    "3) 모델 학습을 통해 손실과 정확도 측정 \\\n",
    "\\\n",
    "아래 코드를 실행해주세요"
   ]
  },
  {
   "cell_type": "code",
   "execution_count": null,
   "metadata": {},
   "outputs": [
    {
     "name": "stdout",
     "output_type": "stream",
     "text": [
      "Epoch:  20/500, Train Loss: 0.9286, Train Accuracy: 62.91%, Val Loss: 0.0188, Val Accuracy: 50.66%\n",
      "Epoch:  40/500, Train Loss: 0.8427, Train Accuracy: 66.19%, Val Loss: 0.0178, Val Accuracy: 55.46%\n",
      "Epoch:  60/500, Train Loss: 0.8044, Train Accuracy: 66.41%, Val Loss: 0.0176, Val Accuracy: 56.33%\n",
      "Epoch:  80/500, Train Loss: 0.7674, Train Accuracy: 68.60%, Val Loss: 0.0176, Val Accuracy: 56.77%\n",
      "Epoch: 100/500, Train Loss: 0.7405, Train Accuracy: 68.71%, Val Loss: 0.0177, Val Accuracy: 56.33%\n",
      "Epoch: 120/500, Train Loss: 0.7121, Train Accuracy: 70.02%, Val Loss: 0.0176, Val Accuracy: 58.08%\n",
      "Epoch: 140/500, Train Loss: 0.6831, Train Accuracy: 71.44%, Val Loss: 0.0177, Val Accuracy: 57.21%\n",
      "Epoch: 160/500, Train Loss: 0.6515, Train Accuracy: 75.16%, Val Loss: 0.0180, Val Accuracy: 60.70%\n",
      "Epoch: 180/500, Train Loss: 0.6264, Train Accuracy: 75.60%, Val Loss: 0.0177, Val Accuracy: 60.70%\n",
      "Epoch: 200/500, Train Loss: 0.5946, Train Accuracy: 76.15%, Val Loss: 0.0184, Val Accuracy: 60.26%\n",
      "Epoch: 220/500, Train Loss: 0.5706, Train Accuracy: 78.56%, Val Loss: 0.0184, Val Accuracy: 62.01%\n",
      "Epoch: 240/500, Train Loss: 0.5369, Train Accuracy: 79.87%, Val Loss: 0.0185, Val Accuracy: 61.57%\n",
      "Epoch: 260/500, Train Loss: 0.5168, Train Accuracy: 80.53%, Val Loss: 0.0193, Val Accuracy: 61.14%\n",
      "Epoch: 280/500, Train Loss: 0.4837, Train Accuracy: 81.84%, Val Loss: 0.0195, Val Accuracy: 64.19%\n",
      "Epoch: 300/500, Train Loss: 0.4553, Train Accuracy: 82.60%, Val Loss: 0.0197, Val Accuracy: 62.45%\n",
      "Epoch: 320/500, Train Loss: 0.4390, Train Accuracy: 83.81%, Val Loss: 0.0208, Val Accuracy: 61.14%\n",
      "Epoch: 340/500, Train Loss: 0.4175, Train Accuracy: 84.57%, Val Loss: 0.0206, Val Accuracy: 63.76%\n",
      "Epoch: 360/500, Train Loss: 0.3927, Train Accuracy: 85.67%, Val Loss: 0.0213, Val Accuracy: 61.14%\n",
      "Epoch: 380/500, Train Loss: 0.3608, Train Accuracy: 86.87%, Val Loss: 0.0221, Val Accuracy: 61.14%\n",
      "Epoch: 400/500, Train Loss: 0.3519, Train Accuracy: 87.09%, Val Loss: 0.0220, Val Accuracy: 62.01%\n",
      "Epoch: 420/500, Train Loss: 0.3245, Train Accuracy: 87.86%, Val Loss: 0.0228, Val Accuracy: 60.26%\n",
      "Epoch: 440/500, Train Loss: 0.3222, Train Accuracy: 88.73%, Val Loss: 0.0222, Val Accuracy: 62.45%\n",
      "Epoch: 460/500, Train Loss: 0.2933, Train Accuracy: 89.50%, Val Loss: 0.0236, Val Accuracy: 62.88%\n",
      "Epoch: 480/500, Train Loss: 0.2794, Train Accuracy: 90.70%, Val Loss: 0.0239, Val Accuracy: 63.76%\n",
      "Epoch: 500/500, Train Loss: 0.2643, Train Accuracy: 91.14%, Val Loss: 0.0241, Val Accuracy: 63.76%\n"
     ]
    }
   ],
   "source": [
    "# loss와 accuracy 리스트 생성\n",
    "train_losses, train_accuracies = [], []\n",
    "val_losses, val_accuracies = [], []\n",
    "\n",
    "# Training loop\n",
    "for epoch in range(1, N_EPOCH + 1):\n",
    "    model.train()\n",
    "    for batch_X, batch_y in train_loader:\n",
    "        out = model(batch_X)\n",
    "        loss = loss_fn(out, batch_y)\n",
    "\n",
    "        optimizer.zero_grad()\n",
    "        loss.backward()\n",
    "        optimizer.step()\n",
    "\n",
    "    model.eval()\n",
    "    with torch.no_grad():\n",
    "        # Training set\n",
    "        train_out = model(X_train_ts)\n",
    "        train_loss = loss_fn(train_out, y_train_ts)\n",
    "        train_acc = (torch.argmax(train_out, dim=1) == y_train_ts).float().mean().item()\n",
    "\n",
    "        # Validation set\n",
    "        val_loss, val_acc = 0.0, 0.0\n",
    "        for batch_X_val, batch_y_val in val_loader:\n",
    "            out_val = model(batch_X_val)\n",
    "            val_loss += loss_fn(out_val, batch_y_val).item()\n",
    "            val_acc += (torch.argmax(out_val, dim=1) == batch_y_val).float().sum().item()\n",
    "\n",
    "        val_loss /= len(val_loader.dataset)\n",
    "        val_acc /= len(val_loader.dataset)\n",
    "\n",
    "    # 손실값과 정확도를 리스트에 추가\n",
    "    train_losses.append(train_loss.item())\n",
    "    train_accuracies.append(train_acc * 100)\n",
    "    val_losses.append(val_loss)\n",
    "    val_accuracies.append(val_acc * 100)\n",
    "\n",
    "    if epoch % 20 == 0:\n",
    "        print('Epoch: {:3d}/{}, Train Loss: {:.4f}, Train Accuracy: {:.2f}%, Val Loss: {:.4f}, Val Accuracy: {:.2f}%'.format(\n",
    "            epoch, N_EPOCH, train_loss.item(), train_acc * 100, val_loss, val_acc * 100))\n"
   ]
  },
  {
   "cell_type": "markdown",
   "metadata": {},
   "source": [
    "***문제 (3). ???를 채워 loss와 accuracy를 시각화해주세요.**\n"
   ]
  },
  {
   "cell_type": "code",
   "execution_count": null,
   "metadata": {},
   "outputs": [
    {
     "data": {
      "image/png": "[encoded data removed]",
      "text/plain": [
       "<Figure size 1200x500 with 2 Axes>"
      ]
     },
     "metadata": {},
     "output_type": "display_data"
    }
   ],
   "source": [
    "plt.figure(figsize=(12, 5))\n",
    "\n",
    "# losses 시각화\n",
    "plt.subplot(1, 2, 1)\n",
    "plt.plot(range(1, N_EPOCH + 1), train_losses, label='Training Loss')\n",
    "plt.plot(range(1, N_EPOCH + 1), val_losses, label='Validation Loss')\n",
    "plt.xlabel('Epoch')\n",
    "plt.ylabel('Loss')\n",
    "plt.title('Training and Validation Loss Over Epochs')\n",
    "plt.legend()\n",
    "\n",
    "# accuracies 시각화\n",
    "plt.subplot(1, 2, 2)\n",
    "plt.plot(range(1, N_EPOCH + 1), train_accuracies, label='Training Accuracy')\n",
    "plt.plot(range(1, N_EPOCH + 1), val_accuracies, label='Validation Accuracy')\n",
    "plt.xlabel('Epoch')\n",
    "plt.ylabel('Accuracy (%)')\n",
    "plt.title('Training and Validation Accuracy Over Epochs')\n",
    "plt.legend()\n",
    "\n",
    "plt.show()\n"
   ]
  },
  {
   "cell_type": "markdown",
   "metadata": {},
   "source": [
    "## 문제3 (40점)"
   ]
  },
  {
   "cell_type": "markdown",
   "metadata": {},
   "source": [
    "**3-1 (10점)**\n",
    "\n",
    "1. 하나의 클래스로부터 단 하나의 객체만 생성할 수 있다.\n",
    "2. 속성은 클래스 안의 함수를 의미하며, 메소드는 클래스 안의 변수를 의미한다.  \n",
    "3. 클래스 상속이란 다른 클래스의 변수와 메소드를 물려받아 사용하는 기법이다.\n",
    "4. 자식 클래스에서 부모 클래스의 속성, 메소드를 사용할 수 있다.\n",
    "5. 파이토치는 GPU를 사용한 연산이 불가하다는 한계를 가지고 있다.\n",
    "6. tensor()과 다르게 Tensor()는 입력 데이터에 따라 데이터 type이 변한다.\n",
    "7. 파이토치에서 permute를 사용하여 여러 차원을 재배치할 수 있다.\n",
    "8. 넘파이 라이브러리에서 제공하는 np.stack 함수는 배열들을 새로운 축으로  합쳐주며, 두 배열의 차원이 동일하지 않더라도 사용 가능하다.\n",
    "9. 단어를 벡터로 바꾸어 주는 것을 임베딩이라고 한다.\n",
    "10. DataLoader 객체는 학습에 사용될 데이터 전체를 보관했다가 모델 학습을 할 때 배치 크기만큼 데이터를 꺼내서 사용한다."
   ]
  },
  {
   "cell_type": "markdown",
   "metadata": {},
   "source": [
    "**답**\n",
    "1.  X  \n",
    "2.  X\n",
    "3.  O\n",
    "4.  O\n",
    "5.  O\n",
    "6.  X\n",
    "7.  O\n",
    "8.  X\n",
    "9.  O\n",
    "10. O"
   ]
  },
  {
   "cell_type": "markdown",
   "metadata": {},
   "source": [
    "**3-2 (10점)**  \n",
    "안녕하세요, 나는 포유류 강아지입니다.\"라는 문장이 출력되도록 아래 코드를 완성하세요."
   ]
  },
  {
   "cell_type": "code",
   "execution_count": null,
   "metadata": {},
   "outputs": [
    {
     "name": "stdout",
     "output_type": "stream",
     "text": [
      "안녕하세요, 나는 포유류 강아지입니다.\n"
     ]
    }
   ],
   "source": [
    "class 동물:\n",
    "    def __init__(self, 이름, 종류):\n",
    "        self.이름 = 이름\n",
    "        self.종류 = 종류\n",
    "\n",
    "    def 소개(self):\n",
    "        return f\"안녕하세요, 나는 {self.종류} {self.이름}입니다.\"\n",
    "\n",
    "# 객체 생성 및 소개\n",
    "new_animal = 동물(\"강아지\", \"포유류\")\n",
    "print(new_animal.소개())"
   ]
  },
  {
   "cell_type": "markdown",
   "metadata": {},
   "source": [
    "**3-3 (4점)**  \n",
    "scalar 값이 들어왔을 때 tensor와 Tensor의 차이점은 무엇인가요?"
   ]
  },
  {
   "cell_type": "markdown",
   "metadata": {},
   "source": [
    "**답**  \n",
    "Tensor 는 단순 scalar 값을 넣게 되면 리스트\n",
    "안에 n개의 데이터가 랜덤으로 들어가지만 ,\n",
    " tensor는 단순 스칼라 값도 하나의 데이터로\n",
    " 인식한다."
   ]
  },
  {
   "cell_type": "markdown",
   "metadata": {},
   "source": [
    "**3-4 (6점)**  \n",
    "다음은 커스텀 데이터셋 클래스에서 사용되는 메서드에 대한 설명입니다. `__len__, __init__, __getitem__` 를 활용하여 아래의 문장을 완성하세요.\n",
    "\n",
    "**답**\n",
    "`__getitem__` 메서드는 어떤 인덱스가 주어졌을 때 해당되는 데이터를 반환하는 메서드입니다. numpy 배열이나 텐서 형식으로 반환합니다. 보통 입력과 출력을 튜플 형식으로 반환하게 됩니다.\n",
    "\n",
    "`__len__`은 학습에 사용할 데이터의 총 개수라고 볼 수 있는데, 즉 얼마만큼의 인덱스를 사용할지를 반환하는 메서드입니다.\n",
    "\n",
    "`__init__` 메서드는 객체를 생성할 때 실행되는 메서드, 즉 생성자입니다. 여기에는 모델에 사용할 데이터를 담아두는 등 어떤 인덱스가 주어졌을 때 반환할 수 있게 만드는 초기 작업을 수행합니다."
   ]
  },
  {
   "cell_type": "markdown",
   "metadata": {},
   "source": [
    "**3-5(10점)**  \n",
    "다음 출력된 결과를 바탕으로 파이토치에서 'optimizer.zero_grad()'가 필요한 이유를 간단하게 작성하세요."
   ]
  },
  {
   "cell_type": "code",
   "execution_count": null,
   "metadata": {},
   "outputs": [
    {
     "name": "stdout",
     "output_type": "stream",
     "text": [
      "수식을 w로 미분한 값 : 2.0\n",
      "수식을 w로 미분한 값 : 4.0\n",
      "수식을 w로 미분한 값 : 6.0\n",
      "수식을 w로 미분한 값 : 8.0\n",
      "수식을 w로 미분한 값 : 10.0\n",
      "수식을 w로 미분한 값 : 12.0\n",
      "수식을 w로 미분한 값 : 14.0\n",
      "수식을 w로 미분한 값 : 16.0\n",
      "수식을 w로 미분한 값 : 18.0\n",
      "수식을 w로 미분한 값 : 20.0\n",
      "수식을 w로 미분한 값 : 22.0\n",
      "수식을 w로 미분한 값 : 24.0\n",
      "수식을 w로 미분한 값 : 26.0\n",
      "수식을 w로 미분한 값 : 28.0\n",
      "수식을 w로 미분한 값 : 30.0\n",
      "수식을 w로 미분한 값 : 32.0\n",
      "수식을 w로 미분한 값 : 34.0\n",
      "수식을 w로 미분한 값 : 36.0\n",
      "수식을 w로 미분한 값 : 38.0\n",
      "수식을 w로 미분한 값 : 40.0\n",
      "수식을 w로 미분한 값 : 42.0\n"
     ]
    }
   ],
   "source": [
    "import torch\n",
    "w = torch.tensor(2.0, requires_grad=True)\n",
    "\n",
    "nb_epochs = 20\n",
    "for epoch in range(nb_epochs + 1):\n",
    "\n",
    "  z = 2*w\n",
    "\n",
    "  z.backward()\n",
    "  print('수식을 w로 미분한 값 : {}'.format(w.grad))"
   ]
  },
  {
   "cell_type": "markdown",
   "metadata": {},
   "source": [
    "**답**  \n",
    "파이토치는 미분을 통해 얻은 기울기를 이전에 계산된 기울기 값에 누적시키는 특징이 있다. 그렇기 때문에 optimizer.zero_grad()를 통해 미분값을 계속 0으로 초기화시켜줘야 한다."
   ]
  },
  {
   "cell_type": "markdown",
   "metadata": {},
   "source": [
    "## 문제4 (60점)"
   ]
  },
  {
   "cell_type": "markdown",
   "metadata": {},
   "source": [
    "4-1 (15점)\n",
    "모델의 레이어를 담고 있는 리스트 'all_layers'를 출력했을 때, 다음과 아래와 같은 결과가 나올 수 있도록 빈칸을 채워주세요.\n",
    "\n",
    "[Linear(in_features=12, out_features=200, bias=True), ReLU(inplace=True), BatchNorm1d(200, eps=1e-05, momentum=0.1, affine=True, track_running_stats=True), Dropout(p=0.4, inplace=False), Linear(in_features=200, out_features=100, bias=True), ReLU(inplace=True), BatchNorm1d(100, eps=1e-05, momentum=0.1, affine=True, track_running_stats=True), Dropout(p=0.4, inplace=False), Linear(in_features=100, out_features=50, bias=True), ReLU(inplace=True), BatchNorm1d(50, eps=1e-05, momentum=0.1, affine=True, track_running_stats=True), Dropout(p=0.4, inplace=False), Linear(in_features=50, out_features=4, bias=True)]"
   ]
  },
  {
   "cell_type": "code",
   "execution_count": null,
   "metadata": {},
   "outputs": [],
   "source": [
    "#문제X\n",
    "import torch\n",
    "import torch.nn as nn\n",
    "import numpy as np\n",
    "import pandas as pd\n",
    "import matplotlib.pyplot as plt\n",
    "import seaborn as sns\n",
    "%matplotlib inline\n",
    "from google.colab import files\n",
    "\n",
    "dataset = pd.read_csv('car_evaluation.csv')\n",
    "\n",
    "categorical_columns = ['price', 'maint', 'doors', 'persons', 'lug_capacity', 'safety']\n",
    "for category in categorical_columns:\n",
    "    dataset[category] = dataset[category].astype('category')\n",
    "price = dataset['price'].cat.codes.values\n",
    "maint = dataset['maint'].cat.codes.values\n",
    "doors = dataset['doors'].cat.codes.values\n",
    "persons = dataset['persons'].cat.codes.values\n",
    "lug_capacity = dataset['lug_capacity'].cat.codes.values\n",
    "safety = dataset['safety'].cat.codes.values\n",
    "categorical_data = np.stack([price, maint, doors, persons, lug_capacity, safety], 1)\n",
    "categorical_data = torch.tensor(categorical_data, dtype=torch.int64)\n",
    "\n",
    "outputs = pd.get_dummies(dataset.output)\n",
    "outputs = outputs.values\n",
    "outputs = torch.tensor(outputs).flatten()\n",
    "\n",
    "categorical_column_sizes = [len(dataset[column].cat.categories) for column in categorical_columns]\n",
    "categorical_embedding_sizes = [(col_size, min(50, (col_size+1)//2)) for col_size in categorical_column_sizes]\n",
    "\n",
    "total_records = 1728\n",
    "test_records = int(total_records * .2)\n",
    "\n",
    "categorical_train_data = categorical_data[:total_records-test_records]\n",
    "categorical_test_data = categorical_data[total_records-test_records:total_records]\n",
    "train_outputs = outputs[:total_records-test_records]\n",
    "test_outputs = outputs[total_records-test_records:total_records]"
   ]
  },
  {
   "cell_type": "code",
   "execution_count": null,
   "metadata": {},
   "outputs": [],
   "source": [
    "#문제\n",
    "class Model(nn.Module):\n",
    "    def __init__(self, embedding_size, output_size, layers, p=0.4):\n",
    "        super().__init__()\n",
    "        self.all_embeddings = nn.ModuleList([nn.Embedding(ni, nf) for ni, nf in embedding_size])\n",
    "        self.embedding_dropout = nn.Dropout(p)\n",
    "\n",
    "        all_layers = []\n",
    "        num_categorical_cols = sum((nf for ni, nf in embedding_size))\n",
    "        input_size = num_categorical_cols\n",
    "\n",
    "        for i in layers:\n",
    "            all_layers.append(nn.Linear(input_size, i))\n",
    "            all_layers.append(nn.ReLU(inplace=True))\n",
    "            all_layers.append(nn.BatchNorm1d(i))\n",
    "            all_layers.append(nn.Dropout(p))\n",
    "            input_size = i\n",
    "\n",
    "        all_layers.append(nn.Linear(layers[-1], output_size))\n",
    "        self.layers = nn.Sequential(*all_layers)\n",
    "\n",
    "    def forward(self, x_categorical):\n",
    "        embeddings = []\n",
    "        for i,e in enumerate(self.all_embeddings):\n",
    "            embeddings.append(e(x_categorical[:,i]))\n",
    "        x = torch.cat(embeddings, 1)\n",
    "        x = self.embedding_dropout(x)\n",
    "        x = self.layers(x)\n",
    "        return x"
   ]
  },
  {
   "cell_type": "markdown",
   "metadata": {},
   "source": [
    "**4-2**(15점)\n",
    "아래의 함수와 동일한 기능(동일한 출력값)을 하는 클래스를 완성하세요."
   ]
  },
  {
   "cell_type": "code",
   "execution_count": null,
   "metadata": {},
   "outputs": [
    {
     "name": "stdout",
     "output_type": "stream",
     "text": [
      "3\n",
      "7\n",
      "3\n",
      "10\n"
     ]
    }
   ],
   "source": [
    "#문제X\n",
    "result1 = 0\n",
    "result2 = 0\n",
    "\n",
    "def add1(num):\n",
    "    global result1\n",
    "    result1 += num\n",
    "    return result1\n",
    "\n",
    "def add2(num):\n",
    "    global result2\n",
    "    result2 += num\n",
    "    return result2\n",
    "\n",
    "#출력\n",
    "print(add1(3))\n",
    "print(add1(4))\n",
    "print(add2(3))\n",
    "print(add2(7))"
   ]
  },
  {
   "cell_type": "code",
   "execution_count": null,
   "metadata": {},
   "outputs": [
    {
     "name": "stdout",
     "output_type": "stream",
     "text": [
      "3\n",
      "7\n",
      "3\n",
      "10\n"
     ]
    }
   ],
   "source": [
    "class Calculator:\n",
    "    def __init__(self):\n",
    "        self.result = 0\n",
    "\n",
    "    def add(self, num):\n",
    "        self.result += num\n",
    "        return self.result\n",
    "\n",
    "\n",
    "cal1 = Calculator()\n",
    "cal2 = Calculator()\n",
    "\n",
    "#출력\n",
    "print(cal1.add(3))\n",
    "print(cal1.add(4))\n",
    "print(cal2.add(3))\n",
    "print(cal2.add(7))"
   ]
  },
  {
   "cell_type": "markdown",
   "metadata": {},
   "source": [
    "**4-3** (15점)  \n",
    "다음은 선형 회귀 모델을 생성하는 코드입니다. 해당 model이 학습되기 이전 초기 상태의 가중치와 편향을 확인할 수 있는 코드를 완성하고 그 값을 출력하세요."
   ]
  },
  {
   "cell_type": "code",
   "execution_count": null,
   "metadata": {},
   "outputs": [],
   "source": [
    "import torch\n",
    "import torch.nn as nn\n",
    "import torch.nn.functional as F\n",
    "\n",
    "torch.manual_seed(1)\n",
    "\n",
    "# 데이터\n",
    "x_train = torch.FloatTensor([[73, 80, 75],\n",
    "                             [93, 88, 93],\n",
    "                             [89, 91, 90],\n",
    "                             [96, 98, 100],\n",
    "                             [73, 66, 70]])\n",
    "y_train = torch.FloatTensor([[152], [185], [180], [196], [142]])\n",
    "\n",
    "model = nn.Linear(3,1)\n",
    "\n",
    "optimizer = torch.optim.SGD(model.parameters(), lr=1e-5)"
   ]
  },
  {
   "cell_type": "code",
   "execution_count": null,
   "metadata": {},
   "outputs": [],
   "source": [
    "# your code\n",
    "\n",
    "#답1\n",
    "print(\"가중치(weight):\", model.weight)\n",
    "print(\"편향(bias):\", model.bias)\n",
    "\n",
    "print('====================================')\n",
    "\n",
    "#답2\n",
    "print(list(model.parameters()))\n",
    "\n",
    "#둘 중 하나만 쓰면 됨. 가중치는 3개 모두 작성해야 정답 인정\n"
   ]
  },
  {
   "cell_type": "markdown",
   "metadata": {},
   "source": [
    "**4-4 (15점)**  \n",
    "아래의 코드는 단순 선형 회귀 모델을 클래스로 구현하고 있습니다. 빈칸을 채워 코드를 완성하세요."
   ]
  },
  {
   "cell_type": "code",
   "execution_count": null,
   "metadata": {},
   "outputs": [],
   "source": [
    "import torch\n",
    "import torch.nn as nn\n",
    "import torch.nn.functional as F\n",
    "\n",
    "torch.manual_seed(1)\n",
    "\n",
    "x_train = torch.FloatTensor([[1], [2], [3]])\n",
    "y_train = torch.FloatTensor([[2], [4], [6]])\n",
    "\n",
    "class LinearRegressionModel(nn.Module):\n",
    "    def __init__(self):\n",
    "        super().__init__()\n",
    "        self.linear = nn.Linear(1, 1)\n",
    "\n",
    "    def forward(self, x):\n",
    "        return self.linear(x)\n",
    "\n",
    "model = LinearRegressionModel()\n",
    "\n",
    "optimizer = torch.optim.SGD(model.parameters(), lr=0.01)\n",
    "\n",
    "nb_epochs = 2000\n",
    "for epoch in range(nb_epochs+1):\n",
    "\n",
    "    prediction = model(x_train)\n",
    "\n",
    "    cost = F.mse_loss(prediction, y_train)\n",
    "\n",
    "    optimizer.zero_grad()\n",
    "    cost.backward()\n",
    "    optimizer.step()\n",
    "\n",
    "    if epoch % 100 == 0:\n",
    "      print('Epoch {:4d}/{} Cost: {:.6f}'.format(\n",
    "          epoch, nb_epochs, cost.item()\n",
    "      ))"
   ]
  }
 ],
 "metadata": {
  "language_info": {
   "name": "python"
  }
 },
 "nbformat": 4,
 "nbformat_minor": 2
}
